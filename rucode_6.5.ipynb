{
  "nbformat": 4,
  "nbformat_minor": 0,
  "metadata": {
    "colab": {
      "provenance": [],
      "gpuType": "T4",
      "collapsed_sections": [
        "xa5bqKqEWpZn"
      ]
    },
    "kernelspec": {
      "name": "python3",
      "display_name": "Python 3"
    },
    "language_info": {
      "name": "python"
    },
    "accelerator": "GPU",
    "gpuClass": "standard",
    "widgets": {
      "application/vnd.jupyter.widget-state+json": {
        "425ee3af3ed54242b97ce2cd76f82715": {
          "model_module": "@jupyter-widgets/controls",
          "model_name": "HBoxModel",
          "model_module_version": "1.5.0",
          "state": {
            "_dom_classes": [],
            "_model_module": "@jupyter-widgets/controls",
            "_model_module_version": "1.5.0",
            "_model_name": "HBoxModel",
            "_view_count": null,
            "_view_module": "@jupyter-widgets/controls",
            "_view_module_version": "1.5.0",
            "_view_name": "HBoxView",
            "box_style": "",
            "children": [
              "IPY_MODEL_9017c04dcbae40758b95387584589307",
              "IPY_MODEL_5fe0c4974a344977b66be7b536ebe277",
              "IPY_MODEL_c78748b129854f86b09a0692099e28e3"
            ],
            "layout": "IPY_MODEL_8a0aaadf7b8742b6b6159153fd506c1f"
          }
        },
        "9017c04dcbae40758b95387584589307": {
          "model_module": "@jupyter-widgets/controls",
          "model_name": "HTMLModel",
          "model_module_version": "1.5.0",
          "state": {
            "_dom_classes": [],
            "_model_module": "@jupyter-widgets/controls",
            "_model_module_version": "1.5.0",
            "_model_name": "HTMLModel",
            "_view_count": null,
            "_view_module": "@jupyter-widgets/controls",
            "_view_module_version": "1.5.0",
            "_view_name": "HTMLView",
            "description": "",
            "description_tooltip": null,
            "layout": "IPY_MODEL_6fff2dc85a2349aebeae691a40eaa015",
            "placeholder": "​",
            "style": "IPY_MODEL_28ca6a7879a946abb11b55016a6c7bb3",
            "value": "  0%"
          }
        },
        "5fe0c4974a344977b66be7b536ebe277": {
          "model_module": "@jupyter-widgets/controls",
          "model_name": "FloatProgressModel",
          "model_module_version": "1.5.0",
          "state": {
            "_dom_classes": [],
            "_model_module": "@jupyter-widgets/controls",
            "_model_module_version": "1.5.0",
            "_model_name": "FloatProgressModel",
            "_view_count": null,
            "_view_module": "@jupyter-widgets/controls",
            "_view_module_version": "1.5.0",
            "_view_name": "ProgressView",
            "bar_style": "danger",
            "description": "",
            "description_tooltip": null,
            "layout": "IPY_MODEL_b9c820f01edb4d2f959831b263a40278",
            "max": 2482,
            "min": 0,
            "orientation": "horizontal",
            "style": "IPY_MODEL_f2914f41b9844e478f2247626d2b15d9",
            "value": 5
          }
        },
        "c78748b129854f86b09a0692099e28e3": {
          "model_module": "@jupyter-widgets/controls",
          "model_name": "HTMLModel",
          "model_module_version": "1.5.0",
          "state": {
            "_dom_classes": [],
            "_model_module": "@jupyter-widgets/controls",
            "_model_module_version": "1.5.0",
            "_model_name": "HTMLModel",
            "_view_count": null,
            "_view_module": "@jupyter-widgets/controls",
            "_view_module_version": "1.5.0",
            "_view_name": "HTMLView",
            "description": "",
            "description_tooltip": null,
            "layout": "IPY_MODEL_5680328200b249cd9756bcb5c4b7af79",
            "placeholder": "​",
            "style": "IPY_MODEL_b542e07ea759465a900011095c8a1f96",
            "value": " 5/2482 [00:05&lt;39:34,  1.04it/s]"
          }
        },
        "8a0aaadf7b8742b6b6159153fd506c1f": {
          "model_module": "@jupyter-widgets/base",
          "model_name": "LayoutModel",
          "model_module_version": "1.2.0",
          "state": {
            "_model_module": "@jupyter-widgets/base",
            "_model_module_version": "1.2.0",
            "_model_name": "LayoutModel",
            "_view_count": null,
            "_view_module": "@jupyter-widgets/base",
            "_view_module_version": "1.2.0",
            "_view_name": "LayoutView",
            "align_content": null,
            "align_items": null,
            "align_self": null,
            "border": null,
            "bottom": null,
            "display": null,
            "flex": null,
            "flex_flow": null,
            "grid_area": null,
            "grid_auto_columns": null,
            "grid_auto_flow": null,
            "grid_auto_rows": null,
            "grid_column": null,
            "grid_gap": null,
            "grid_row": null,
            "grid_template_areas": null,
            "grid_template_columns": null,
            "grid_template_rows": null,
            "height": null,
            "justify_content": null,
            "justify_items": null,
            "left": null,
            "margin": null,
            "max_height": null,
            "max_width": null,
            "min_height": null,
            "min_width": null,
            "object_fit": null,
            "object_position": null,
            "order": null,
            "overflow": null,
            "overflow_x": null,
            "overflow_y": null,
            "padding": null,
            "right": null,
            "top": null,
            "visibility": null,
            "width": null
          }
        },
        "6fff2dc85a2349aebeae691a40eaa015": {
          "model_module": "@jupyter-widgets/base",
          "model_name": "LayoutModel",
          "model_module_version": "1.2.0",
          "state": {
            "_model_module": "@jupyter-widgets/base",
            "_model_module_version": "1.2.0",
            "_model_name": "LayoutModel",
            "_view_count": null,
            "_view_module": "@jupyter-widgets/base",
            "_view_module_version": "1.2.0",
            "_view_name": "LayoutView",
            "align_content": null,
            "align_items": null,
            "align_self": null,
            "border": null,
            "bottom": null,
            "display": null,
            "flex": null,
            "flex_flow": null,
            "grid_area": null,
            "grid_auto_columns": null,
            "grid_auto_flow": null,
            "grid_auto_rows": null,
            "grid_column": null,
            "grid_gap": null,
            "grid_row": null,
            "grid_template_areas": null,
            "grid_template_columns": null,
            "grid_template_rows": null,
            "height": null,
            "justify_content": null,
            "justify_items": null,
            "left": null,
            "margin": null,
            "max_height": null,
            "max_width": null,
            "min_height": null,
            "min_width": null,
            "object_fit": null,
            "object_position": null,
            "order": null,
            "overflow": null,
            "overflow_x": null,
            "overflow_y": null,
            "padding": null,
            "right": null,
            "top": null,
            "visibility": null,
            "width": null
          }
        },
        "28ca6a7879a946abb11b55016a6c7bb3": {
          "model_module": "@jupyter-widgets/controls",
          "model_name": "DescriptionStyleModel",
          "model_module_version": "1.5.0",
          "state": {
            "_model_module": "@jupyter-widgets/controls",
            "_model_module_version": "1.5.0",
            "_model_name": "DescriptionStyleModel",
            "_view_count": null,
            "_view_module": "@jupyter-widgets/base",
            "_view_module_version": "1.2.0",
            "_view_name": "StyleView",
            "description_width": ""
          }
        },
        "b9c820f01edb4d2f959831b263a40278": {
          "model_module": "@jupyter-widgets/base",
          "model_name": "LayoutModel",
          "model_module_version": "1.2.0",
          "state": {
            "_model_module": "@jupyter-widgets/base",
            "_model_module_version": "1.2.0",
            "_model_name": "LayoutModel",
            "_view_count": null,
            "_view_module": "@jupyter-widgets/base",
            "_view_module_version": "1.2.0",
            "_view_name": "LayoutView",
            "align_content": null,
            "align_items": null,
            "align_self": null,
            "border": null,
            "bottom": null,
            "display": null,
            "flex": null,
            "flex_flow": null,
            "grid_area": null,
            "grid_auto_columns": null,
            "grid_auto_flow": null,
            "grid_auto_rows": null,
            "grid_column": null,
            "grid_gap": null,
            "grid_row": null,
            "grid_template_areas": null,
            "grid_template_columns": null,
            "grid_template_rows": null,
            "height": null,
            "justify_content": null,
            "justify_items": null,
            "left": null,
            "margin": null,
            "max_height": null,
            "max_width": null,
            "min_height": null,
            "min_width": null,
            "object_fit": null,
            "object_position": null,
            "order": null,
            "overflow": null,
            "overflow_x": null,
            "overflow_y": null,
            "padding": null,
            "right": null,
            "top": null,
            "visibility": null,
            "width": null
          }
        },
        "f2914f41b9844e478f2247626d2b15d9": {
          "model_module": "@jupyter-widgets/controls",
          "model_name": "ProgressStyleModel",
          "model_module_version": "1.5.0",
          "state": {
            "_model_module": "@jupyter-widgets/controls",
            "_model_module_version": "1.5.0",
            "_model_name": "ProgressStyleModel",
            "_view_count": null,
            "_view_module": "@jupyter-widgets/base",
            "_view_module_version": "1.2.0",
            "_view_name": "StyleView",
            "bar_color": null,
            "description_width": ""
          }
        },
        "5680328200b249cd9756bcb5c4b7af79": {
          "model_module": "@jupyter-widgets/base",
          "model_name": "LayoutModel",
          "model_module_version": "1.2.0",
          "state": {
            "_model_module": "@jupyter-widgets/base",
            "_model_module_version": "1.2.0",
            "_model_name": "LayoutModel",
            "_view_count": null,
            "_view_module": "@jupyter-widgets/base",
            "_view_module_version": "1.2.0",
            "_view_name": "LayoutView",
            "align_content": null,
            "align_items": null,
            "align_self": null,
            "border": null,
            "bottom": null,
            "display": null,
            "flex": null,
            "flex_flow": null,
            "grid_area": null,
            "grid_auto_columns": null,
            "grid_auto_flow": null,
            "grid_auto_rows": null,
            "grid_column": null,
            "grid_gap": null,
            "grid_row": null,
            "grid_template_areas": null,
            "grid_template_columns": null,
            "grid_template_rows": null,
            "height": null,
            "justify_content": null,
            "justify_items": null,
            "left": null,
            "margin": null,
            "max_height": null,
            "max_width": null,
            "min_height": null,
            "min_width": null,
            "object_fit": null,
            "object_position": null,
            "order": null,
            "overflow": null,
            "overflow_x": null,
            "overflow_y": null,
            "padding": null,
            "right": null,
            "top": null,
            "visibility": null,
            "width": null
          }
        },
        "b542e07ea759465a900011095c8a1f96": {
          "model_module": "@jupyter-widgets/controls",
          "model_name": "DescriptionStyleModel",
          "model_module_version": "1.5.0",
          "state": {
            "_model_module": "@jupyter-widgets/controls",
            "_model_module_version": "1.5.0",
            "_model_name": "DescriptionStyleModel",
            "_view_count": null,
            "_view_module": "@jupyter-widgets/base",
            "_view_module_version": "1.2.0",
            "_view_name": "StyleView",
            "description_width": ""
          }
        },
        "fc52f01579c3434c81b78fe946f54f88": {
          "model_module": "@jupyter-widgets/controls",
          "model_name": "HBoxModel",
          "model_module_version": "1.5.0",
          "state": {
            "_dom_classes": [],
            "_model_module": "@jupyter-widgets/controls",
            "_model_module_version": "1.5.0",
            "_model_name": "HBoxModel",
            "_view_count": null,
            "_view_module": "@jupyter-widgets/controls",
            "_view_module_version": "1.5.0",
            "_view_name": "HBoxView",
            "box_style": "",
            "children": [
              "IPY_MODEL_a3ec42d7ec754f089470c49021d1c20e",
              "IPY_MODEL_51add46734a3441981a6262a488c4862",
              "IPY_MODEL_ac9a4fc6f7a34dcf989657a595802aae"
            ],
            "layout": "IPY_MODEL_5a1e3ce5074f4dfa85c840aeddf4ad79"
          }
        },
        "a3ec42d7ec754f089470c49021d1c20e": {
          "model_module": "@jupyter-widgets/controls",
          "model_name": "HTMLModel",
          "model_module_version": "1.5.0",
          "state": {
            "_dom_classes": [],
            "_model_module": "@jupyter-widgets/controls",
            "_model_module_version": "1.5.0",
            "_model_name": "HTMLModel",
            "_view_count": null,
            "_view_module": "@jupyter-widgets/controls",
            "_view_module_version": "1.5.0",
            "_view_name": "HTMLView",
            "description": "",
            "description_tooltip": null,
            "layout": "IPY_MODEL_46cde724d17641bc906fd6ed4dbba07b",
            "placeholder": "​",
            "style": "IPY_MODEL_95992d8bb2144c37ba65f910318e3bff",
            "value": "100%"
          }
        },
        "51add46734a3441981a6262a488c4862": {
          "model_module": "@jupyter-widgets/controls",
          "model_name": "FloatProgressModel",
          "model_module_version": "1.5.0",
          "state": {
            "_dom_classes": [],
            "_model_module": "@jupyter-widgets/controls",
            "_model_module_version": "1.5.0",
            "_model_name": "FloatProgressModel",
            "_view_count": null,
            "_view_module": "@jupyter-widgets/controls",
            "_view_module_version": "1.5.0",
            "_view_name": "ProgressView",
            "bar_style": "success",
            "description": "",
            "description_tooltip": null,
            "layout": "IPY_MODEL_afa581018bf6471abb5731e02ff640fd",
            "max": 311,
            "min": 0,
            "orientation": "horizontal",
            "style": "IPY_MODEL_7ff7f736db214a93872b42e06f574281",
            "value": 311
          }
        },
        "ac9a4fc6f7a34dcf989657a595802aae": {
          "model_module": "@jupyter-widgets/controls",
          "model_name": "HTMLModel",
          "model_module_version": "1.5.0",
          "state": {
            "_dom_classes": [],
            "_model_module": "@jupyter-widgets/controls",
            "_model_module_version": "1.5.0",
            "_model_name": "HTMLModel",
            "_view_count": null,
            "_view_module": "@jupyter-widgets/controls",
            "_view_module_version": "1.5.0",
            "_view_name": "HTMLView",
            "description": "",
            "description_tooltip": null,
            "layout": "IPY_MODEL_7a2b283411d2404e82216d7349e05fb8",
            "placeholder": "​",
            "style": "IPY_MODEL_3d4a5e8f06d14d4e97ff34fc8080da94",
            "value": " 311/311 [00:09&lt;00:00, 37.80it/s]"
          }
        },
        "5a1e3ce5074f4dfa85c840aeddf4ad79": {
          "model_module": "@jupyter-widgets/base",
          "model_name": "LayoutModel",
          "model_module_version": "1.2.0",
          "state": {
            "_model_module": "@jupyter-widgets/base",
            "_model_module_version": "1.2.0",
            "_model_name": "LayoutModel",
            "_view_count": null,
            "_view_module": "@jupyter-widgets/base",
            "_view_module_version": "1.2.0",
            "_view_name": "LayoutView",
            "align_content": null,
            "align_items": null,
            "align_self": null,
            "border": null,
            "bottom": null,
            "display": null,
            "flex": null,
            "flex_flow": null,
            "grid_area": null,
            "grid_auto_columns": null,
            "grid_auto_flow": null,
            "grid_auto_rows": null,
            "grid_column": null,
            "grid_gap": null,
            "grid_row": null,
            "grid_template_areas": null,
            "grid_template_columns": null,
            "grid_template_rows": null,
            "height": null,
            "justify_content": null,
            "justify_items": null,
            "left": null,
            "margin": null,
            "max_height": null,
            "max_width": null,
            "min_height": null,
            "min_width": null,
            "object_fit": null,
            "object_position": null,
            "order": null,
            "overflow": null,
            "overflow_x": null,
            "overflow_y": null,
            "padding": null,
            "right": null,
            "top": null,
            "visibility": null,
            "width": null
          }
        },
        "46cde724d17641bc906fd6ed4dbba07b": {
          "model_module": "@jupyter-widgets/base",
          "model_name": "LayoutModel",
          "model_module_version": "1.2.0",
          "state": {
            "_model_module": "@jupyter-widgets/base",
            "_model_module_version": "1.2.0",
            "_model_name": "LayoutModel",
            "_view_count": null,
            "_view_module": "@jupyter-widgets/base",
            "_view_module_version": "1.2.0",
            "_view_name": "LayoutView",
            "align_content": null,
            "align_items": null,
            "align_self": null,
            "border": null,
            "bottom": null,
            "display": null,
            "flex": null,
            "flex_flow": null,
            "grid_area": null,
            "grid_auto_columns": null,
            "grid_auto_flow": null,
            "grid_auto_rows": null,
            "grid_column": null,
            "grid_gap": null,
            "grid_row": null,
            "grid_template_areas": null,
            "grid_template_columns": null,
            "grid_template_rows": null,
            "height": null,
            "justify_content": null,
            "justify_items": null,
            "left": null,
            "margin": null,
            "max_height": null,
            "max_width": null,
            "min_height": null,
            "min_width": null,
            "object_fit": null,
            "object_position": null,
            "order": null,
            "overflow": null,
            "overflow_x": null,
            "overflow_y": null,
            "padding": null,
            "right": null,
            "top": null,
            "visibility": null,
            "width": null
          }
        },
        "95992d8bb2144c37ba65f910318e3bff": {
          "model_module": "@jupyter-widgets/controls",
          "model_name": "DescriptionStyleModel",
          "model_module_version": "1.5.0",
          "state": {
            "_model_module": "@jupyter-widgets/controls",
            "_model_module_version": "1.5.0",
            "_model_name": "DescriptionStyleModel",
            "_view_count": null,
            "_view_module": "@jupyter-widgets/base",
            "_view_module_version": "1.2.0",
            "_view_name": "StyleView",
            "description_width": ""
          }
        },
        "afa581018bf6471abb5731e02ff640fd": {
          "model_module": "@jupyter-widgets/base",
          "model_name": "LayoutModel",
          "model_module_version": "1.2.0",
          "state": {
            "_model_module": "@jupyter-widgets/base",
            "_model_module_version": "1.2.0",
            "_model_name": "LayoutModel",
            "_view_count": null,
            "_view_module": "@jupyter-widgets/base",
            "_view_module_version": "1.2.0",
            "_view_name": "LayoutView",
            "align_content": null,
            "align_items": null,
            "align_self": null,
            "border": null,
            "bottom": null,
            "display": null,
            "flex": null,
            "flex_flow": null,
            "grid_area": null,
            "grid_auto_columns": null,
            "grid_auto_flow": null,
            "grid_auto_rows": null,
            "grid_column": null,
            "grid_gap": null,
            "grid_row": null,
            "grid_template_areas": null,
            "grid_template_columns": null,
            "grid_template_rows": null,
            "height": null,
            "justify_content": null,
            "justify_items": null,
            "left": null,
            "margin": null,
            "max_height": null,
            "max_width": null,
            "min_height": null,
            "min_width": null,
            "object_fit": null,
            "object_position": null,
            "order": null,
            "overflow": null,
            "overflow_x": null,
            "overflow_y": null,
            "padding": null,
            "right": null,
            "top": null,
            "visibility": null,
            "width": null
          }
        },
        "7ff7f736db214a93872b42e06f574281": {
          "model_module": "@jupyter-widgets/controls",
          "model_name": "ProgressStyleModel",
          "model_module_version": "1.5.0",
          "state": {
            "_model_module": "@jupyter-widgets/controls",
            "_model_module_version": "1.5.0",
            "_model_name": "ProgressStyleModel",
            "_view_count": null,
            "_view_module": "@jupyter-widgets/base",
            "_view_module_version": "1.2.0",
            "_view_name": "StyleView",
            "bar_color": null,
            "description_width": ""
          }
        },
        "7a2b283411d2404e82216d7349e05fb8": {
          "model_module": "@jupyter-widgets/base",
          "model_name": "LayoutModel",
          "model_module_version": "1.2.0",
          "state": {
            "_model_module": "@jupyter-widgets/base",
            "_model_module_version": "1.2.0",
            "_model_name": "LayoutModel",
            "_view_count": null,
            "_view_module": "@jupyter-widgets/base",
            "_view_module_version": "1.2.0",
            "_view_name": "LayoutView",
            "align_content": null,
            "align_items": null,
            "align_self": null,
            "border": null,
            "bottom": null,
            "display": null,
            "flex": null,
            "flex_flow": null,
            "grid_area": null,
            "grid_auto_columns": null,
            "grid_auto_flow": null,
            "grid_auto_rows": null,
            "grid_column": null,
            "grid_gap": null,
            "grid_row": null,
            "grid_template_areas": null,
            "grid_template_columns": null,
            "grid_template_rows": null,
            "height": null,
            "justify_content": null,
            "justify_items": null,
            "left": null,
            "margin": null,
            "max_height": null,
            "max_width": null,
            "min_height": null,
            "min_width": null,
            "object_fit": null,
            "object_position": null,
            "order": null,
            "overflow": null,
            "overflow_x": null,
            "overflow_y": null,
            "padding": null,
            "right": null,
            "top": null,
            "visibility": null,
            "width": null
          }
        },
        "3d4a5e8f06d14d4e97ff34fc8080da94": {
          "model_module": "@jupyter-widgets/controls",
          "model_name": "DescriptionStyleModel",
          "model_module_version": "1.5.0",
          "state": {
            "_model_module": "@jupyter-widgets/controls",
            "_model_module_version": "1.5.0",
            "_model_name": "DescriptionStyleModel",
            "_view_count": null,
            "_view_module": "@jupyter-widgets/base",
            "_view_module_version": "1.2.0",
            "_view_name": "StyleView",
            "description_width": ""
          }
        },
        "afd3349981aa428787957f3f966a32e6": {
          "model_module": "@jupyter-widgets/controls",
          "model_name": "HBoxModel",
          "model_module_version": "1.5.0",
          "state": {
            "_dom_classes": [],
            "_model_module": "@jupyter-widgets/controls",
            "_model_module_version": "1.5.0",
            "_model_name": "HBoxModel",
            "_view_count": null,
            "_view_module": "@jupyter-widgets/controls",
            "_view_module_version": "1.5.0",
            "_view_name": "HBoxView",
            "box_style": "",
            "children": [
              "IPY_MODEL_748efc5cb3d24020b53de851ae3eda50",
              "IPY_MODEL_d7c8f01ea9664c20abb6ef420c6e03da",
              "IPY_MODEL_522279e9707f42b79af2cc0732841ff3"
            ],
            "layout": "IPY_MODEL_46beb302ec484c31a83a3db792bbb135"
          }
        },
        "748efc5cb3d24020b53de851ae3eda50": {
          "model_module": "@jupyter-widgets/controls",
          "model_name": "HTMLModel",
          "model_module_version": "1.5.0",
          "state": {
            "_dom_classes": [],
            "_model_module": "@jupyter-widgets/controls",
            "_model_module_version": "1.5.0",
            "_model_name": "HTMLModel",
            "_view_count": null,
            "_view_module": "@jupyter-widgets/controls",
            "_view_module_version": "1.5.0",
            "_view_name": "HTMLView",
            "description": "",
            "description_tooltip": null,
            "layout": "IPY_MODEL_282085e3c97f4c43b822c43eab3e4b34",
            "placeholder": "​",
            "style": "IPY_MODEL_947a42fc061e43379b1a34d6b8355444",
            "value": "Epoch 2 of 2: 100%"
          }
        },
        "d7c8f01ea9664c20abb6ef420c6e03da": {
          "model_module": "@jupyter-widgets/controls",
          "model_name": "FloatProgressModel",
          "model_module_version": "1.5.0",
          "state": {
            "_dom_classes": [],
            "_model_module": "@jupyter-widgets/controls",
            "_model_module_version": "1.5.0",
            "_model_name": "FloatProgressModel",
            "_view_count": null,
            "_view_module": "@jupyter-widgets/controls",
            "_view_module_version": "1.5.0",
            "_view_name": "ProgressView",
            "bar_style": "success",
            "description": "",
            "description_tooltip": null,
            "layout": "IPY_MODEL_62b8a687e93340429512a4bbf6fae5ed",
            "max": 2,
            "min": 0,
            "orientation": "horizontal",
            "style": "IPY_MODEL_e910506bd5cf4cdda855f9e0013e2732",
            "value": 2
          }
        },
        "522279e9707f42b79af2cc0732841ff3": {
          "model_module": "@jupyter-widgets/controls",
          "model_name": "HTMLModel",
          "model_module_version": "1.5.0",
          "state": {
            "_dom_classes": [],
            "_model_module": "@jupyter-widgets/controls",
            "_model_module_version": "1.5.0",
            "_model_name": "HTMLModel",
            "_view_count": null,
            "_view_module": "@jupyter-widgets/controls",
            "_view_module_version": "1.5.0",
            "_view_name": "HTMLView",
            "description": "",
            "description_tooltip": null,
            "layout": "IPY_MODEL_9f4334800d8b49a5beb0cca10162778b",
            "placeholder": "​",
            "style": "IPY_MODEL_bf6e4219ff7646589b1d4150508fef89",
            "value": " 2/2 [12:42&lt;00:00, 377.35s/it]"
          }
        },
        "46beb302ec484c31a83a3db792bbb135": {
          "model_module": "@jupyter-widgets/base",
          "model_name": "LayoutModel",
          "model_module_version": "1.2.0",
          "state": {
            "_model_module": "@jupyter-widgets/base",
            "_model_module_version": "1.2.0",
            "_model_name": "LayoutModel",
            "_view_count": null,
            "_view_module": "@jupyter-widgets/base",
            "_view_module_version": "1.2.0",
            "_view_name": "LayoutView",
            "align_content": null,
            "align_items": null,
            "align_self": null,
            "border": null,
            "bottom": null,
            "display": null,
            "flex": null,
            "flex_flow": null,
            "grid_area": null,
            "grid_auto_columns": null,
            "grid_auto_flow": null,
            "grid_auto_rows": null,
            "grid_column": null,
            "grid_gap": null,
            "grid_row": null,
            "grid_template_areas": null,
            "grid_template_columns": null,
            "grid_template_rows": null,
            "height": null,
            "justify_content": null,
            "justify_items": null,
            "left": null,
            "margin": null,
            "max_height": null,
            "max_width": null,
            "min_height": null,
            "min_width": null,
            "object_fit": null,
            "object_position": null,
            "order": null,
            "overflow": null,
            "overflow_x": null,
            "overflow_y": null,
            "padding": null,
            "right": null,
            "top": null,
            "visibility": null,
            "width": null
          }
        },
        "282085e3c97f4c43b822c43eab3e4b34": {
          "model_module": "@jupyter-widgets/base",
          "model_name": "LayoutModel",
          "model_module_version": "1.2.0",
          "state": {
            "_model_module": "@jupyter-widgets/base",
            "_model_module_version": "1.2.0",
            "_model_name": "LayoutModel",
            "_view_count": null,
            "_view_module": "@jupyter-widgets/base",
            "_view_module_version": "1.2.0",
            "_view_name": "LayoutView",
            "align_content": null,
            "align_items": null,
            "align_self": null,
            "border": null,
            "bottom": null,
            "display": null,
            "flex": null,
            "flex_flow": null,
            "grid_area": null,
            "grid_auto_columns": null,
            "grid_auto_flow": null,
            "grid_auto_rows": null,
            "grid_column": null,
            "grid_gap": null,
            "grid_row": null,
            "grid_template_areas": null,
            "grid_template_columns": null,
            "grid_template_rows": null,
            "height": null,
            "justify_content": null,
            "justify_items": null,
            "left": null,
            "margin": null,
            "max_height": null,
            "max_width": null,
            "min_height": null,
            "min_width": null,
            "object_fit": null,
            "object_position": null,
            "order": null,
            "overflow": null,
            "overflow_x": null,
            "overflow_y": null,
            "padding": null,
            "right": null,
            "top": null,
            "visibility": null,
            "width": null
          }
        },
        "947a42fc061e43379b1a34d6b8355444": {
          "model_module": "@jupyter-widgets/controls",
          "model_name": "DescriptionStyleModel",
          "model_module_version": "1.5.0",
          "state": {
            "_model_module": "@jupyter-widgets/controls",
            "_model_module_version": "1.5.0",
            "_model_name": "DescriptionStyleModel",
            "_view_count": null,
            "_view_module": "@jupyter-widgets/base",
            "_view_module_version": "1.2.0",
            "_view_name": "StyleView",
            "description_width": ""
          }
        },
        "62b8a687e93340429512a4bbf6fae5ed": {
          "model_module": "@jupyter-widgets/base",
          "model_name": "LayoutModel",
          "model_module_version": "1.2.0",
          "state": {
            "_model_module": "@jupyter-widgets/base",
            "_model_module_version": "1.2.0",
            "_model_name": "LayoutModel",
            "_view_count": null,
            "_view_module": "@jupyter-widgets/base",
            "_view_module_version": "1.2.0",
            "_view_name": "LayoutView",
            "align_content": null,
            "align_items": null,
            "align_self": null,
            "border": null,
            "bottom": null,
            "display": null,
            "flex": null,
            "flex_flow": null,
            "grid_area": null,
            "grid_auto_columns": null,
            "grid_auto_flow": null,
            "grid_auto_rows": null,
            "grid_column": null,
            "grid_gap": null,
            "grid_row": null,
            "grid_template_areas": null,
            "grid_template_columns": null,
            "grid_template_rows": null,
            "height": null,
            "justify_content": null,
            "justify_items": null,
            "left": null,
            "margin": null,
            "max_height": null,
            "max_width": null,
            "min_height": null,
            "min_width": null,
            "object_fit": null,
            "object_position": null,
            "order": null,
            "overflow": null,
            "overflow_x": null,
            "overflow_y": null,
            "padding": null,
            "right": null,
            "top": null,
            "visibility": null,
            "width": null
          }
        },
        "e910506bd5cf4cdda855f9e0013e2732": {
          "model_module": "@jupyter-widgets/controls",
          "model_name": "ProgressStyleModel",
          "model_module_version": "1.5.0",
          "state": {
            "_model_module": "@jupyter-widgets/controls",
            "_model_module_version": "1.5.0",
            "_model_name": "ProgressStyleModel",
            "_view_count": null,
            "_view_module": "@jupyter-widgets/base",
            "_view_module_version": "1.2.0",
            "_view_name": "StyleView",
            "bar_color": null,
            "description_width": ""
          }
        },
        "9f4334800d8b49a5beb0cca10162778b": {
          "model_module": "@jupyter-widgets/base",
          "model_name": "LayoutModel",
          "model_module_version": "1.2.0",
          "state": {
            "_model_module": "@jupyter-widgets/base",
            "_model_module_version": "1.2.0",
            "_model_name": "LayoutModel",
            "_view_count": null,
            "_view_module": "@jupyter-widgets/base",
            "_view_module_version": "1.2.0",
            "_view_name": "LayoutView",
            "align_content": null,
            "align_items": null,
            "align_self": null,
            "border": null,
            "bottom": null,
            "display": null,
            "flex": null,
            "flex_flow": null,
            "grid_area": null,
            "grid_auto_columns": null,
            "grid_auto_flow": null,
            "grid_auto_rows": null,
            "grid_column": null,
            "grid_gap": null,
            "grid_row": null,
            "grid_template_areas": null,
            "grid_template_columns": null,
            "grid_template_rows": null,
            "height": null,
            "justify_content": null,
            "justify_items": null,
            "left": null,
            "margin": null,
            "max_height": null,
            "max_width": null,
            "min_height": null,
            "min_width": null,
            "object_fit": null,
            "object_position": null,
            "order": null,
            "overflow": null,
            "overflow_x": null,
            "overflow_y": null,
            "padding": null,
            "right": null,
            "top": null,
            "visibility": null,
            "width": null
          }
        },
        "bf6e4219ff7646589b1d4150508fef89": {
          "model_module": "@jupyter-widgets/controls",
          "model_name": "DescriptionStyleModel",
          "model_module_version": "1.5.0",
          "state": {
            "_model_module": "@jupyter-widgets/controls",
            "_model_module_version": "1.5.0",
            "_model_name": "DescriptionStyleModel",
            "_view_count": null,
            "_view_module": "@jupyter-widgets/base",
            "_view_module_version": "1.2.0",
            "_view_name": "StyleView",
            "description_width": ""
          }
        },
        "263e8381009d437f8c6fae396c10b7c7": {
          "model_module": "@jupyter-widgets/controls",
          "model_name": "HBoxModel",
          "model_module_version": "1.5.0",
          "state": {
            "_dom_classes": [],
            "_model_module": "@jupyter-widgets/controls",
            "_model_module_version": "1.5.0",
            "_model_name": "HBoxModel",
            "_view_count": null,
            "_view_module": "@jupyter-widgets/controls",
            "_view_module_version": "1.5.0",
            "_view_name": "HBoxView",
            "box_style": "",
            "children": [
              "IPY_MODEL_c91a8d6184c4412f86828d81a11d67a6",
              "IPY_MODEL_64c62893e78949b798b9deb7cc1aa6f2",
              "IPY_MODEL_7c14795020994476a38dda86c37211c2"
            ],
            "layout": "IPY_MODEL_49032965f2ea4ae79b2ac130cb5711aa"
          }
        },
        "c91a8d6184c4412f86828d81a11d67a6": {
          "model_module": "@jupyter-widgets/controls",
          "model_name": "HTMLModel",
          "model_module_version": "1.5.0",
          "state": {
            "_dom_classes": [],
            "_model_module": "@jupyter-widgets/controls",
            "_model_module_version": "1.5.0",
            "_model_name": "HTMLModel",
            "_view_count": null,
            "_view_module": "@jupyter-widgets/controls",
            "_view_module_version": "1.5.0",
            "_view_name": "HTMLView",
            "description": "",
            "description_tooltip": null,
            "layout": "IPY_MODEL_19b405a9b371400a81b2329642e4c498",
            "placeholder": "​",
            "style": "IPY_MODEL_52e4af9ed0b843b9a02761f40b7e44cc",
            "value": "Epochs 0/2. Running Loss:    0.9863: 100%"
          }
        },
        "64c62893e78949b798b9deb7cc1aa6f2": {
          "model_module": "@jupyter-widgets/controls",
          "model_name": "FloatProgressModel",
          "model_module_version": "1.5.0",
          "state": {
            "_dom_classes": [],
            "_model_module": "@jupyter-widgets/controls",
            "_model_module_version": "1.5.0",
            "_model_name": "FloatProgressModel",
            "_view_count": null,
            "_view_module": "@jupyter-widgets/controls",
            "_view_module_version": "1.5.0",
            "_view_name": "ProgressView",
            "bar_style": "success",
            "description": "",
            "description_tooltip": null,
            "layout": "IPY_MODEL_1ceece6085ea4c9691b5f1e0bca121e3",
            "max": 654,
            "min": 0,
            "orientation": "horizontal",
            "style": "IPY_MODEL_1273b8e755ad41c3a8bda1df5076f043",
            "value": 654
          }
        },
        "7c14795020994476a38dda86c37211c2": {
          "model_module": "@jupyter-widgets/controls",
          "model_name": "HTMLModel",
          "model_module_version": "1.5.0",
          "state": {
            "_dom_classes": [],
            "_model_module": "@jupyter-widgets/controls",
            "_model_module_version": "1.5.0",
            "_model_name": "HTMLModel",
            "_view_count": null,
            "_view_module": "@jupyter-widgets/controls",
            "_view_module_version": "1.5.0",
            "_view_name": "HTMLView",
            "description": "",
            "description_tooltip": null,
            "layout": "IPY_MODEL_fd237ca04dd34ecd971fde81823b2479",
            "placeholder": "​",
            "style": "IPY_MODEL_9d9fe9f5fed04278b5b7bbb1b304f2b0",
            "value": " 654/654 [04:37&lt;00:00,  2.43it/s]"
          }
        },
        "49032965f2ea4ae79b2ac130cb5711aa": {
          "model_module": "@jupyter-widgets/base",
          "model_name": "LayoutModel",
          "model_module_version": "1.2.0",
          "state": {
            "_model_module": "@jupyter-widgets/base",
            "_model_module_version": "1.2.0",
            "_model_name": "LayoutModel",
            "_view_count": null,
            "_view_module": "@jupyter-widgets/base",
            "_view_module_version": "1.2.0",
            "_view_name": "LayoutView",
            "align_content": null,
            "align_items": null,
            "align_self": null,
            "border": null,
            "bottom": null,
            "display": null,
            "flex": null,
            "flex_flow": null,
            "grid_area": null,
            "grid_auto_columns": null,
            "grid_auto_flow": null,
            "grid_auto_rows": null,
            "grid_column": null,
            "grid_gap": null,
            "grid_row": null,
            "grid_template_areas": null,
            "grid_template_columns": null,
            "grid_template_rows": null,
            "height": null,
            "justify_content": null,
            "justify_items": null,
            "left": null,
            "margin": null,
            "max_height": null,
            "max_width": null,
            "min_height": null,
            "min_width": null,
            "object_fit": null,
            "object_position": null,
            "order": null,
            "overflow": null,
            "overflow_x": null,
            "overflow_y": null,
            "padding": null,
            "right": null,
            "top": null,
            "visibility": null,
            "width": null
          }
        },
        "19b405a9b371400a81b2329642e4c498": {
          "model_module": "@jupyter-widgets/base",
          "model_name": "LayoutModel",
          "model_module_version": "1.2.0",
          "state": {
            "_model_module": "@jupyter-widgets/base",
            "_model_module_version": "1.2.0",
            "_model_name": "LayoutModel",
            "_view_count": null,
            "_view_module": "@jupyter-widgets/base",
            "_view_module_version": "1.2.0",
            "_view_name": "LayoutView",
            "align_content": null,
            "align_items": null,
            "align_self": null,
            "border": null,
            "bottom": null,
            "display": null,
            "flex": null,
            "flex_flow": null,
            "grid_area": null,
            "grid_auto_columns": null,
            "grid_auto_flow": null,
            "grid_auto_rows": null,
            "grid_column": null,
            "grid_gap": null,
            "grid_row": null,
            "grid_template_areas": null,
            "grid_template_columns": null,
            "grid_template_rows": null,
            "height": null,
            "justify_content": null,
            "justify_items": null,
            "left": null,
            "margin": null,
            "max_height": null,
            "max_width": null,
            "min_height": null,
            "min_width": null,
            "object_fit": null,
            "object_position": null,
            "order": null,
            "overflow": null,
            "overflow_x": null,
            "overflow_y": null,
            "padding": null,
            "right": null,
            "top": null,
            "visibility": null,
            "width": null
          }
        },
        "52e4af9ed0b843b9a02761f40b7e44cc": {
          "model_module": "@jupyter-widgets/controls",
          "model_name": "DescriptionStyleModel",
          "model_module_version": "1.5.0",
          "state": {
            "_model_module": "@jupyter-widgets/controls",
            "_model_module_version": "1.5.0",
            "_model_name": "DescriptionStyleModel",
            "_view_count": null,
            "_view_module": "@jupyter-widgets/base",
            "_view_module_version": "1.2.0",
            "_view_name": "StyleView",
            "description_width": ""
          }
        },
        "1ceece6085ea4c9691b5f1e0bca121e3": {
          "model_module": "@jupyter-widgets/base",
          "model_name": "LayoutModel",
          "model_module_version": "1.2.0",
          "state": {
            "_model_module": "@jupyter-widgets/base",
            "_model_module_version": "1.2.0",
            "_model_name": "LayoutModel",
            "_view_count": null,
            "_view_module": "@jupyter-widgets/base",
            "_view_module_version": "1.2.0",
            "_view_name": "LayoutView",
            "align_content": null,
            "align_items": null,
            "align_self": null,
            "border": null,
            "bottom": null,
            "display": null,
            "flex": null,
            "flex_flow": null,
            "grid_area": null,
            "grid_auto_columns": null,
            "grid_auto_flow": null,
            "grid_auto_rows": null,
            "grid_column": null,
            "grid_gap": null,
            "grid_row": null,
            "grid_template_areas": null,
            "grid_template_columns": null,
            "grid_template_rows": null,
            "height": null,
            "justify_content": null,
            "justify_items": null,
            "left": null,
            "margin": null,
            "max_height": null,
            "max_width": null,
            "min_height": null,
            "min_width": null,
            "object_fit": null,
            "object_position": null,
            "order": null,
            "overflow": null,
            "overflow_x": null,
            "overflow_y": null,
            "padding": null,
            "right": null,
            "top": null,
            "visibility": null,
            "width": null
          }
        },
        "1273b8e755ad41c3a8bda1df5076f043": {
          "model_module": "@jupyter-widgets/controls",
          "model_name": "ProgressStyleModel",
          "model_module_version": "1.5.0",
          "state": {
            "_model_module": "@jupyter-widgets/controls",
            "_model_module_version": "1.5.0",
            "_model_name": "ProgressStyleModel",
            "_view_count": null,
            "_view_module": "@jupyter-widgets/base",
            "_view_module_version": "1.2.0",
            "_view_name": "StyleView",
            "bar_color": null,
            "description_width": ""
          }
        },
        "fd237ca04dd34ecd971fde81823b2479": {
          "model_module": "@jupyter-widgets/base",
          "model_name": "LayoutModel",
          "model_module_version": "1.2.0",
          "state": {
            "_model_module": "@jupyter-widgets/base",
            "_model_module_version": "1.2.0",
            "_model_name": "LayoutModel",
            "_view_count": null,
            "_view_module": "@jupyter-widgets/base",
            "_view_module_version": "1.2.0",
            "_view_name": "LayoutView",
            "align_content": null,
            "align_items": null,
            "align_self": null,
            "border": null,
            "bottom": null,
            "display": null,
            "flex": null,
            "flex_flow": null,
            "grid_area": null,
            "grid_auto_columns": null,
            "grid_auto_flow": null,
            "grid_auto_rows": null,
            "grid_column": null,
            "grid_gap": null,
            "grid_row": null,
            "grid_template_areas": null,
            "grid_template_columns": null,
            "grid_template_rows": null,
            "height": null,
            "justify_content": null,
            "justify_items": null,
            "left": null,
            "margin": null,
            "max_height": null,
            "max_width": null,
            "min_height": null,
            "min_width": null,
            "object_fit": null,
            "object_position": null,
            "order": null,
            "overflow": null,
            "overflow_x": null,
            "overflow_y": null,
            "padding": null,
            "right": null,
            "top": null,
            "visibility": null,
            "width": null
          }
        },
        "9d9fe9f5fed04278b5b7bbb1b304f2b0": {
          "model_module": "@jupyter-widgets/controls",
          "model_name": "DescriptionStyleModel",
          "model_module_version": "1.5.0",
          "state": {
            "_model_module": "@jupyter-widgets/controls",
            "_model_module_version": "1.5.0",
            "_model_name": "DescriptionStyleModel",
            "_view_count": null,
            "_view_module": "@jupyter-widgets/base",
            "_view_module_version": "1.2.0",
            "_view_name": "StyleView",
            "description_width": ""
          }
        },
        "58144b14327343deb5fe9803cdd634b9": {
          "model_module": "@jupyter-widgets/controls",
          "model_name": "HBoxModel",
          "model_module_version": "1.5.0",
          "state": {
            "_dom_classes": [],
            "_model_module": "@jupyter-widgets/controls",
            "_model_module_version": "1.5.0",
            "_model_name": "HBoxModel",
            "_view_count": null,
            "_view_module": "@jupyter-widgets/controls",
            "_view_module_version": "1.5.0",
            "_view_name": "HBoxView",
            "box_style": "",
            "children": [
              "IPY_MODEL_a5b0e88f5ef442a2bbe8413ec9beb7fc",
              "IPY_MODEL_026a1df3d8ff407b812e9bfeb933c52d",
              "IPY_MODEL_2a071237a4a84b1fb1f669af6644adb3"
            ],
            "layout": "IPY_MODEL_a3803525159e4471bd9f19fde265053c"
          }
        },
        "a5b0e88f5ef442a2bbe8413ec9beb7fc": {
          "model_module": "@jupyter-widgets/controls",
          "model_name": "HTMLModel",
          "model_module_version": "1.5.0",
          "state": {
            "_dom_classes": [],
            "_model_module": "@jupyter-widgets/controls",
            "_model_module_version": "1.5.0",
            "_model_name": "HTMLModel",
            "_view_count": null,
            "_view_module": "@jupyter-widgets/controls",
            "_view_module_version": "1.5.0",
            "_view_name": "HTMLView",
            "description": "",
            "description_tooltip": null,
            "layout": "IPY_MODEL_27b368f1e9174c9d96ae0150c7a0051a",
            "placeholder": "​",
            "style": "IPY_MODEL_fc0a768add20467795a3f04821993a0b",
            "value": "Epochs 1/2. Running Loss:    0.7257: 100%"
          }
        },
        "026a1df3d8ff407b812e9bfeb933c52d": {
          "model_module": "@jupyter-widgets/controls",
          "model_name": "FloatProgressModel",
          "model_module_version": "1.5.0",
          "state": {
            "_dom_classes": [],
            "_model_module": "@jupyter-widgets/controls",
            "_model_module_version": "1.5.0",
            "_model_name": "FloatProgressModel",
            "_view_count": null,
            "_view_module": "@jupyter-widgets/controls",
            "_view_module_version": "1.5.0",
            "_view_name": "ProgressView",
            "bar_style": "success",
            "description": "",
            "description_tooltip": null,
            "layout": "IPY_MODEL_fa699ebd04c5414abc4b130e1066d744",
            "max": 654,
            "min": 0,
            "orientation": "horizontal",
            "style": "IPY_MODEL_aded0ed34d8245508a963641b9c9f5f9",
            "value": 654
          }
        },
        "2a071237a4a84b1fb1f669af6644adb3": {
          "model_module": "@jupyter-widgets/controls",
          "model_name": "HTMLModel",
          "model_module_version": "1.5.0",
          "state": {
            "_dom_classes": [],
            "_model_module": "@jupyter-widgets/controls",
            "_model_module_version": "1.5.0",
            "_model_name": "HTMLModel",
            "_view_count": null,
            "_view_module": "@jupyter-widgets/controls",
            "_view_module_version": "1.5.0",
            "_view_name": "HTMLView",
            "description": "",
            "description_tooltip": null,
            "layout": "IPY_MODEL_47079542db67485382a4d78545318937",
            "placeholder": "​",
            "style": "IPY_MODEL_89e20e4d598c4c47b1a71922b3b93257",
            "value": " 654/654 [04:36&lt;00:00,  2.46it/s]"
          }
        },
        "a3803525159e4471bd9f19fde265053c": {
          "model_module": "@jupyter-widgets/base",
          "model_name": "LayoutModel",
          "model_module_version": "1.2.0",
          "state": {
            "_model_module": "@jupyter-widgets/base",
            "_model_module_version": "1.2.0",
            "_model_name": "LayoutModel",
            "_view_count": null,
            "_view_module": "@jupyter-widgets/base",
            "_view_module_version": "1.2.0",
            "_view_name": "LayoutView",
            "align_content": null,
            "align_items": null,
            "align_self": null,
            "border": null,
            "bottom": null,
            "display": null,
            "flex": null,
            "flex_flow": null,
            "grid_area": null,
            "grid_auto_columns": null,
            "grid_auto_flow": null,
            "grid_auto_rows": null,
            "grid_column": null,
            "grid_gap": null,
            "grid_row": null,
            "grid_template_areas": null,
            "grid_template_columns": null,
            "grid_template_rows": null,
            "height": null,
            "justify_content": null,
            "justify_items": null,
            "left": null,
            "margin": null,
            "max_height": null,
            "max_width": null,
            "min_height": null,
            "min_width": null,
            "object_fit": null,
            "object_position": null,
            "order": null,
            "overflow": null,
            "overflow_x": null,
            "overflow_y": null,
            "padding": null,
            "right": null,
            "top": null,
            "visibility": null,
            "width": null
          }
        },
        "27b368f1e9174c9d96ae0150c7a0051a": {
          "model_module": "@jupyter-widgets/base",
          "model_name": "LayoutModel",
          "model_module_version": "1.2.0",
          "state": {
            "_model_module": "@jupyter-widgets/base",
            "_model_module_version": "1.2.0",
            "_model_name": "LayoutModel",
            "_view_count": null,
            "_view_module": "@jupyter-widgets/base",
            "_view_module_version": "1.2.0",
            "_view_name": "LayoutView",
            "align_content": null,
            "align_items": null,
            "align_self": null,
            "border": null,
            "bottom": null,
            "display": null,
            "flex": null,
            "flex_flow": null,
            "grid_area": null,
            "grid_auto_columns": null,
            "grid_auto_flow": null,
            "grid_auto_rows": null,
            "grid_column": null,
            "grid_gap": null,
            "grid_row": null,
            "grid_template_areas": null,
            "grid_template_columns": null,
            "grid_template_rows": null,
            "height": null,
            "justify_content": null,
            "justify_items": null,
            "left": null,
            "margin": null,
            "max_height": null,
            "max_width": null,
            "min_height": null,
            "min_width": null,
            "object_fit": null,
            "object_position": null,
            "order": null,
            "overflow": null,
            "overflow_x": null,
            "overflow_y": null,
            "padding": null,
            "right": null,
            "top": null,
            "visibility": null,
            "width": null
          }
        },
        "fc0a768add20467795a3f04821993a0b": {
          "model_module": "@jupyter-widgets/controls",
          "model_name": "DescriptionStyleModel",
          "model_module_version": "1.5.0",
          "state": {
            "_model_module": "@jupyter-widgets/controls",
            "_model_module_version": "1.5.0",
            "_model_name": "DescriptionStyleModel",
            "_view_count": null,
            "_view_module": "@jupyter-widgets/base",
            "_view_module_version": "1.2.0",
            "_view_name": "StyleView",
            "description_width": ""
          }
        },
        "fa699ebd04c5414abc4b130e1066d744": {
          "model_module": "@jupyter-widgets/base",
          "model_name": "LayoutModel",
          "model_module_version": "1.2.0",
          "state": {
            "_model_module": "@jupyter-widgets/base",
            "_model_module_version": "1.2.0",
            "_model_name": "LayoutModel",
            "_view_count": null,
            "_view_module": "@jupyter-widgets/base",
            "_view_module_version": "1.2.0",
            "_view_name": "LayoutView",
            "align_content": null,
            "align_items": null,
            "align_self": null,
            "border": null,
            "bottom": null,
            "display": null,
            "flex": null,
            "flex_flow": null,
            "grid_area": null,
            "grid_auto_columns": null,
            "grid_auto_flow": null,
            "grid_auto_rows": null,
            "grid_column": null,
            "grid_gap": null,
            "grid_row": null,
            "grid_template_areas": null,
            "grid_template_columns": null,
            "grid_template_rows": null,
            "height": null,
            "justify_content": null,
            "justify_items": null,
            "left": null,
            "margin": null,
            "max_height": null,
            "max_width": null,
            "min_height": null,
            "min_width": null,
            "object_fit": null,
            "object_position": null,
            "order": null,
            "overflow": null,
            "overflow_x": null,
            "overflow_y": null,
            "padding": null,
            "right": null,
            "top": null,
            "visibility": null,
            "width": null
          }
        },
        "aded0ed34d8245508a963641b9c9f5f9": {
          "model_module": "@jupyter-widgets/controls",
          "model_name": "ProgressStyleModel",
          "model_module_version": "1.5.0",
          "state": {
            "_model_module": "@jupyter-widgets/controls",
            "_model_module_version": "1.5.0",
            "_model_name": "ProgressStyleModel",
            "_view_count": null,
            "_view_module": "@jupyter-widgets/base",
            "_view_module_version": "1.2.0",
            "_view_name": "StyleView",
            "bar_color": null,
            "description_width": ""
          }
        },
        "47079542db67485382a4d78545318937": {
          "model_module": "@jupyter-widgets/base",
          "model_name": "LayoutModel",
          "model_module_version": "1.2.0",
          "state": {
            "_model_module": "@jupyter-widgets/base",
            "_model_module_version": "1.2.0",
            "_model_name": "LayoutModel",
            "_view_count": null,
            "_view_module": "@jupyter-widgets/base",
            "_view_module_version": "1.2.0",
            "_view_name": "LayoutView",
            "align_content": null,
            "align_items": null,
            "align_self": null,
            "border": null,
            "bottom": null,
            "display": null,
            "flex": null,
            "flex_flow": null,
            "grid_area": null,
            "grid_auto_columns": null,
            "grid_auto_flow": null,
            "grid_auto_rows": null,
            "grid_column": null,
            "grid_gap": null,
            "grid_row": null,
            "grid_template_areas": null,
            "grid_template_columns": null,
            "grid_template_rows": null,
            "height": null,
            "justify_content": null,
            "justify_items": null,
            "left": null,
            "margin": null,
            "max_height": null,
            "max_width": null,
            "min_height": null,
            "min_width": null,
            "object_fit": null,
            "object_position": null,
            "order": null,
            "overflow": null,
            "overflow_x": null,
            "overflow_y": null,
            "padding": null,
            "right": null,
            "top": null,
            "visibility": null,
            "width": null
          }
        },
        "89e20e4d598c4c47b1a71922b3b93257": {
          "model_module": "@jupyter-widgets/controls",
          "model_name": "DescriptionStyleModel",
          "model_module_version": "1.5.0",
          "state": {
            "_model_module": "@jupyter-widgets/controls",
            "_model_module_version": "1.5.0",
            "_model_name": "DescriptionStyleModel",
            "_view_count": null,
            "_view_module": "@jupyter-widgets/base",
            "_view_module_version": "1.2.0",
            "_view_name": "StyleView",
            "description_width": ""
          }
        },
        "efded198ec6342048017bf2d772c1607": {
          "model_module": "@jupyter-widgets/controls",
          "model_name": "HBoxModel",
          "model_module_version": "1.5.0",
          "state": {
            "_dom_classes": [],
            "_model_module": "@jupyter-widgets/controls",
            "_model_module_version": "1.5.0",
            "_model_name": "HBoxModel",
            "_view_count": null,
            "_view_module": "@jupyter-widgets/controls",
            "_view_module_version": "1.5.0",
            "_view_name": "HBoxView",
            "box_style": "",
            "children": [
              "IPY_MODEL_db80bf98860c4d8ab56915e7dc2aa99f",
              "IPY_MODEL_c5385aadd80944c2a951c2a8ec6da501",
              "IPY_MODEL_b73710d2f7a54a168238144b16ed4e36"
            ],
            "layout": "IPY_MODEL_409e28eb8498402c8ce978481d091f52"
          }
        },
        "db80bf98860c4d8ab56915e7dc2aa99f": {
          "model_module": "@jupyter-widgets/controls",
          "model_name": "HTMLModel",
          "model_module_version": "1.5.0",
          "state": {
            "_dom_classes": [],
            "_model_module": "@jupyter-widgets/controls",
            "_model_module_version": "1.5.0",
            "_model_name": "HTMLModel",
            "_view_count": null,
            "_view_module": "@jupyter-widgets/controls",
            "_view_module_version": "1.5.0",
            "_view_name": "HTMLView",
            "description": "",
            "description_tooltip": null,
            "layout": "IPY_MODEL_d8912065d42f45aa83b9a6790ef7ce5a",
            "placeholder": "​",
            "style": "IPY_MODEL_a335dfa9952144728f29f76777b1bb73",
            "value": "  0%"
          }
        },
        "c5385aadd80944c2a951c2a8ec6da501": {
          "model_module": "@jupyter-widgets/controls",
          "model_name": "FloatProgressModel",
          "model_module_version": "1.5.0",
          "state": {
            "_dom_classes": [],
            "_model_module": "@jupyter-widgets/controls",
            "_model_module_version": "1.5.0",
            "_model_name": "FloatProgressModel",
            "_view_count": null,
            "_view_module": "@jupyter-widgets/controls",
            "_view_module_version": "1.5.0",
            "_view_name": "ProgressView",
            "bar_style": "danger",
            "description": "",
            "description_tooltip": null,
            "layout": "IPY_MODEL_14af0f5f43624cf48478d485c7e6cb4d",
            "max": 923,
            "min": 0,
            "orientation": "horizontal",
            "style": "IPY_MODEL_a5a19b06a382474391b395ed894efcd0",
            "value": 2
          }
        },
        "b73710d2f7a54a168238144b16ed4e36": {
          "model_module": "@jupyter-widgets/controls",
          "model_name": "HTMLModel",
          "model_module_version": "1.5.0",
          "state": {
            "_dom_classes": [],
            "_model_module": "@jupyter-widgets/controls",
            "_model_module_version": "1.5.0",
            "_model_name": "HTMLModel",
            "_view_count": null,
            "_view_module": "@jupyter-widgets/controls",
            "_view_module_version": "1.5.0",
            "_view_name": "HTMLView",
            "description": "",
            "description_tooltip": null,
            "layout": "IPY_MODEL_1eeb9b79a39241a5918edebee5121483",
            "placeholder": "​",
            "style": "IPY_MODEL_cb315e11d8e6458dad1e97a7148285bb",
            "value": " 2/923 [00:02&lt;18:54,  1.23s/it]"
          }
        },
        "409e28eb8498402c8ce978481d091f52": {
          "model_module": "@jupyter-widgets/base",
          "model_name": "LayoutModel",
          "model_module_version": "1.2.0",
          "state": {
            "_model_module": "@jupyter-widgets/base",
            "_model_module_version": "1.2.0",
            "_model_name": "LayoutModel",
            "_view_count": null,
            "_view_module": "@jupyter-widgets/base",
            "_view_module_version": "1.2.0",
            "_view_name": "LayoutView",
            "align_content": null,
            "align_items": null,
            "align_self": null,
            "border": null,
            "bottom": null,
            "display": null,
            "flex": null,
            "flex_flow": null,
            "grid_area": null,
            "grid_auto_columns": null,
            "grid_auto_flow": null,
            "grid_auto_rows": null,
            "grid_column": null,
            "grid_gap": null,
            "grid_row": null,
            "grid_template_areas": null,
            "grid_template_columns": null,
            "grid_template_rows": null,
            "height": null,
            "justify_content": null,
            "justify_items": null,
            "left": null,
            "margin": null,
            "max_height": null,
            "max_width": null,
            "min_height": null,
            "min_width": null,
            "object_fit": null,
            "object_position": null,
            "order": null,
            "overflow": null,
            "overflow_x": null,
            "overflow_y": null,
            "padding": null,
            "right": null,
            "top": null,
            "visibility": null,
            "width": null
          }
        },
        "d8912065d42f45aa83b9a6790ef7ce5a": {
          "model_module": "@jupyter-widgets/base",
          "model_name": "LayoutModel",
          "model_module_version": "1.2.0",
          "state": {
            "_model_module": "@jupyter-widgets/base",
            "_model_module_version": "1.2.0",
            "_model_name": "LayoutModel",
            "_view_count": null,
            "_view_module": "@jupyter-widgets/base",
            "_view_module_version": "1.2.0",
            "_view_name": "LayoutView",
            "align_content": null,
            "align_items": null,
            "align_self": null,
            "border": null,
            "bottom": null,
            "display": null,
            "flex": null,
            "flex_flow": null,
            "grid_area": null,
            "grid_auto_columns": null,
            "grid_auto_flow": null,
            "grid_auto_rows": null,
            "grid_column": null,
            "grid_gap": null,
            "grid_row": null,
            "grid_template_areas": null,
            "grid_template_columns": null,
            "grid_template_rows": null,
            "height": null,
            "justify_content": null,
            "justify_items": null,
            "left": null,
            "margin": null,
            "max_height": null,
            "max_width": null,
            "min_height": null,
            "min_width": null,
            "object_fit": null,
            "object_position": null,
            "order": null,
            "overflow": null,
            "overflow_x": null,
            "overflow_y": null,
            "padding": null,
            "right": null,
            "top": null,
            "visibility": null,
            "width": null
          }
        },
        "a335dfa9952144728f29f76777b1bb73": {
          "model_module": "@jupyter-widgets/controls",
          "model_name": "DescriptionStyleModel",
          "model_module_version": "1.5.0",
          "state": {
            "_model_module": "@jupyter-widgets/controls",
            "_model_module_version": "1.5.0",
            "_model_name": "DescriptionStyleModel",
            "_view_count": null,
            "_view_module": "@jupyter-widgets/base",
            "_view_module_version": "1.2.0",
            "_view_name": "StyleView",
            "description_width": ""
          }
        },
        "14af0f5f43624cf48478d485c7e6cb4d": {
          "model_module": "@jupyter-widgets/base",
          "model_name": "LayoutModel",
          "model_module_version": "1.2.0",
          "state": {
            "_model_module": "@jupyter-widgets/base",
            "_model_module_version": "1.2.0",
            "_model_name": "LayoutModel",
            "_view_count": null,
            "_view_module": "@jupyter-widgets/base",
            "_view_module_version": "1.2.0",
            "_view_name": "LayoutView",
            "align_content": null,
            "align_items": null,
            "align_self": null,
            "border": null,
            "bottom": null,
            "display": null,
            "flex": null,
            "flex_flow": null,
            "grid_area": null,
            "grid_auto_columns": null,
            "grid_auto_flow": null,
            "grid_auto_rows": null,
            "grid_column": null,
            "grid_gap": null,
            "grid_row": null,
            "grid_template_areas": null,
            "grid_template_columns": null,
            "grid_template_rows": null,
            "height": null,
            "justify_content": null,
            "justify_items": null,
            "left": null,
            "margin": null,
            "max_height": null,
            "max_width": null,
            "min_height": null,
            "min_width": null,
            "object_fit": null,
            "object_position": null,
            "order": null,
            "overflow": null,
            "overflow_x": null,
            "overflow_y": null,
            "padding": null,
            "right": null,
            "top": null,
            "visibility": null,
            "width": null
          }
        },
        "a5a19b06a382474391b395ed894efcd0": {
          "model_module": "@jupyter-widgets/controls",
          "model_name": "ProgressStyleModel",
          "model_module_version": "1.5.0",
          "state": {
            "_model_module": "@jupyter-widgets/controls",
            "_model_module_version": "1.5.0",
            "_model_name": "ProgressStyleModel",
            "_view_count": null,
            "_view_module": "@jupyter-widgets/base",
            "_view_module_version": "1.2.0",
            "_view_name": "StyleView",
            "bar_color": null,
            "description_width": ""
          }
        },
        "1eeb9b79a39241a5918edebee5121483": {
          "model_module": "@jupyter-widgets/base",
          "model_name": "LayoutModel",
          "model_module_version": "1.2.0",
          "state": {
            "_model_module": "@jupyter-widgets/base",
            "_model_module_version": "1.2.0",
            "_model_name": "LayoutModel",
            "_view_count": null,
            "_view_module": "@jupyter-widgets/base",
            "_view_module_version": "1.2.0",
            "_view_name": "LayoutView",
            "align_content": null,
            "align_items": null,
            "align_self": null,
            "border": null,
            "bottom": null,
            "display": null,
            "flex": null,
            "flex_flow": null,
            "grid_area": null,
            "grid_auto_columns": null,
            "grid_auto_flow": null,
            "grid_auto_rows": null,
            "grid_column": null,
            "grid_gap": null,
            "grid_row": null,
            "grid_template_areas": null,
            "grid_template_columns": null,
            "grid_template_rows": null,
            "height": null,
            "justify_content": null,
            "justify_items": null,
            "left": null,
            "margin": null,
            "max_height": null,
            "max_width": null,
            "min_height": null,
            "min_width": null,
            "object_fit": null,
            "object_position": null,
            "order": null,
            "overflow": null,
            "overflow_x": null,
            "overflow_y": null,
            "padding": null,
            "right": null,
            "top": null,
            "visibility": null,
            "width": null
          }
        },
        "cb315e11d8e6458dad1e97a7148285bb": {
          "model_module": "@jupyter-widgets/controls",
          "model_name": "DescriptionStyleModel",
          "model_module_version": "1.5.0",
          "state": {
            "_model_module": "@jupyter-widgets/controls",
            "_model_module_version": "1.5.0",
            "_model_name": "DescriptionStyleModel",
            "_view_count": null,
            "_view_module": "@jupyter-widgets/base",
            "_view_module_version": "1.2.0",
            "_view_name": "StyleView",
            "description_width": ""
          }
        },
        "61f4e44e2e1c4c0a94a1abc5b4a369c8": {
          "model_module": "@jupyter-widgets/controls",
          "model_name": "HBoxModel",
          "model_module_version": "1.5.0",
          "state": {
            "_dom_classes": [],
            "_model_module": "@jupyter-widgets/controls",
            "_model_module_version": "1.5.0",
            "_model_name": "HBoxModel",
            "_view_count": null,
            "_view_module": "@jupyter-widgets/controls",
            "_view_module_version": "1.5.0",
            "_view_name": "HBoxView",
            "box_style": "",
            "children": [
              "IPY_MODEL_ff32158032bf445a83c62d9f261b2c53",
              "IPY_MODEL_250123b049e94e2cbf7c08eaf2959cff",
              "IPY_MODEL_350594765b3f4fcb8b1c05ea4a25cbef"
            ],
            "layout": "IPY_MODEL_173b3bc317cf4af1a9370005cc468468"
          }
        },
        "ff32158032bf445a83c62d9f261b2c53": {
          "model_module": "@jupyter-widgets/controls",
          "model_name": "HTMLModel",
          "model_module_version": "1.5.0",
          "state": {
            "_dom_classes": [],
            "_model_module": "@jupyter-widgets/controls",
            "_model_module_version": "1.5.0",
            "_model_name": "HTMLModel",
            "_view_count": null,
            "_view_module": "@jupyter-widgets/controls",
            "_view_module_version": "1.5.0",
            "_view_name": "HTMLView",
            "description": "",
            "description_tooltip": null,
            "layout": "IPY_MODEL_3caec32acb4f4fc0bfd4bb0651fa556b",
            "placeholder": "​",
            "style": "IPY_MODEL_e9ab144b162d470a807405689f2ae6f6",
            "value": "Running Evaluation: 100%"
          }
        },
        "250123b049e94e2cbf7c08eaf2959cff": {
          "model_module": "@jupyter-widgets/controls",
          "model_name": "FloatProgressModel",
          "model_module_version": "1.5.0",
          "state": {
            "_dom_classes": [],
            "_model_module": "@jupyter-widgets/controls",
            "_model_module_version": "1.5.0",
            "_model_name": "FloatProgressModel",
            "_view_count": null,
            "_view_module": "@jupyter-widgets/controls",
            "_view_module_version": "1.5.0",
            "_view_name": "ProgressView",
            "bar_style": "success",
            "description": "",
            "description_tooltip": null,
            "layout": "IPY_MODEL_1c2373d4387e43e3af9db867da6f3557",
            "max": 116,
            "min": 0,
            "orientation": "horizontal",
            "style": "IPY_MODEL_971a0cb58daa45fd8bc000b6dca7611a",
            "value": 116
          }
        },
        "350594765b3f4fcb8b1c05ea4a25cbef": {
          "model_module": "@jupyter-widgets/controls",
          "model_name": "HTMLModel",
          "model_module_version": "1.5.0",
          "state": {
            "_dom_classes": [],
            "_model_module": "@jupyter-widgets/controls",
            "_model_module_version": "1.5.0",
            "_model_name": "HTMLModel",
            "_view_count": null,
            "_view_module": "@jupyter-widgets/controls",
            "_view_module_version": "1.5.0",
            "_view_name": "HTMLView",
            "description": "",
            "description_tooltip": null,
            "layout": "IPY_MODEL_d6498735e1824c2b85bfb5077bcb557e",
            "placeholder": "​",
            "style": "IPY_MODEL_64539eda897744aab6cdb2eb56777963",
            "value": " 116/116 [00:06&lt;00:00, 18.36it/s]"
          }
        },
        "173b3bc317cf4af1a9370005cc468468": {
          "model_module": "@jupyter-widgets/base",
          "model_name": "LayoutModel",
          "model_module_version": "1.2.0",
          "state": {
            "_model_module": "@jupyter-widgets/base",
            "_model_module_version": "1.2.0",
            "_model_name": "LayoutModel",
            "_view_count": null,
            "_view_module": "@jupyter-widgets/base",
            "_view_module_version": "1.2.0",
            "_view_name": "LayoutView",
            "align_content": null,
            "align_items": null,
            "align_self": null,
            "border": null,
            "bottom": null,
            "display": null,
            "flex": null,
            "flex_flow": null,
            "grid_area": null,
            "grid_auto_columns": null,
            "grid_auto_flow": null,
            "grid_auto_rows": null,
            "grid_column": null,
            "grid_gap": null,
            "grid_row": null,
            "grid_template_areas": null,
            "grid_template_columns": null,
            "grid_template_rows": null,
            "height": null,
            "justify_content": null,
            "justify_items": null,
            "left": null,
            "margin": null,
            "max_height": null,
            "max_width": null,
            "min_height": null,
            "min_width": null,
            "object_fit": null,
            "object_position": null,
            "order": null,
            "overflow": null,
            "overflow_x": null,
            "overflow_y": null,
            "padding": null,
            "right": null,
            "top": null,
            "visibility": null,
            "width": null
          }
        },
        "3caec32acb4f4fc0bfd4bb0651fa556b": {
          "model_module": "@jupyter-widgets/base",
          "model_name": "LayoutModel",
          "model_module_version": "1.2.0",
          "state": {
            "_model_module": "@jupyter-widgets/base",
            "_model_module_version": "1.2.0",
            "_model_name": "LayoutModel",
            "_view_count": null,
            "_view_module": "@jupyter-widgets/base",
            "_view_module_version": "1.2.0",
            "_view_name": "LayoutView",
            "align_content": null,
            "align_items": null,
            "align_self": null,
            "border": null,
            "bottom": null,
            "display": null,
            "flex": null,
            "flex_flow": null,
            "grid_area": null,
            "grid_auto_columns": null,
            "grid_auto_flow": null,
            "grid_auto_rows": null,
            "grid_column": null,
            "grid_gap": null,
            "grid_row": null,
            "grid_template_areas": null,
            "grid_template_columns": null,
            "grid_template_rows": null,
            "height": null,
            "justify_content": null,
            "justify_items": null,
            "left": null,
            "margin": null,
            "max_height": null,
            "max_width": null,
            "min_height": null,
            "min_width": null,
            "object_fit": null,
            "object_position": null,
            "order": null,
            "overflow": null,
            "overflow_x": null,
            "overflow_y": null,
            "padding": null,
            "right": null,
            "top": null,
            "visibility": null,
            "width": null
          }
        },
        "e9ab144b162d470a807405689f2ae6f6": {
          "model_module": "@jupyter-widgets/controls",
          "model_name": "DescriptionStyleModel",
          "model_module_version": "1.5.0",
          "state": {
            "_model_module": "@jupyter-widgets/controls",
            "_model_module_version": "1.5.0",
            "_model_name": "DescriptionStyleModel",
            "_view_count": null,
            "_view_module": "@jupyter-widgets/base",
            "_view_module_version": "1.2.0",
            "_view_name": "StyleView",
            "description_width": ""
          }
        },
        "1c2373d4387e43e3af9db867da6f3557": {
          "model_module": "@jupyter-widgets/base",
          "model_name": "LayoutModel",
          "model_module_version": "1.2.0",
          "state": {
            "_model_module": "@jupyter-widgets/base",
            "_model_module_version": "1.2.0",
            "_model_name": "LayoutModel",
            "_view_count": null,
            "_view_module": "@jupyter-widgets/base",
            "_view_module_version": "1.2.0",
            "_view_name": "LayoutView",
            "align_content": null,
            "align_items": null,
            "align_self": null,
            "border": null,
            "bottom": null,
            "display": null,
            "flex": null,
            "flex_flow": null,
            "grid_area": null,
            "grid_auto_columns": null,
            "grid_auto_flow": null,
            "grid_auto_rows": null,
            "grid_column": null,
            "grid_gap": null,
            "grid_row": null,
            "grid_template_areas": null,
            "grid_template_columns": null,
            "grid_template_rows": null,
            "height": null,
            "justify_content": null,
            "justify_items": null,
            "left": null,
            "margin": null,
            "max_height": null,
            "max_width": null,
            "min_height": null,
            "min_width": null,
            "object_fit": null,
            "object_position": null,
            "order": null,
            "overflow": null,
            "overflow_x": null,
            "overflow_y": null,
            "padding": null,
            "right": null,
            "top": null,
            "visibility": null,
            "width": null
          }
        },
        "971a0cb58daa45fd8bc000b6dca7611a": {
          "model_module": "@jupyter-widgets/controls",
          "model_name": "ProgressStyleModel",
          "model_module_version": "1.5.0",
          "state": {
            "_model_module": "@jupyter-widgets/controls",
            "_model_module_version": "1.5.0",
            "_model_name": "ProgressStyleModel",
            "_view_count": null,
            "_view_module": "@jupyter-widgets/base",
            "_view_module_version": "1.2.0",
            "_view_name": "StyleView",
            "bar_color": null,
            "description_width": ""
          }
        },
        "d6498735e1824c2b85bfb5077bcb557e": {
          "model_module": "@jupyter-widgets/base",
          "model_name": "LayoutModel",
          "model_module_version": "1.2.0",
          "state": {
            "_model_module": "@jupyter-widgets/base",
            "_model_module_version": "1.2.0",
            "_model_name": "LayoutModel",
            "_view_count": null,
            "_view_module": "@jupyter-widgets/base",
            "_view_module_version": "1.2.0",
            "_view_name": "LayoutView",
            "align_content": null,
            "align_items": null,
            "align_self": null,
            "border": null,
            "bottom": null,
            "display": null,
            "flex": null,
            "flex_flow": null,
            "grid_area": null,
            "grid_auto_columns": null,
            "grid_auto_flow": null,
            "grid_auto_rows": null,
            "grid_column": null,
            "grid_gap": null,
            "grid_row": null,
            "grid_template_areas": null,
            "grid_template_columns": null,
            "grid_template_rows": null,
            "height": null,
            "justify_content": null,
            "justify_items": null,
            "left": null,
            "margin": null,
            "max_height": null,
            "max_width": null,
            "min_height": null,
            "min_width": null,
            "object_fit": null,
            "object_position": null,
            "order": null,
            "overflow": null,
            "overflow_x": null,
            "overflow_y": null,
            "padding": null,
            "right": null,
            "top": null,
            "visibility": null,
            "width": null
          }
        },
        "64539eda897744aab6cdb2eb56777963": {
          "model_module": "@jupyter-widgets/controls",
          "model_name": "DescriptionStyleModel",
          "model_module_version": "1.5.0",
          "state": {
            "_model_module": "@jupyter-widgets/controls",
            "_model_module_version": "1.5.0",
            "_model_name": "DescriptionStyleModel",
            "_view_count": null,
            "_view_module": "@jupyter-widgets/base",
            "_view_module_version": "1.2.0",
            "_view_name": "StyleView",
            "description_width": ""
          }
        },
        "33d6ef3ff2d0461c9d1d0dcc68bc78c1": {
          "model_module": "catboost-widget",
          "model_name": "CatboostWidgetModel",
          "model_module_version": "^1.0.0",
          "state": {
            "_dom_classes": [],
            "_model_module": "catboost-widget",
            "_model_module_version": "^1.0.0",
            "_model_name": "CatboostWidgetModel",
            "_view_count": null,
            "_view_module": "catboost-widget",
            "_view_module_version": "^1.0.0",
            "_view_name": "CatboostWidgetView",
            "data": {
              "catboost_info": {
                "path": "catboost_info",
                "name": "catboost_info",
                "content": {
                  "passed_iterations": 362,
                  "total_iterations": 10000,
                  "data": {
                    "iterations": [
                      {
                        "learn": [
                          0.7951499681,
                          0.6927842082
                        ],
                        "iteration": 0,
                        "passed_time": 0.2968882884,
                        "remaining_time": 2968.585996,
                        "test": [
                          0.8274853801,
                          0.6927474691
                        ]
                      },
                      {
                        "learn": [
                          0.7956623432,
                          0.6923838481
                        ],
                        "iteration": 1,
                        "passed_time": 0.6080777381,
                        "remaining_time": 3039.780613,
                        "test": [
                          0.8274853801,
                          0.6923174171
                        ]
                      },
                      {
                        "learn": [
                          0.8001667014,
                          0.6920053113
                        ],
                        "iteration": 2,
                        "passed_time": 1.043176938,
                        "remaining_time": 3476.213284,
                        "test": [
                          0.8262955854,
                          0.691908438
                        ]
                      },
                      {
                        "learn": [
                          0.7997502082,
                          0.691615781
                        ],
                        "iteration": 3,
                        "passed_time": 1.618212582,
                        "remaining_time": 4043.913243,
                        "test": [
                          0.8262955854,
                          0.6914883995
                        ]
                      },
                      {
                        "learn": [
                          0.7997502082,
                          0.6912042332
                        ],
                        "iteration": 4,
                        "passed_time": 2.285539981,
                        "remaining_time": 4568.794423,
                        "test": [
                          0.8262955854,
                          0.691047872
                        ]
                      },
                      {
                        "learn": [
                          0.7995837669,
                          0.6908072303
                        ],
                        "iteration": 5,
                        "passed_time": 2.770804386,
                        "remaining_time": 4615.236506,
                        "test": [
                          0.8262955854,
                          0.6906248982
                        ]
                      },
                      {
                        "learn": [
                          0.7999167187,
                          0.6904320253
                        ],
                        "iteration": 6,
                        "passed_time": 3.295427687,
                        "remaining_time": 4704.45841,
                        "test": [
                          0.8262955854,
                          0.6902218133
                        ]
                      },
                      {
                        "learn": [
                          0.7995837669,
                          0.6900386027
                        ],
                        "iteration": 7,
                        "passed_time": 3.778616918,
                        "remaining_time": 4719.492531,
                        "test": [
                          0.8262955854,
                          0.6897998563
                        ]
                      },
                      {
                        "learn": [
                          0.7994173949,
                          0.6896331178
                        ],
                        "iteration": 8,
                        "passed_time": 4.259882514,
                        "remaining_time": 4728.942911,
                        "test": [
                          0.8268585132,
                          0.6893712101
                        ]
                      },
                      {
                        "learn": [
                          0.8031333746,
                          0.6892437291
                        ],
                        "iteration": 9,
                        "passed_time": 4.840893289,
                        "remaining_time": 4836.052395,
                        "test": [
                          0.8272900763,
                          0.6889515266
                        ]
                      },
                      {
                        "learn": [
                          0.7994173949,
                          0.6888797197
                        ],
                        "iteration": 10,
                        "passed_time": 5.421075585,
                        "remaining_time": 4922.829456,
                        "test": [
                          0.8262955854,
                          0.6885543135
                        ]
                      },
                      {
                        "learn": [
                          0.7997502082,
                          0.6885414641
                        ],
                        "iteration": 11,
                        "passed_time": 6.022545266,
                        "remaining_time": 5012.765177,
                        "test": [
                          0.8262955854,
                          0.688198013
                        ]
                      },
                      {
                        "learn": [
                          0.7995837669,
                          0.6881478919
                        ],
                        "iteration": 12,
                        "passed_time": 6.583115453,
                        "remaining_time": 5057.351849,
                        "test": [
                          0.8262955854,
                          0.6877785713
                        ]
                      },
                      {
                        "learn": [
                          0.7994173949,
                          0.6877710669
                        ],
                        "iteration": 13,
                        "passed_time": 7.151580378,
                        "remaining_time": 5101.120118,
                        "test": [
                          0.8268585132,
                          0.6873734761
                        ]
                      },
                      {
                        "learn": [
                          0.7994173949,
                          0.6873502483
                        ],
                        "iteration": 14,
                        "passed_time": 7.635781253,
                        "remaining_time": 5082.885054,
                        "test": [
                          0.8268585132,
                          0.6869169829
                        ]
                      },
                      {
                        "learn": [
                          0.7994173949,
                          0.686930528
                        ],
                        "iteration": 15,
                        "passed_time": 8.164430661,
                        "remaining_time": 5094.604732,
                        "test": [
                          0.8262955854,
                          0.6864644403
                        ]
                      },
                      {
                        "learn": [
                          0.801659751,
                          0.6865540312
                        ],
                        "iteration": 16,
                        "passed_time": 8.679310902,
                        "remaining_time": 5096.79769,
                        "test": [
                          0.8260661236,
                          0.6860654858
                        ]
                      },
                      {
                        "learn": [
                          0.8014934661,
                          0.6861564835
                        ],
                        "iteration": 17,
                        "passed_time": 9.181360206,
                        "remaining_time": 5091.57431,
                        "test": [
                          0.8260661236,
                          0.6856491954
                        ]
                      },
                      {
                        "learn": [
                          0.8015757827,
                          0.6857710507
                        ],
                        "iteration": 18,
                        "passed_time": 9.737127083,
                        "remaining_time": 5115.066601,
                        "test": [
                          0.8256704981,
                          0.6852300761
                        ]
                      },
                      {
                        "learn": [
                          0.801659751,
                          0.6854126027
                        ],
                        "iteration": 19,
                        "passed_time": 11.00223049,
                        "remaining_time": 5490.113014,
                        "test": [
                          0.8260661236,
                          0.6848404777
                        ]
                      },
                      {
                        "learn": [
                          0.8017420158,
                          0.6850349911
                        ],
                        "iteration": 20,
                        "passed_time": 11.81405826,
                        "remaining_time": 5613.927972,
                        "test": [
                          0.8260661236,
                          0.6844330966
                        ]
                      },
                      {
                        "learn": [
                          0.8015757827,
                          0.684626655
                        ],
                        "iteration": 21,
                        "passed_time": 12.69841607,
                        "remaining_time": 5759.308887,
                        "test": [
                          0.8266283525,
                          0.6840070342
                        ]
                      },
                      {
                        "learn": [
                          0.8016546019,
                          0.6842453406
                        ],
                        "iteration": 22,
                        "passed_time": 13.66077541,
                        "remaining_time": 5925.806795,
                        "test": [
                          0.8265647396,
                          0.6835992168
                        ]
                      },
                      {
                        "learn": [
                          0.8015708971,
                          0.6838539678
                        ],
                        "iteration": 23,
                        "passed_time": 14.3167922,
                        "remaining_time": 5951.013289,
                        "test": [
                          0.8265647396,
                          0.6831895206
                        ]
                      },
                      {
                        "learn": [
                          0.801405249,
                          0.6834652537
                        ],
                        "iteration": 24,
                        "passed_time": 14.80517767,
                        "remaining_time": 5907.265892,
                        "test": [
                          0.8265647396,
                          0.6827818276
                        ]
                      },
                      {
                        "learn": [
                          0.801405249,
                          0.6830184734
                        ],
                        "iteration": 25,
                        "passed_time": 15.36008582,
                        "remaining_time": 5892.365231,
                        "test": [
                          0.8265647396,
                          0.6823148191
                        ]
                      },
                      {
                        "learn": [
                          0.801405249,
                          0.6826024657
                        ],
                        "iteration": 26,
                        "passed_time": 15.96770937,
                        "remaining_time": 5897.998725,
                        "test": [
                          0.8265647396,
                          0.6818723937
                        ]
                      },
                      {
                        "learn": [
                          0.8023088023,
                          0.682225875
                        ],
                        "iteration": 27,
                        "passed_time": 16.49704067,
                        "remaining_time": 5875.303199,
                        "test": [
                          0.8272900763,
                          0.681467663
                        ]
                      },
                      {
                        "learn": [
                          0.8024716787,
                          0.6818533189
                        ],
                        "iteration": 28,
                        "passed_time": 17.01833503,
                        "remaining_time": 5851.373056,
                        "test": [
                          0.8272900763,
                          0.6810656493
                        ]
                      },
                      {
                        "learn": [
                          0.801405249,
                          0.6814891889
                        ],
                        "iteration": 29,
                        "passed_time": 17.64757246,
                        "remaining_time": 5864.876581,
                        "test": [
                          0.8265647396,
                          0.6806726008
                        ]
                      },
                      {
                        "learn": [
                          0.8016546019,
                          0.6811439612
                        ],
                        "iteration": 30,
                        "passed_time": 18.04209498,
                        "remaining_time": 5801.988543,
                        "test": [
                          0.8265647396,
                          0.6802947496
                        ]
                      },
                      {
                        "learn": [
                          0.8015757827,
                          0.6808000613
                        ],
                        "iteration": 31,
                        "passed_time": 18.49902224,
                        "remaining_time": 5762.445427,
                        "test": [
                          0.8256704981,
                          0.6799210621
                        ]
                      },
                      {
                        "learn": [
                          0.8017420158,
                          0.6804585865
                        ],
                        "iteration": 32,
                        "passed_time": 19.00642044,
                        "remaining_time": 5740.514924,
                        "test": [
                          0.8256704981,
                          0.6795444195
                        ]
                      },
                      {
                        "learn": [
                          0.8017420158,
                          0.6800407306
                        ],
                        "iteration": 33,
                        "passed_time": 19.62790307,
                        "remaining_time": 5753.284765,
                        "test": [
                          0.8256704981,
                          0.6791014498
                        ]
                      },
                      {
                        "learn": [
                          0.8017420158,
                          0.6796553799
                        ],
                        "iteration": 34,
                        "passed_time": 20.13789102,
                        "remaining_time": 5733.545258,
                        "test": [
                          0.8256704981,
                          0.6786953101
                        ]
                      },
                      {
                        "learn": [
                          0.8023207625,
                          0.6792916528
                        ],
                        "iteration": 35,
                        "passed_time": 20.62911555,
                        "remaining_time": 5709.680759,
                        "test": [
                          0.8267942584,
                          0.6783023167
                        ]
                      },
                      {
                        "learn": [
                          0.8018242123,
                          0.6788613752
                        ],
                        "iteration": 36,
                        "passed_time": 20.94467625,
                        "remaining_time": 5639.778636,
                        "test": [
                          0.8262326472,
                          0.6778509938
                        ]
                      },
                      {
                        "learn": [
                          0.8020682523,
                          0.678480773
                        ],
                        "iteration": 37,
                        "passed_time": 21.24802542,
                        "remaining_time": 5570.337612,
                        "test": [
                          0.8265647396,
                          0.6774515149
                        ]
                      },
                      {
                        "learn": [
                          0.8019904624,
                          0.678120375
                        ],
                        "iteration": 38,
                        "passed_time": 21.5573273,
                        "remaining_time": 5505.962494,
                        "test": [
                          0.8256704981,
                          0.6770610646
                        ]
                      },
                      {
                        "learn": [
                          0.8018242123,
                          0.6777230801
                        ],
                        "iteration": 39,
                        "passed_time": 21.85638159,
                        "remaining_time": 5442.239015,
                        "test": [
                          0.8260661236,
                          0.6766397347
                        ]
                      },
                      {
                        "learn": [
                          0.8021545473,
                          0.677313485
                        ],
                        "iteration": 40,
                        "passed_time": 22.17387303,
                        "remaining_time": 5386.087842,
                        "test": [
                          0.8260661236,
                          0.6762112444
                        ]
                      },
                      {
                        "learn": [
                          0.8019023987,
                          0.6769459563
                        ],
                        "iteration": 41,
                        "passed_time": 22.50224283,
                        "remaining_time": 5335.174621,
                        "test": [
                          0.8263988522,
                          0.6758196497
                        ]
                      },
                      {
                        "learn": [
                          0.8019023987,
                          0.6765248773
                        ],
                        "iteration": 42,
                        "passed_time": 22.79979446,
                        "remaining_time": 5279.477986,
                        "test": [
                          0.8258373206,
                          0.675370153
                        ]
                      },
                      {
                        "learn": [
                          0.8019863439,
                          0.6760656816
                        ],
                        "iteration": 43,
                        "passed_time": 23.10883429,
                        "remaining_time": 5228.898959,
                        "test": [
                          0.8252752513,
                          0.6748771236
                        ]
                      },
                      {
                        "learn": [
                          0.8017366136,
                          0.6756932564
                        ],
                        "iteration": 44,
                        "passed_time": 23.40678082,
                        "remaining_time": 5178.100068,
                        "test": [
                          0.8260038241,
                          0.6744845223
                        ]
                      },
                      {
                        "learn": [
                          0.8019063407,
                          0.6753614811
                        ],
                        "iteration": 45,
                        "passed_time": 23.7122319,
                        "remaining_time": 5131.12079,
                        "test": [
                          0.8260661236,
                          0.6741177575
                        ]
                      },
                      {
                        "learn": [
                          0.8022341746,
                          0.6749990508
                        ],
                        "iteration": 46,
                        "passed_time": 24.15467206,
                        "remaining_time": 5115.137256,
                        "test": [
                          0.8258373206,
                          0.6737302672
                        ]
                      },
                      {
                        "learn": [
                          0.8017366136,
                          0.6746127541
                        ],
                        "iteration": 47,
                        "passed_time": 24.7061632,
                        "remaining_time": 5122.411171,
                        "test": [
                          0.8260038241,
                          0.6733286174
                        ]
                      },
                      {
                        "learn": [
                          0.8016528926,
                          0.6742476863
                        ],
                        "iteration": 48,
                        "passed_time": 25.64601657,
                        "remaining_time": 5208.234916,
                        "test": [
                          0.8265647396,
                          0.6729406086
                        ]
                      },
                      {
                        "learn": [
                          0.8018204386,
                          0.6739180652
                        ],
                        "iteration": 49,
                        "passed_time": 26.62382661,
                        "remaining_time": 5298.141495,
                        "test": [
                          0.8258373206,
                          0.6725775543
                        ]
                      },
                      {
                        "learn": [
                          0.8014888337,
                          0.6735566116
                        ],
                        "iteration": 50,
                        "passed_time": 27.49491862,
                        "remaining_time": 5363.665595,
                        "test": [
                          0.8265647396,
                          0.6721935432
                        ]
                      },
                      {
                        "learn": [
                          0.8015708971,
                          0.6732088177
                        ],
                        "iteration": 51,
                        "passed_time": 27.94167368,
                        "remaining_time": 5345.457111,
                        "test": [
                          0.8265647396,
                          0.671817016
                        ]
                      },
                      {
                        "learn": [
                          0.8016546019,
                          0.672858322
                        ],
                        "iteration": 52,
                        "passed_time": 28.25014978,
                        "remaining_time": 5301.96679,
                        "test": [
                          0.8254423721,
                          0.6714393773
                        ]
                      },
                      {
                        "learn": [
                          0.8017366136,
                          0.6725062247
                        ],
                        "iteration": 53,
                        "passed_time": 28.5481443,
                        "remaining_time": 5258.145245,
                        "test": [
                          0.8265647396,
                          0.6710592567
                        ]
                      },
                      {
                        "learn": [
                          0.8015708971,
                          0.672145238
                        ],
                        "iteration": 54,
                        "passed_time": 28.85736656,
                        "remaining_time": 5217.936554,
                        "test": [
                          0.8265647396,
                          0.6706757518
                        ]
                      },
                      {
                        "learn": [
                          0.8015708971,
                          0.6717845055
                        ],
                        "iteration": 55,
                        "passed_time": 29.16551355,
                        "remaining_time": 5178.961906,
                        "test": [
                          0.8265647396,
                          0.6702899495
                        ]
                      },
                      {
                        "learn": [
                          0.801405249,
                          0.6714295175
                        ],
                        "iteration": 56,
                        "passed_time": 29.46965916,
                        "remaining_time": 5140.645983,
                        "test": [
                          0.8265647396,
                          0.6699101588
                        ]
                      },
                      {
                        "learn": [
                          0.801405249,
                          0.6710098745
                        ],
                        "iteration": 57,
                        "passed_time": 29.77752554,
                        "remaining_time": 5104.278603,
                        "test": [
                          0.8265647396,
                          0.6694746257
                        ]
                      },
                      {
                        "learn": [
                          0.801405249,
                          0.6706091311
                        ],
                        "iteration": 58,
                        "passed_time": 30.08874058,
                        "remaining_time": 5069.697799,
                        "test": [
                          0.8265647396,
                          0.6690476884
                        ]
                      },
                      {
                        "learn": [
                          0.8016528926,
                          0.670245287
                        ],
                        "iteration": 59,
                        "passed_time": 30.39503044,
                        "remaining_time": 5035.443376,
                        "test": [
                          0.8265647396,
                          0.6686526366
                        ]
                      },
                      {
                        "learn": [
                          0.8020639835,
                          0.6698949049
                        ],
                        "iteration": 60,
                        "passed_time": 30.71161368,
                        "remaining_time": 5003.979153,
                        "test": [
                          0.8265647396,
                          0.6682718769
                        ]
                      },
                      {
                        "learn": [
                          0.8019004338,
                          0.6695074221
                        ],
                        "iteration": 61,
                        "passed_time": 31.01852493,
                        "remaining_time": 4971.969368,
                        "test": [
                          0.8265647396,
                          0.6678543629
                        ]
                      },
                      {
                        "learn": [
                          0.8027210884,
                          0.6691525916
                        ],
                        "iteration": 62,
                        "passed_time": 31.31672056,
                        "remaining_time": 4939.591305,
                        "test": [
                          0.8276849642,
                          0.6674687278
                        ]
                      },
                      {
                        "learn": [
                          0.8029678483,
                          0.6687619585
                        ],
                        "iteration": 63,
                        "passed_time": 31.61988459,
                        "remaining_time": 4908.987083,
                        "test": [
                          0.8276849642,
                          0.6670552636
                        ]
                      },
                      {
                        "learn": [
                          0.8019004338,
                          0.6684108991
                        ],
                        "iteration": 64,
                        "passed_time": 31.93771208,
                        "remaining_time": 4881.556454,
                        "test": [
                          0.8265647396,
                          0.6666802993
                        ]
                      },
                      {
                        "learn": [
                          0.8016528926,
                          0.6679739043
                        ],
                        "iteration": 65,
                        "passed_time": 32.25812668,
                        "remaining_time": 4855.336825,
                        "test": [
                          0.8265647396,
                          0.6662026344
                        ]
                      },
                      {
                        "learn": [
                          0.801405249,
                          0.667637689
                        ],
                        "iteration": 66,
                        "passed_time": 32.5584734,
                        "remaining_time": 4826.915168,
                        "test": [
                          0.8265647396,
                          0.6658398077
                        ]
                      },
                      {
                        "learn": [
                          0.801405249,
                          0.6672764768
                        ],
                        "iteration": 67,
                        "passed_time": 32.87982157,
                        "remaining_time": 4802.388056,
                        "test": [
                          0.8265647396,
                          0.665448575
                        ]
                      },
                      {
                        "learn": [
                          0.801405249,
                          0.66690007
                        ],
                        "iteration": 68,
                        "passed_time": 33.18678642,
                        "remaining_time": 4776.492405,
                        "test": [
                          0.8265647396,
                          0.6650373318
                        ]
                      },
                      {
                        "learn": [
                          0.801405249,
                          0.6665511823
                        ],
                        "iteration": 69,
                        "passed_time": 33.48949275,
                        "remaining_time": 4750.723758,
                        "test": [
                          0.8265647396,
                          0.664664054
                        ]
                      },
                      {
                        "learn": [
                          0.801405249,
                          0.6661502245
                        ],
                        "iteration": 70,
                        "passed_time": 33.796408,
                        "remaining_time": 4726.261056,
                        "test": [
                          0.8265647396,
                          0.6642477688
                        ]
                      },
                      {
                        "learn": [
                          0.801405249,
                          0.6658349779
                        ],
                        "iteration": 71,
                        "passed_time": 34.1036382,
                        "remaining_time": 4702.512778,
                        "test": [
                          0.8265647396,
                          0.6638982443
                        ]
                      },
                      {
                        "learn": [
                          0.801405249,
                          0.6654529613
                        ],
                        "iteration": 72,
                        "passed_time": 34.41113807,
                        "remaining_time": 4679.443392,
                        "test": [
                          0.8265647396,
                          0.6634903422
                        ]
                      },
                      {
                        "learn": [
                          0.801405249,
                          0.6651142687
                        ],
                        "iteration": 73,
                        "passed_time": 34.70534651,
                        "remaining_time": 4655.206344,
                        "test": [
                          0.8265647396,
                          0.6631227162
                        ]
                      },
                      {
                        "learn": [
                          0.801405249,
                          0.6647751266
                        ],
                        "iteration": 74,
                        "passed_time": 35.04545531,
                        "remaining_time": 4637.68192,
                        "test": [
                          0.8265647396,
                          0.6627562929
                        ]
                      },
                      {
                        "learn": [
                          0.801405249,
                          0.6644053768
                        ],
                        "iteration": 75,
                        "passed_time": 35.34578158,
                        "remaining_time": 4615.414952,
                        "test": [
                          0.8265647396,
                          0.6623587886
                        ]
                      },
                      {
                        "learn": [
                          0.801405249,
                          0.6640490923
                        ],
                        "iteration": 76,
                        "passed_time": 35.65524751,
                        "remaining_time": 4594.896378,
                        "test": [
                          0.8265647396,
                          0.6619885812
                        ]
                      },
                      {
                        "learn": [
                          0.801405249,
                          0.6636439682
                        ],
                        "iteration": 77,
                        "passed_time": 35.96505112,
                        "remaining_time": 4574.938939,
                        "test": [
                          0.8265647396,
                          0.6615499424
                        ]
                      },
                      {
                        "learn": [
                          0.801405249,
                          0.6632340136
                        ],
                        "iteration": 78,
                        "passed_time": 36.27993035,
                        "remaining_time": 4556.116316,
                        "test": [
                          0.8265647396,
                          0.6611086079
                        ]
                      },
                      {
                        "learn": [
                          0.801405249,
                          0.662846309
                        ],
                        "iteration": 79,
                        "passed_time": 36.58928118,
                        "remaining_time": 4537.070867,
                        "test": [
                          0.8265647396,
                          0.6606989667
                        ]
                      },
                      {
                        "learn": [
                          0.801405249,
                          0.6625174166
                        ],
                        "iteration": 80,
                        "passed_time": 36.89961335,
                        "remaining_time": 4518.608207,
                        "test": [
                          0.8265647396,
                          0.6603413075
                        ]
                      },
                      {
                        "learn": [
                          0.801405249,
                          0.6622105358
                        ],
                        "iteration": 81,
                        "passed_time": 37.20150075,
                        "remaining_time": 4499.566883,
                        "test": [
                          0.8265647396,
                          0.6600055381
                        ]
                      },
                      {
                        "learn": [
                          0.801405249,
                          0.6618182836
                        ],
                        "iteration": 82,
                        "passed_time": 37.51213163,
                        "remaining_time": 4482.021799,
                        "test": [
                          0.8265647396,
                          0.6595910176
                        ]
                      },
                      {
                        "learn": [
                          0.801405249,
                          0.6615105974
                        ],
                        "iteration": 83,
                        "passed_time": 37.83234362,
                        "remaining_time": 4466.018087,
                        "test": [
                          0.8265647396,
                          0.6592501766
                        ]
                      },
                      {
                        "learn": [
                          0.8015708971,
                          0.6612128464
                        ],
                        "iteration": 84,
                        "passed_time": 38.27687673,
                        "remaining_time": 4464.885092,
                        "test": [
                          0.8265647396,
                          0.6589341575
                        ]
                      },
                      {
                        "learn": [
                          0.801405249,
                          0.6608697652
                        ],
                        "iteration": 85,
                        "passed_time": 38.81758585,
                        "remaining_time": 4474.855188,
                        "test": [
                          0.8265647396,
                          0.6585728009
                        ]
                      },
                      {
                        "learn": [
                          0.801405249,
                          0.6605327152
                        ],
                        "iteration": 86,
                        "passed_time": 39.37222855,
                        "remaining_time": 4486.171283,
                        "test": [
                          0.8265647396,
                          0.6582129259
                        ]
                      },
                      {
                        "learn": [
                          0.801405249,
                          0.6601921921
                        ],
                        "iteration": 87,
                        "passed_time": 39.92140797,
                        "remaining_time": 4496.602225,
                        "test": [
                          0.8265647396,
                          0.6578543927
                        ]
                      },
                      {
                        "learn": [
                          0.801405249,
                          0.6598390358
                        ],
                        "iteration": 88,
                        "passed_time": 40.476038,
                        "remaining_time": 4507.3934,
                        "test": [
                          0.8265647396,
                          0.6574780009
                        ]
                      },
                      {
                        "learn": [
                          0.801405249,
                          0.6595029064
                        ],
                        "iteration": 89,
                        "passed_time": 41.01252243,
                        "remaining_time": 4515.934414,
                        "test": [
                          0.8265647396,
                          0.6571153176
                        ]
                      },
                      {
                        "learn": [
                          0.801405249,
                          0.6591646376
                        ],
                        "iteration": 90,
                        "passed_time": 41.47353421,
                        "remaining_time": 4516.057698,
                        "test": [
                          0.8265647396,
                          0.6567607943
                        ]
                      },
                      {
                        "learn": [
                          0.8016528926,
                          0.6588335894
                        ],
                        "iteration": 91,
                        "passed_time": 41.77490369,
                        "remaining_time": 4498.975497,
                        "test": [
                          0.8265647396,
                          0.6564061435
                        ]
                      },
                      {
                        "learn": [
                          0.801405249,
                          0.6585126288
                        ],
                        "iteration": 92,
                        "passed_time": 42.10089463,
                        "remaining_time": 4484.877023,
                        "test": [
                          0.8265647396,
                          0.6560634553
                        ]
                      },
                      {
                        "learn": [
                          0.801405249,
                          0.658163241
                        ],
                        "iteration": 93,
                        "passed_time": 42.40923212,
                        "remaining_time": 4469.211206,
                        "test": [
                          0.8265647396,
                          0.6557010914
                        ]
                      },
                      {
                        "learn": [
                          0.801405249,
                          0.6577568135
                        ],
                        "iteration": 94,
                        "passed_time": 42.71219717,
                        "remaining_time": 4453.308557,
                        "test": [
                          0.8265647396,
                          0.6552803905
                        ]
                      },
                      {
                        "learn": [
                          0.801405249,
                          0.6574547504
                        ],
                        "iteration": 95,
                        "passed_time": 43.02258675,
                        "remaining_time": 4438.496866,
                        "test": [
                          0.8265647396,
                          0.654946715
                        ]
                      },
                      {
                        "learn": [
                          0.801405249,
                          0.6571157105
                        ],
                        "iteration": 96,
                        "passed_time": 43.35061966,
                        "remaining_time": 4425.785428,
                        "test": [
                          0.8265647396,
                          0.6545866575
                        ]
                      },
                      {
                        "learn": [
                          0.801405249,
                          0.6567515317
                        ],
                        "iteration": 97,
                        "passed_time": 43.66980275,
                        "remaining_time": 4412.432519,
                        "test": [
                          0.8265647396,
                          0.6541957031
                        ]
                      },
                      {
                        "learn": [
                          0.801405249,
                          0.656441458
                        ],
                        "iteration": 98,
                        "passed_time": 43.98360606,
                        "remaining_time": 4398.804884,
                        "test": [
                          0.8265647396,
                          0.6538585515
                        ]
                      },
                      {
                        "learn": [
                          0.801405249,
                          0.656070335
                        ],
                        "iteration": 99,
                        "passed_time": 44.30144985,
                        "remaining_time": 4385.843535,
                        "test": [
                          0.8265647396,
                          0.6534543776
                        ]
                      },
                      {
                        "learn": [
                          0.801405249,
                          0.6557437412
                        ],
                        "iteration": 100,
                        "passed_time": 44.61128782,
                        "remaining_time": 4372.347903,
                        "test": [
                          0.8265647396,
                          0.6531031307
                        ]
                      },
                      {
                        "learn": [
                          0.801405249,
                          0.6553536451
                        ],
                        "iteration": 101,
                        "passed_time": 44.91548614,
                        "remaining_time": 4358.563547,
                        "test": [
                          0.8265647396,
                          0.6526789588
                        ]
                      },
                      {
                        "learn": [
                          0.801405249,
                          0.654983448
                        ],
                        "iteration": 102,
                        "passed_time": 45.25160553,
                        "remaining_time": 4348.108155,
                        "test": [
                          0.8265647396,
                          0.6522864723
                        ]
                      },
                      {
                        "learn": [
                          0.801405249,
                          0.6546143379
                        ],
                        "iteration": 103,
                        "passed_time": 45.55716593,
                        "remaining_time": 4334.939559,
                        "test": [
                          0.8265647396,
                          0.651895224
                        ]
                      },
                      {
                        "learn": [
                          0.801405249,
                          0.6542260869
                        ],
                        "iteration": 104,
                        "passed_time": 45.85899038,
                        "remaining_time": 4321.663903,
                        "test": [
                          0.8265647396,
                          0.6514873174
                        ]
                      },
                      {
                        "learn": [
                          0.8013231342,
                          0.6539354873
                        ],
                        "iteration": 105,
                        "passed_time": 46.16853045,
                        "remaining_time": 4309.35321,
                        "test": [
                          0.8265647396,
                          0.6511702332
                        ]
                      },
                      {
                        "learn": [
                          0.8014888337,
                          0.653564588
                        ],
                        "iteration": 106,
                        "passed_time": 46.47462442,
                        "remaining_time": 4296.948218,
                        "test": [
                          0.8265647396,
                          0.6507797296
                        ]
                      },
                      {
                        "learn": [
                          0.801405249,
                          0.6532549851
                        ],
                        "iteration": 107,
                        "passed_time": 46.78455433,
                        "remaining_time": 4285.118625,
                        "test": [
                          0.8265647396,
                          0.6504427223
                        ]
                      },
                      {
                        "learn": [
                          0.8014888337,
                          0.652955619
                        ],
                        "iteration": 108,
                        "passed_time": 47.10156209,
                        "remaining_time": 4274.142666,
                        "test": [
                          0.8265647396,
                          0.6501155889
                        ]
                      },
                      {
                        "learn": [
                          0.8013231342,
                          0.652651056
                        ],
                        "iteration": 109,
                        "passed_time": 47.4126124,
                        "remaining_time": 4262.824879,
                        "test": [
                          0.8265647396,
                          0.649784671
                        ]
                      },
                      {
                        "learn": [
                          0.8014888337,
                          0.6523413221
                        ],
                        "iteration": 110,
                        "passed_time": 47.71238104,
                        "remaining_time": 4250.700326,
                        "test": [
                          0.8265647396,
                          0.649450402
                        ]
                      },
                      {
                        "learn": [
                          0.8014888337,
                          0.651969823
                        ],
                        "iteration": 111,
                        "passed_time": 48.01005985,
                        "remaining_time": 4238.602427,
                        "test": [
                          0.8265647396,
                          0.6490562166
                        ]
                      },
                      {
                        "learn": [
                          0.8014888337,
                          0.6516814285
                        ],
                        "iteration": 112,
                        "passed_time": 48.3228321,
                        "remaining_time": 4228.033991,
                        "test": [
                          0.8260038241,
                          0.6487396644
                        ]
                      },
                      {
                        "learn": [
                          0.8014888337,
                          0.6513591449
                        ],
                        "iteration": 113,
                        "passed_time": 48.62979838,
                        "remaining_time": 4217.141989,
                        "test": [
                          0.8265647396,
                          0.6483977824
                        ]
                      },
                      {
                        "learn": [
                          0.8014888337,
                          0.6510200111
                        ],
                        "iteration": 114,
                        "passed_time": 48.93543428,
                        "remaining_time": 4206.319721,
                        "test": [
                          0.8265647396,
                          0.6480333782
                        ]
                      },
                      {
                        "learn": [
                          0.8018204386,
                          0.6507224742
                        ],
                        "iteration": 115,
                        "passed_time": 49.2552436,
                        "remaining_time": 4196.886446,
                        "test": [
                          0.8254423721,
                          0.6477116557
                        ]
                      },
                      {
                        "learn": [
                          0.8014888337,
                          0.6504135906
                        ],
                        "iteration": 116,
                        "passed_time": 49.56145767,
                        "remaining_time": 4186.460566,
                        "test": [
                          0.8265647396,
                          0.6473749913
                        ]
                      },
                      {
                        "learn": [
                          0.8014888337,
                          0.6500500474
                        ],
                        "iteration": 117,
                        "passed_time": 49.86330644,
                        "remaining_time": 4175.840629,
                        "test": [
                          0.8265647396,
                          0.6469901677
                        ]
                      },
                      {
                        "learn": [
                          0.8014888337,
                          0.6497371419
                        ],
                        "iteration": 118,
                        "passed_time": 50.18255705,
                        "remaining_time": 4166.839044,
                        "test": [
                          0.8265647396,
                          0.6466543966
                        ]
                      },
                      {
                        "learn": [
                          0.8018204386,
                          0.6494550045
                        ],
                        "iteration": 119,
                        "passed_time": 50.49218392,
                        "remaining_time": 4157.18981,
                        "test": [
                          0.8254423721,
                          0.6463395811
                        ]
                      },
                      {
                        "learn": [
                          0.8014888337,
                          0.6491367881
                        ],
                        "iteration": 120,
                        "passed_time": 50.79068545,
                        "remaining_time": 4146.786625,
                        "test": [
                          0.8265647396,
                          0.6459973446
                        ]
                      },
                      {
                        "learn": [
                          0.8014888337,
                          0.6487654234
                        ],
                        "iteration": 121,
                        "passed_time": 51.08891414,
                        "remaining_time": 4136.526999,
                        "test": [
                          0.8260038241,
                          0.645602999
                        ]
                      },
                      {
                        "learn": [
                          0.8014888337,
                          0.6484085792
                        ],
                        "iteration": 122,
                        "passed_time": 51.43049583,
                        "remaining_time": 4129.910628,
                        "test": [
                          0.8254423721,
                          0.645220877
                        ]
                      },
                      {
                        "learn": [
                          0.8014888337,
                          0.6480962304
                        ],
                        "iteration": 123,
                        "passed_time": 51.97608313,
                        "remaining_time": 4139.643524,
                        "test": [
                          0.8265647396,
                          0.6448896304
                        ]
                      },
                      {
                        "learn": [
                          0.8014888337,
                          0.647755036
                        ],
                        "iteration": 124,
                        "passed_time": 52.54597425,
                        "remaining_time": 4151.131965,
                        "test": [
                          0.8265647396,
                          0.6445327567
                        ]
                      },
                      {
                        "learn": [
                          0.8014888337,
                          0.6474445134
                        ],
                        "iteration": 125,
                        "passed_time": 53.09399962,
                        "remaining_time": 4160.715494,
                        "test": [
                          0.8265647396,
                          0.6441993867
                        ]
                      },
                      {
                        "learn": [
                          0.8014888337,
                          0.6471454074
                        ],
                        "iteration": 126,
                        "passed_time": 53.66266017,
                        "remaining_time": 4171.743652,
                        "test": [
                          0.8265647396,
                          0.6438733989
                        ]
                      },
                      {
                        "learn": [
                          0.8015708971,
                          0.6468299007
                        ],
                        "iteration": 127,
                        "passed_time": 54.19184069,
                        "remaining_time": 4179.545713,
                        "test": [
                          0.8265647396,
                          0.6435386765
                        ]
                      },
                      {
                        "learn": [
                          0.8015708971,
                          0.6464747281
                        ],
                        "iteration": 128,
                        "passed_time": 54.75313451,
                        "remaining_time": 4189.675897,
                        "test": [
                          0.8265647396,
                          0.6431536557
                        ]
                      },
                      {
                        "learn": [
                          0.8015708971,
                          0.646114782
                        ],
                        "iteration": 129,
                        "passed_time": 55.07808052,
                        "remaining_time": 4181.697344,
                        "test": [
                          0.8265647396,
                          0.6427685431
                        ]
                      },
                      {
                        "learn": [
                          0.8014888337,
                          0.6458369841
                        ],
                        "iteration": 130,
                        "passed_time": 55.39999462,
                        "remaining_time": 4173.607228,
                        "test": [
                          0.8265647396,
                          0.6424639961
                        ]
                      },
                      {
                        "learn": [
                          0.8014888337,
                          0.6455450616
                        ],
                        "iteration": 131,
                        "passed_time": 55.70161708,
                        "remaining_time": 4164.117858,
                        "test": [
                          0.8265647396,
                          0.6421477657
                        ]
                      },
                      {
                        "learn": [
                          0.8014888337,
                          0.6452709002
                        ],
                        "iteration": 132,
                        "passed_time": 56.00797136,
                        "remaining_time": 4155.117695,
                        "test": [
                          0.8265647396,
                          0.641842967
                        ]
                      },
                      {
                        "learn": [
                          0.8019863439,
                          0.6449959027
                        ],
                        "iteration": 133,
                        "passed_time": 56.3287222,
                        "remaining_time": 4147.307263,
                        "test": [
                          0.8254423721,
                          0.6415359447
                        ]
                      },
                      {
                        "learn": [
                          0.8014888337,
                          0.6446887201
                        ],
                        "iteration": 134,
                        "passed_time": 56.63081419,
                        "remaining_time": 4138.244311,
                        "test": [
                          0.8265647396,
                          0.6412118875
                        ]
                      },
                      {
                        "learn": [
                          0.8014888337,
                          0.6443514113
                        ],
                        "iteration": 135,
                        "passed_time": 56.93186884,
                        "remaining_time": 4129.234958,
                        "test": [
                          0.8265647396,
                          0.6408502154
                        ]
                      },
                      {
                        "learn": [
                          0.8014888337,
                          0.6440476862
                        ],
                        "iteration": 136,
                        "passed_time": 57.23504596,
                        "remaining_time": 4120.505535,
                        "test": [
                          0.8265647396,
                          0.640523829
                        ]
                      },
                      {
                        "learn": [
                          0.8014888337,
                          0.6436626587
                        ],
                        "iteration": 137,
                        "passed_time": 57.55407783,
                        "remaining_time": 4113.031272,
                        "test": [
                          0.8265647396,
                          0.6401048398
                        ]
                      },
                      {
                        "learn": [
                          0.8016546019,
                          0.6433647066
                        ],
                        "iteration": 138,
                        "passed_time": 57.86797592,
                        "remaining_time": 4105.295759,
                        "test": [
                          0.8265647396,
                          0.6397801437
                        ]
                      },
                      {
                        "learn": [
                          0.8016546019,
                          0.6430921424
                        ],
                        "iteration": 139,
                        "passed_time": 58.18387159,
                        "remaining_time": 4097.806957,
                        "test": [
                          0.8260038241,
                          0.6394784026
                        ]
                      },
                      {
                        "learn": [
                          0.8016546019,
                          0.6427969208
                        ],
                        "iteration": 140,
                        "passed_time": 58.50032785,
                        "remaining_time": 4090.459094,
                        "test": [
                          0.8265647396,
                          0.6391609631
                        ]
                      },
                      {
                        "learn": [
                          0.8014888337,
                          0.6424867053
                        ],
                        "iteration": 141,
                        "passed_time": 58.80718041,
                        "remaining_time": 4082.543553,
                        "test": [
                          0.8265647396,
                          0.6388312299
                        ]
                      },
                      {
                        "learn": [
                          0.8014888337,
                          0.6421597769
                        ],
                        "iteration": 142,
                        "passed_time": 59.11583547,
                        "remaining_time": 4074.858673,
                        "test": [
                          0.8265647396,
                          0.6384737969
                        ]
                      },
                      {
                        "learn": [
                          0.8016546019,
                          0.6418920677
                        ],
                        "iteration": 143,
                        "passed_time": 59.44507462,
                        "remaining_time": 4068.685107,
                        "test": [
                          0.8265647396,
                          0.6381916204
                        ]
                      },
                      {
                        "learn": [
                          0.8016546019,
                          0.6415503296
                        ],
                        "iteration": 144,
                        "passed_time": 59.76129769,
                        "remaining_time": 4061.707509,
                        "test": [
                          0.8265647396,
                          0.6378188381
                        ]
                      },
                      {
                        "learn": [
                          0.8016546019,
                          0.6412077851
                        ],
                        "iteration": 145,
                        "passed_time": 60.07389009,
                        "remaining_time": 4054.576116,
                        "test": [
                          0.8265647396,
                          0.6374515998
                        ]
                      },
                      {
                        "learn": [
                          0.8028169014,
                          0.6409350741
                        ],
                        "iteration": 146,
                        "passed_time": 60.39603628,
                        "remaining_time": 4048.17786,
                        "test": [
                          0.8252752513,
                          0.6371519188
                        ]
                      },
                      {
                        "learn": [
                          0.8019863439,
                          0.6406493814
                        ],
                        "iteration": 147,
                        "passed_time": 60.69595487,
                        "remaining_time": 4040.382077,
                        "test": [
                          0.8254423721,
                          0.6368416772
                        ]
                      },
                      {
                        "learn": [
                          0.8024870466,
                          0.6403747938
                        ],
                        "iteration": 148,
                        "passed_time": 61.01646495,
                        "remaining_time": 4034.048296,
                        "test": [
                          0.8256704981,
                          0.6365411251
                        ]
                      },
                      {
                        "learn": [
                          0.802238806,
                          0.6401100705
                        ],
                        "iteration": 149,
                        "passed_time": 61.32769974,
                        "remaining_time": 4027.185616,
                        "test": [
                          0.8260661236,
                          0.6362442783
                        ]
                      },
                      {
                        "learn": [
                          0.802238806,
                          0.6398206666
                        ],
                        "iteration": 150,
                        "passed_time": 61.63948667,
                        "remaining_time": 4020.445723,
                        "test": [
                          0.8256704981,
                          0.6359324627
                        ]
                      },
                      {
                        "learn": [
                          0.8024870466,
                          0.6395193366
                        ],
                        "iteration": 151,
                        "passed_time": 61.9439168,
                        "remaining_time": 4013.313767,
                        "test": [
                          0.8256704981,
                          0.635610039
                        ]
                      },
                      {
                        "learn": [
                          0.802238806,
                          0.6392520209
                        ],
                        "iteration": 152,
                        "passed_time": 62.24939925,
                        "remaining_time": 4006.338787,
                        "test": [
                          0.8260661236,
                          0.6353172273
                        ]
                      },
                      {
                        "learn": [
                          0.802238806,
                          0.638942235
                        ],
                        "iteration": 153,
                        "passed_time": 62.56629317,
                        "remaining_time": 4000.180016,
                        "test": [
                          0.8260661236,
                          0.6349809008
                        ]
                      },
                      {
                        "learn": [
                          0.802238806,
                          0.6386552568
                        ],
                        "iteration": 154,
                        "passed_time": 62.86952457,
                        "remaining_time": 3993.228835,
                        "test": [
                          0.8256704981,
                          0.6346704594
                        ]
                      },
                      {
                        "learn": [
                          0.802238806,
                          0.6383942097
                        ],
                        "iteration": 155,
                        "passed_time": 63.17089899,
                        "remaining_time": 3986.245703,
                        "test": [
                          0.8260661236,
                          0.6343837272
                        ]
                      },
                      {
                        "learn": [
                          0.8017420158,
                          0.6381314754
                        ],
                        "iteration": 156,
                        "passed_time": 63.4934253,
                        "remaining_time": 3980.673791,
                        "test": [
                          0.8260661236,
                          0.6340961286
                        ]
                      },
                      {
                        "learn": [
                          0.8019904624,
                          0.637835648
                        ],
                        "iteration": 157,
                        "passed_time": 63.79214748,
                        "remaining_time": 3973.685541,
                        "test": [
                          0.8260661236,
                          0.6337772501
                        ]
                      },
                      {
                        "learn": [
                          0.8017420158,
                          0.6375637095
                        ],
                        "iteration": 158,
                        "passed_time": 64.09379646,
                        "remaining_time": 3966.962585,
                        "test": [
                          0.8260661236,
                          0.6334795802
                        ]
                      },
                      {
                        "learn": [
                          0.8017420158,
                          0.6372886416
                        ],
                        "iteration": 159,
                        "passed_time": 64.41263699,
                        "remaining_time": 3961.377175,
                        "test": [
                          0.8260661236,
                          0.6331825191
                        ]
                      },
                      {
                        "learn": [
                          0.8017420158,
                          0.6370027338
                        ],
                        "iteration": 160,
                        "passed_time": 64.73342717,
                        "remaining_time": 3955.976335,
                        "test": [
                          0.8260661236,
                          0.6328715012
                        ]
                      },
                      {
                        "learn": [
                          0.8017420158,
                          0.6367116664
                        ],
                        "iteration": 161,
                        "passed_time": 65.12709487,
                        "remaining_time": 3955.063947,
                        "test": [
                          0.8260661236,
                          0.6325563209
                        ]
                      },
                      {
                        "learn": [
                          0.8019904624,
                          0.6364182494
                        ],
                        "iteration": 162,
                        "passed_time": 65.69182126,
                        "remaining_time": 3964.481262,
                        "test": [
                          0.8260661236,
                          0.6322430919
                        ]
                      },
                      {
                        "learn": [
                          0.8019904624,
                          0.6361231824
                        ],
                        "iteration": 163,
                        "passed_time": 66.16954298,
                        "remaining_time": 3968.558688,
                        "test": [
                          0.8256704981,
                          0.6319309956
                        ]
                      },
                      {
                        "learn": [
                          0.8019904624,
                          0.6357939843
                        ],
                        "iteration": 164,
                        "passed_time": 66.72414098,
                        "remaining_time": 3977.163191,
                        "test": [
                          0.8256704981,
                          0.6315759083
                        ]
                      },
                      {
                        "learn": [
                          0.802238806,
                          0.6354910984
                        ],
                        "iteration": 165,
                        "passed_time": 67.26343794,
                        "remaining_time": 3984.750896,
                        "test": [
                          0.8256704981,
                          0.6312602227
                        ]
                      },
                      {
                        "learn": [
                          0.802238806,
                          0.6352107461
                        ],
                        "iteration": 166,
                        "passed_time": 67.82542677,
                        "remaining_time": 3993.577374,
                        "test": [
                          0.8252752513,
                          0.6309571575
                        ]
                      },
                      {
                        "learn": [
                          0.8024870466,
                          0.6349331405
                        ],
                        "iteration": 167,
                        "passed_time": 68.37337767,
                        "remaining_time": 4001.470531,
                        "test": [
                          0.8252752513,
                          0.6306497188
                        ]
                      },
                      {
                        "learn": [
                          0.8024870466,
                          0.6345867361
                        ],
                        "iteration": 168,
                        "passed_time": 68.79672742,
                        "remaining_time": 4002.015546,
                        "test": [
                          0.8252752513,
                          0.6302826084
                        ]
                      },
                      {
                        "learn": [
                          0.8024870466,
                          0.6342531944
                        ],
                        "iteration": 169,
                        "passed_time": 69.10440491,
                        "remaining_time": 3995.86059,
                        "test": [
                          0.8252752513,
                          0.6299276679
                        ]
                      },
                      {
                        "learn": [
                          0.8028169014,
                          0.6339637454
                        ],
                        "iteration": 170,
                        "passed_time": 69.41158433,
                        "remaining_time": 3989.745394,
                        "test": [
                          0.8252752513,
                          0.6296192436
                        ]
                      },
                      {
                        "learn": [
                          0.802484472,
                          0.6336867558
                        ],
                        "iteration": 171,
                        "passed_time": 69.72678255,
                        "remaining_time": 3984.155924,
                        "test": [
                          0.8252752513,
                          0.6293205421
                        ]
                      },
                      {
                        "learn": [
                          0.802484472,
                          0.6333597811
                        ],
                        "iteration": 172,
                        "passed_time": 70.04423073,
                        "remaining_time": 3978.755234,
                        "test": [
                          0.8252752513,
                          0.6289701674
                        ]
                      },
                      {
                        "learn": [
                          0.802484472,
                          0.6330114979
                        ],
                        "iteration": 173,
                        "passed_time": 70.34507628,
                        "remaining_time": 3972.475399,
                        "test": [
                          0.8252752513,
                          0.6286002801
                        ]
                      },
                      {
                        "learn": [
                          0.8016546019,
                          0.6327386336
                        ],
                        "iteration": 174,
                        "passed_time": 70.66839662,
                        "remaining_time": 3967.525696,
                        "test": [
                          0.8260038241,
                          0.6283035962
                        ]
                      },
                      {
                        "learn": [
                          0.8016546019,
                          0.6324650959
                        ],
                        "iteration": 175,
                        "passed_time": 70.97673204,
                        "remaining_time": 3961.792134,
                        "test": [
                          0.8265647396,
                          0.6280062423
                        ]
                      },
                      {
                        "learn": [
                          0.8018204386,
                          0.6322130291
                        ],
                        "iteration": 176,
                        "passed_time": 71.27942274,
                        "remaining_time": 3955.806608,
                        "test": [
                          0.8254423721,
                          0.6277259812
                        ]
                      },
                      {
                        "learn": [
                          0.8018204386,
                          0.6319253266
                        ],
                        "iteration": 177,
                        "passed_time": 71.5980623,
                        "remaining_time": 3950.764988,
                        "test": [
                          0.8260038241,
                          0.6274120374
                        ]
                      },
                      {
                        "learn": [
                          0.8026506523,
                          0.6316738605
                        ],
                        "iteration": 178,
                        "passed_time": 71.90966837,
                        "remaining_time": 3945.39024,
                        "test": [
                          0.8252752513,
                          0.6271464075
                        ]
                      },
                      {
                        "learn": [
                          0.802484472,
                          0.6314062443
                        ],
                        "iteration": 179,
                        "passed_time": 72.21973951,
                        "remaining_time": 3939.988011,
                        "test": [
                          0.8248803828,
                          0.6268486806
                        ]
                      },
                      {
                        "learn": [
                          0.8018204386,
                          0.631125208
                        ],
                        "iteration": 180,
                        "passed_time": 72.53338848,
                        "remaining_time": 3934.836141,
                        "test": [
                          0.8265647396,
                          0.626550043
                        ]
                      },
                      {
                        "learn": [
                          0.8028169014,
                          0.6308838459
                        ],
                        "iteration": 181,
                        "passed_time": 72.85643825,
                        "remaining_time": 3930.244565,
                        "test": [
                          0.8252752513,
                          0.6262905134
                        ]
                      },
                      {
                        "learn": [
                          0.8019863439,
                          0.6306181425
                        ],
                        "iteration": 182,
                        "passed_time": 73.16946193,
                        "remaining_time": 3925.161791,
                        "test": [
                          0.8260038241,
                          0.6259994511
                        ]
                      },
                      {
                        "learn": [
                          0.8016546019,
                          0.6303510016
                        ],
                        "iteration": 183,
                        "passed_time": 73.47324081,
                        "remaining_time": 3919.637673,
                        "test": [
                          0.8265647396,
                          0.6257099857
                        ]
                      },
                      {
                        "learn": [
                          0.8016546019,
                          0.6300498971
                        ],
                        "iteration": 184,
                        "passed_time": 73.80978087,
                        "remaining_time": 3915.908104,
                        "test": [
                          0.8265647396,
                          0.6253839593
                        ]
                      },
                      {
                        "learn": [
                          0.8016546019,
                          0.6297486592
                        ],
                        "iteration": 185,
                        "passed_time": 74.12479012,
                        "remaining_time": 3911.07898,
                        "test": [
                          0.8265647396,
                          0.6250531419
                        ]
                      },
                      {
                        "learn": [
                          0.8016546019,
                          0.6294205532
                        ],
                        "iteration": 186,
                        "passed_time": 74.42852657,
                        "remaining_time": 3905.706584,
                        "test": [
                          0.8265647396,
                          0.624699345
                        ]
                      },
                      {
                        "learn": [
                          0.8026506523,
                          0.629174535
                        ],
                        "iteration": 187,
                        "passed_time": 74.74538815,
                        "remaining_time": 3901.073131,
                        "test": [
                          0.8252752513,
                          0.6244246374
                        ]
                      },
                      {
                        "learn": [
                          0.8024870466,
                          0.6289302743
                        ],
                        "iteration": 188,
                        "passed_time": 75.0673502,
                        "remaining_time": 3896.75012,
                        "test": [
                          0.8252752513,
                          0.6241536236
                        ]
                      },
                      {
                        "learn": [
                          0.8028169014,
                          0.6286628555
                        ],
                        "iteration": 189,
                        "passed_time": 75.37029659,
                        "remaining_time": 3891.487419,
                        "test": [
                          0.8252752513,
                          0.6238634061
                        ]
                      },
                      {
                        "learn": [
                          0.8021523179,
                          0.6284014502
                        ],
                        "iteration": 190,
                        "passed_time": 75.67839534,
                        "remaining_time": 3886.541256,
                        "test": [
                          0.8254423721,
                          0.6235781376
                        ]
                      },
                      {
                        "learn": [
                          0.8018204386,
                          0.6281208372
                        ],
                        "iteration": 191,
                        "passed_time": 75.98905816,
                        "remaining_time": 3881.774387,
                        "test": [
                          0.8265647396,
                          0.6232824378
                        ]
                      },
                      {
                        "learn": [
                          0.8016546019,
                          0.6278242734
                        ],
                        "iteration": 192,
                        "passed_time": 76.29844436,
                        "remaining_time": 3876.988828,
                        "test": [
                          0.8265647396,
                          0.6229684304
                        ]
                      },
                      {
                        "learn": [
                          0.802484472,
                          0.6275746224
                        ],
                        "iteration": 193,
                        "passed_time": 76.62165532,
                        "remaining_time": 3872.948207,
                        "test": [
                          0.8248803828,
                          0.6226943221
                        ]
                      },
                      {
                        "learn": [
                          0.8029832194,
                          0.6272290072
                        ],
                        "iteration": 194,
                        "passed_time": 76.93783445,
                        "remaining_time": 3868.592137,
                        "test": [
                          0.8252752513,
                          0.6223019029
                        ]
                      },
                      {
                        "learn": [
                          0.802484472,
                          0.6269614709
                        ],
                        "iteration": 195,
                        "passed_time": 77.24594718,
                        "remaining_time": 3863.873807,
                        "test": [
                          0.8252752513,
                          0.6220083815
                        ]
                      },
                      {
                        "learn": [
                          0.8019863439,
                          0.6266996729
                        ],
                        "iteration": 196,
                        "passed_time": 77.55104843,
                        "remaining_time": 3859.050395,
                        "test": [
                          0.8260038241,
                          0.621721174
                        ]
                      },
                      {
                        "learn": [
                          0.8028169014,
                          0.6264603637
                        ],
                        "iteration": 197,
                        "passed_time": 77.87498437,
                        "remaining_time": 3855.205035,
                        "test": [
                          0.8252752513,
                          0.6214572483
                        ]
                      },
                      {
                        "learn": [
                          0.8024870466,
                          0.6262210912
                        ],
                        "iteration": 198,
                        "passed_time": 78.19068963,
                        "remaining_time": 3850.989694,
                        "test": [
                          0.8252752513,
                          0.6211986103
                        ]
                      },
                      {
                        "learn": [
                          0.8024870466,
                          0.6259131954
                        ],
                        "iteration": 199,
                        "passed_time": 78.50877468,
                        "remaining_time": 3846.929959,
                        "test": [
                          0.8252752513,
                          0.6208679074
                        ]
                      },
                      {
                        "learn": [
                          0.8024870466,
                          0.6256074349
                        ],
                        "iteration": 200,
                        "passed_time": 78.92056714,
                        "remaining_time": 3847.475808,
                        "test": [
                          0.8252752513,
                          0.6205471731
                        ]
                      },
                      {
                        "learn": [
                          0.802238806,
                          0.625359929
                        ],
                        "iteration": 201,
                        "passed_time": 79.49536646,
                        "remaining_time": 3855.918815,
                        "test": [
                          0.8256704981,
                          0.6202861254
                        ]
                      },
                      {
                        "learn": [
                          0.8024870466,
                          0.6250498475
                        ],
                        "iteration": 202,
                        "passed_time": 80.08513391,
                        "remaining_time": 3864.995354,
                        "test": [
                          0.8256704981,
                          0.6199588186
                        ]
                      },
                      {
                        "learn": [
                          0.8024870466,
                          0.6247953439
                        ],
                        "iteration": 203,
                        "passed_time": 80.63895465,
                        "remaining_time": 3872.250979,
                        "test": [
                          0.8252752513,
                          0.6196752376
                        ]
                      },
                      {
                        "learn": [
                          0.8024870466,
                          0.6244808256
                        ],
                        "iteration": 204,
                        "passed_time": 81.17286951,
                        "remaining_time": 3878.479302,
                        "test": [
                          0.8252752513,
                          0.6193424809
                        ]
                      },
                      {
                        "learn": [
                          0.8028169014,
                          0.6242259295
                        ],
                        "iteration": 205,
                        "passed_time": 81.73165016,
                        "remaining_time": 3885.824183,
                        "test": [
                          0.8258373206,
                          0.6190624681
                        ]
                      },
                      {
                        "learn": [
                          0.8028169014,
                          0.6239121001
                        ],
                        "iteration": 206,
                        "passed_time": 82.22034593,
                        "remaining_time": 3889.777042,
                        "test": [
                          0.8258373206,
                          0.618725651
                        ]
                      },
                      {
                        "learn": [
                          0.8028169014,
                          0.6236321819
                        ],
                        "iteration": 207,
                        "passed_time": 82.56840369,
                        "remaining_time": 3887.066389,
                        "test": [
                          0.8258373206,
                          0.6184205888
                        ]
                      },
                      {
                        "learn": [
                          0.802484472,
                          0.6233786196
                        ],
                        "iteration": 208,
                        "passed_time": 82.87312875,
                        "remaining_time": 3882.348343,
                        "test": [
                          0.8258373206,
                          0.6181456571
                        ]
                      },
                      {
                        "learn": [
                          0.8024870466,
                          0.6231306219
                        ],
                        "iteration": 209,
                        "passed_time": 83.18013675,
                        "remaining_time": 3877.778756,
                        "test": [
                          0.8252752513,
                          0.6178771751
                        ]
                      },
                      {
                        "learn": [
                          0.8027351844,
                          0.6228386954
                        ],
                        "iteration": 210,
                        "passed_time": 83.48088606,
                        "remaining_time": 3872.959212,
                        "test": [
                          0.8252752513,
                          0.6175623133
                        ]
                      },
                      {
                        "learn": [
                          0.8029832194,
                          0.6225510047
                        ],
                        "iteration": 211,
                        "passed_time": 83.7939712,
                        "remaining_time": 3868.75184,
                        "test": [
                          0.8252752513,
                          0.6172569948
                        ]
                      },
                      {
                        "learn": [
                          0.8024870466,
                          0.6223201741
                        ],
                        "iteration": 212,
                        "passed_time": 84.11078609,
                        "remaining_time": 3864.752411,
                        "test": [
                          0.8252752513,
                          0.6169986066
                        ]
                      },
                      {
                        "learn": [
                          0.8019904624,
                          0.6220933107
                        ],
                        "iteration": 213,
                        "passed_time": 84.42196572,
                        "remaining_time": 3860.529703,
                        "test": [
                          0.8256704981,
                          0.6167547435
                        ]
                      },
                      {
                        "learn": [
                          0.8017420158,
                          0.6218462333
                        ],
                        "iteration": 214,
                        "passed_time": 84.71519749,
                        "remaining_time": 3855.526546,
                        "test": [
                          0.8256704981,
                          0.6164893249
                        ]
                      },
                      {
                        "learn": [
                          0.8017420158,
                          0.6216160701
                        ],
                        "iteration": 215,
                        "passed_time": 85.03784874,
                        "remaining_time": 3851.899593,
                        "test": [
                          0.8256704981,
                          0.61624126
                        ]
                      },
                      {
                        "learn": [
                          0.8017420158,
                          0.6212958764
                        ],
                        "iteration": 216,
                        "passed_time": 85.35424088,
                        "remaining_time": 3848.020915,
                        "test": [
                          0.8260661236,
                          0.6158987153
                        ]
                      },
                      {
                        "learn": [
                          0.8017420158,
                          0.6210504963
                        ],
                        "iteration": 217,
                        "passed_time": 85.65188692,
                        "remaining_time": 3843.333752,
                        "test": [
                          0.8260661236,
                          0.6156292006
                        ]
                      },
                      {
                        "learn": [
                          0.8017420158,
                          0.6208203168
                        ],
                        "iteration": 218,
                        "passed_time": 85.96966665,
                        "remaining_time": 3839.585888,
                        "test": [
                          0.8260661236,
                          0.6153749839
                        ]
                      },
                      {
                        "learn": [
                          0.8017420158,
                          0.6205221974
                        ],
                        "iteration": 219,
                        "passed_time": 86.28158492,
                        "remaining_time": 3835.608639,
                        "test": [
                          0.8260661236,
                          0.615048226
                        ]
                      },
                      {
                        "learn": [
                          0.8019083178,
                          0.6202905069
                        ],
                        "iteration": 220,
                        "passed_time": 86.58558445,
                        "remaining_time": 3831.314164,
                        "test": [
                          0.8260661236,
                          0.6147929208
                        ]
                      },
                      {
                        "learn": [
                          0.8017420158,
                          0.6200506826
                        ],
                        "iteration": 221,
                        "passed_time": 86.89774411,
                        "remaining_time": 3827.415054,
                        "test": [
                          0.8260661236,
                          0.6145300529
                        ]
                      },
                      {
                        "learn": [
                          0.8019083178,
                          0.6197446408
                        ],
                        "iteration": 222,
                        "passed_time": 87.21802358,
                        "remaining_time": 3823.90411,
                        "test": [
                          0.8260661236,
                          0.6141967558
                        ]
                      },
                      {
                        "learn": [
                          0.8019083178,
                          0.61943981
                        ],
                        "iteration": 223,
                        "passed_time": 87.5197688,
                        "remaining_time": 3819.612767,
                        "test": [
                          0.8260661236,
                          0.6138683262
                        ]
                      },
                      {
                        "learn": [
                          0.8017420158,
                          0.6191807441
                        ],
                        "iteration": 224,
                        "passed_time": 87.82536002,
                        "remaining_time": 3815.523974,
                        "test": [
                          0.8260661236,
                          0.61359103
                        ]
                      },
                      {
                        "learn": [
                          0.8017420158,
                          0.6189142109
                        ],
                        "iteration": 225,
                        "passed_time": 88.14819099,
                        "remaining_time": 3812.214242,
                        "test": [
                          0.8260661236,
                          0.6133066256
                        ]
                      },
                      {
                        "learn": [
                          0.8017420158,
                          0.6186675211
                        ],
                        "iteration": 226,
                        "passed_time": 88.45461874,
                        "remaining_time": 3808.224621,
                        "test": [
                          0.8260661236,
                          0.6130379264
                        ]
                      },
                      {
                        "learn": [
                          0.8017420158,
                          0.618400391
                        ],
                        "iteration": 227,
                        "passed_time": 88.75649878,
                        "remaining_time": 3804.072395,
                        "test": [
                          0.8260661236,
                          0.6127565628
                        ]
                      },
                      {
                        "learn": [
                          0.8017420158,
                          0.6181600519
                        ],
                        "iteration": 228,
                        "passed_time": 89.07417769,
                        "remaining_time": 3800.627905,
                        "test": [
                          0.8260661236,
                          0.6124913527
                        ]
                      },
                      {
                        "learn": [
                          0.8017420158,
                          0.617851524
                        ],
                        "iteration": 229,
                        "passed_time": 89.39290312,
                        "remaining_time": 3797.255059,
                        "test": [
                          0.8260661236,
                          0.6121634524
                        ]
                      },
                      {
                        "learn": [
                          0.8017420158,
                          0.6176018733
                        ],
                        "iteration": 230,
                        "passed_time": 89.69602136,
                        "remaining_time": 3793.248626,
                        "test": [
                          0.8256704981,
                          0.6118970273
                        ]
                      },
                      {
                        "learn": [
                          0.8017420158,
                          0.6172734607
                        ],
                        "iteration": 231,
                        "passed_time": 90.02481313,
                        "remaining_time": 3790.355063,
                        "test": [
                          0.8260661236,
                          0.6115419958
                        ]
                      },
                      {
                        "learn": [
                          0.8017420158,
                          0.6170516986
                        ],
                        "iteration": 232,
                        "passed_time": 90.34402932,
                        "remaining_time": 3787.082122,
                        "test": [
                          0.8260661236,
                          0.6113097658
                        ]
                      },
                      {
                        "learn": [
                          0.8017420158,
                          0.6167828364
                        ],
                        "iteration": 233,
                        "passed_time": 90.65264803,
                        "remaining_time": 3783.39214,
                        "test": [
                          0.8260661236,
                          0.6110289598
                        ]
                      },
                      {
                        "learn": [
                          0.8017420158,
                          0.6165475858
                        ],
                        "iteration": 234,
                        "passed_time": 90.97200675,
                        "remaining_time": 3780.177217,
                        "test": [
                          0.8256704981,
                          0.6107754505
                        ]
                      },
                      {
                        "learn": [
                          0.8017420158,
                          0.6162427958
                        ],
                        "iteration": 235,
                        "passed_time": 91.28394444,
                        "remaining_time": 3776.679803,
                        "test": [
                          0.8256704981,
                          0.6104530399
                        ]
                      },
                      {
                        "learn": [
                          0.8017420158,
                          0.6159918776
                        ],
                        "iteration": 236,
                        "passed_time": 91.58077146,
                        "remaining_time": 3772.586801,
                        "test": [
                          0.8256704981,
                          0.6101835747
                        ]
                      },
                      {
                        "learn": [
                          0.8017420158,
                          0.6156680314
                        ],
                        "iteration": 237,
                        "passed_time": 91.8981037,
                        "remaining_time": 3769.366758,
                        "test": [
                          0.8256704981,
                          0.6098227969
                        ]
                      },
                      {
                        "learn": [
                          0.8017420158,
                          0.6153746732
                        ],
                        "iteration": 238,
                        "passed_time": 92.21238511,
                        "remaining_time": 3766.046406,
                        "test": [
                          0.8256704981,
                          0.6095131179
                        ]
                      },
                      {
                        "learn": [
                          0.8017420158,
                          0.6151022849
                        ],
                        "iteration": 239,
                        "passed_time": 92.59301284,
                        "remaining_time": 3765.449189,
                        "test": [
                          0.8256704981,
                          0.6092155613
                        ]
                      },
                      {
                        "learn": [
                          0.8017420158,
                          0.6148817507
                        ],
                        "iteration": 240,
                        "passed_time": 93.15105656,
                        "remaining_time": 3772.038012,
                        "test": [
                          0.8260661236,
                          0.6089775417
                        ]
                      },
                      {
                        "learn": [
                          0.8017420158,
                          0.6146631653
                        ],
                        "iteration": 241,
                        "passed_time": 93.70067722,
                        "remaining_time": 3778.228134,
                        "test": [
                          0.8260661236,
                          0.608736255
                        ]
                      },
                      {
                        "learn": [
                          0.8017420158,
                          0.6144219392
                        ],
                        "iteration": 242,
                        "passed_time": 94.31228044,
                        "remaining_time": 3786.851524,
                        "test": [
                          0.8260661236,
                          0.6084769544
                        ]
                      },
                      {
                        "learn": [
                          0.8017420158,
                          0.6141879828
                        ],
                        "iteration": 243,
                        "passed_time": 95.64701535,
                        "remaining_time": 3824.31263,
                        "test": [
                          0.8256704981,
                          0.6082193023
                        ]
                      },
                      {
                        "learn": [
                          0.8017420158,
                          0.6139680383
                        ],
                        "iteration": 244,
                        "passed_time": 96.16527579,
                        "remaining_time": 3828.948022,
                        "test": [
                          0.8260661236,
                          0.6079764512
                        ]
                      },
                      {
                        "learn": [
                          0.8017420158,
                          0.6137517853
                        ],
                        "iteration": 245,
                        "passed_time": 96.49006642,
                        "remaining_time": 3825.870357,
                        "test": [
                          0.8260661236,
                          0.6077463472
                        ]
                      },
                      {
                        "learn": [
                          0.8017420158,
                          0.6134957395
                        ],
                        "iteration": 246,
                        "passed_time": 96.79114797,
                        "remaining_time": 3821.87881,
                        "test": [
                          0.8260661236,
                          0.6074747993
                        ]
                      },
                      {
                        "learn": [
                          0.8017420158,
                          0.6132593844
                        ],
                        "iteration": 247,
                        "passed_time": 97.10688671,
                        "remaining_time": 3818.493384,
                        "test": [
                          0.8260661236,
                          0.6072178708
                        ]
                      },
                      {
                        "learn": [
                          0.8017420158,
                          0.6130093947
                        ],
                        "iteration": 248,
                        "passed_time": 97.41916757,
                        "remaining_time": 3814.997201,
                        "test": [
                          0.8260661236,
                          0.6069518897
                        ]
                      },
                      {
                        "learn": [
                          0.8017420158,
                          0.6127974358
                        ],
                        "iteration": 249,
                        "passed_time": 97.72274343,
                        "remaining_time": 3811.186994,
                        "test": [
                          0.8260661236,
                          0.6067263262
                        ]
                      },
                      {
                        "learn": [
                          0.8017420158,
                          0.6125663965
                        ],
                        "iteration": 250,
                        "passed_time": 98.02867714,
                        "remaining_time": 3807.496309,
                        "test": [
                          0.8260661236,
                          0.6064690268
                        ]
                      },
                      {
                        "learn": [
                          0.8017420158,
                          0.6122891217
                        ],
                        "iteration": 251,
                        "passed_time": 98.35635769,
                        "remaining_time": 3804.673709,
                        "test": [
                          0.8260661236,
                          0.6061719128
                        ]
                      },
                      {
                        "learn": [
                          0.8017420158,
                          0.6120522953
                        ],
                        "iteration": 252,
                        "passed_time": 98.6685615,
                        "remaining_time": 3801.274581,
                        "test": [
                          0.8256704981,
                          0.6059148974
                        ]
                      },
                      {
                        "learn": [
                          0.8017420158,
                          0.6117807574
                        ],
                        "iteration": 253,
                        "passed_time": 99.28215877,
                        "remaining_time": 3809.464249,
                        "test": [
                          0.8256704981,
                          0.6056274015
                        ]
                      },
                      {
                        "learn": [
                          0.8017420158,
                          0.6114881999
                        ],
                        "iteration": 254,
                        "passed_time": 99.65147353,
                        "remaining_time": 3808.249449,
                        "test": [
                          0.8256704981,
                          0.6053126308
                        ]
                      },
                      {
                        "learn": [
                          0.8017420158,
                          0.6112509266
                        ],
                        "iteration": 255,
                        "passed_time": 100.1080558,
                        "remaining_time": 3810.362873,
                        "test": [
                          0.8256704981,
                          0.6050558211
                        ]
                      },
                      {
                        "learn": [
                          0.8017420158,
                          0.6110162559
                        ],
                        "iteration": 256,
                        "passed_time": 100.6449671,
                        "remaining_time": 3815.501613,
                        "test": [
                          0.8256704981,
                          0.6047992568
                        ]
                      },
                      {
                        "learn": [
                          0.8017420158,
                          0.6108080314
                        ],
                        "iteration": 257,
                        "passed_time": 100.9572696,
                        "remaining_time": 3812.115196,
                        "test": [
                          0.8256704981,
                          0.6045782657
                        ]
                      },
                      {
                        "learn": [
                          0.8017420158,
                          0.6105855819
                        ],
                        "iteration": 258,
                        "passed_time": 101.6265073,
                        "remaining_time": 3822.176862,
                        "test": [
                          0.8256704981,
                          0.6043355093
                        ]
                      },
                      {
                        "learn": [
                          0.8017420158,
                          0.6103242969
                        ],
                        "iteration": 259,
                        "passed_time": 101.9334429,
                        "remaining_time": 3818.583591,
                        "test": [
                          0.8256704981,
                          0.6040546246
                        ]
                      },
                      {
                        "learn": [
                          0.8017420158,
                          0.6100393186
                        ],
                        "iteration": 260,
                        "passed_time": 102.2422573,
                        "remaining_time": 3815.085609,
                        "test": [
                          0.8256704981,
                          0.6037579449
                        ]
                      },
                      {
                        "learn": [
                          0.8017420158,
                          0.6098305691
                        ],
                        "iteration": 261,
                        "passed_time": 102.5720312,
                        "remaining_time": 3812.390992,
                        "test": [
                          0.8256704981,
                          0.6035241934
                        ]
                      },
                      {
                        "learn": [
                          0.8017420158,
                          0.6095455514
                        ],
                        "iteration": 262,
                        "passed_time": 102.8852025,
                        "remaining_time": 3809.099684,
                        "test": [
                          0.8256704981,
                          0.6032143878
                        ]
                      },
                      {
                        "learn": [
                          0.8017420158,
                          0.6093028728
                        ],
                        "iteration": 263,
                        "passed_time": 103.1906986,
                        "remaining_time": 3805.547886,
                        "test": [
                          0.8256704981,
                          0.6029571675
                        ]
                      },
                      {
                        "learn": [
                          0.8017420158,
                          0.6090993902
                        ],
                        "iteration": 264,
                        "passed_time": 103.5164613,
                        "remaining_time": 3802.765098,
                        "test": [
                          0.8260661236,
                          0.6027362156
                        ]
                      },
                      {
                        "learn": [
                          0.8017420158,
                          0.6087956822
                        ],
                        "iteration": 265,
                        "passed_time": 103.8237072,
                        "remaining_time": 3799.32318,
                        "test": [
                          0.8260661236,
                          0.602405038
                        ]
                      },
                      {
                        "learn": [
                          0.8017420158,
                          0.6085127038
                        ],
                        "iteration": 266,
                        "passed_time": 104.1409995,
                        "remaining_time": 3796.270968,
                        "test": [
                          0.8260661236,
                          0.6021046002
                        ]
                      },
                      {
                        "learn": [
                          0.8017420158,
                          0.6082702819
                        ],
                        "iteration": 267,
                        "passed_time": 104.4622914,
                        "remaining_time": 3793.384403,
                        "test": [
                          0.8256704981,
                          0.6018462787
                        ]
                      },
                      {
                        "learn": [
                          0.8017420158,
                          0.6080629437
                        ],
                        "iteration": 268,
                        "passed_time": 104.7769247,
                        "remaining_time": 3790.276036,
                        "test": [
                          0.8260661236,
                          0.6016249341
                        ]
                      },
                      {
                        "learn": [
                          0.8017420158,
                          0.6078555046
                        ],
                        "iteration": 269,
                        "passed_time": 105.0817522,
                        "remaining_time": 3786.834997,
                        "test": [
                          0.8260661236,
                          0.6014021292
                        ]
                      },
                      {
                        "learn": [
                          0.8017420158,
                          0.607662242
                        ],
                        "iteration": 270,
                        "passed_time": 105.403323,
                        "remaining_time": 3784.01819,
                        "test": [
                          0.8260661236,
                          0.6011910068
                        ]
                      },
                      {
                        "learn": [
                          0.8020746888,
                          0.607445351
                        ],
                        "iteration": 271,
                        "passed_time": 105.7200047,
                        "remaining_time": 3781.044873,
                        "test": [
                          0.8260661236,
                          0.600949187
                        ]
                      },
                      {
                        "learn": [
                          0.8020746888,
                          0.6072247408
                        ],
                        "iteration": 272,
                        "passed_time": 106.0260472,
                        "remaining_time": 3777.711946,
                        "test": [
                          0.8260661236,
                          0.6007069178
                        ]
                      },
                      {
                        "learn": [
                          0.8017420158,
                          0.607004825
                        ],
                        "iteration": 273,
                        "passed_time": 106.4000461,
                        "remaining_time": 3776.813317,
                        "test": [
                          0.8260661236,
                          0.6004632095
                        ]
                      },
                      {
                        "learn": [
                          0.8020746888,
                          0.6067971194
                        ],
                        "iteration": 274,
                        "passed_time": 106.9524617,
                        "remaining_time": 3782.227965,
                        "test": [
                          0.8260661236,
                          0.6002338464
                        ]
                      },
                      {
                        "learn": [
                          0.8020746888,
                          0.6065934849
                        ],
                        "iteration": 275,
                        "passed_time": 107.5179274,
                        "remaining_time": 3788.059152,
                        "test": [
                          0.8260661236,
                          0.6000156913
                        ]
                      },
                      {
                        "learn": [
                          0.8020746888,
                          0.6063578173
                        ],
                        "iteration": 276,
                        "passed_time": 108.0724802,
                        "remaining_time": 3793.461099,
                        "test": [
                          0.8260661236,
                          0.5997643595
                        ]
                      },
                      {
                        "learn": [
                          0.8020746888,
                          0.6060972601
                        ],
                        "iteration": 277,
                        "passed_time": 108.647692,
                        "remaining_time": 3799.542667,
                        "test": [
                          0.8260661236,
                          0.59948609
                        ]
                      },
                      {
                        "learn": [
                          0.8020746888,
                          0.6057934385
                        ],
                        "iteration": 278,
                        "passed_time": 109.1945854,
                        "remaining_time": 3804.589838,
                        "test": [
                          0.8260661236,
                          0.5991603665
                        ]
                      },
                      {
                        "learn": [
                          0.8020746888,
                          0.6055216206
                        ],
                        "iteration": 279,
                        "passed_time": 109.7357451,
                        "remaining_time": 3809.398009,
                        "test": [
                          0.8260661236,
                          0.5988692638
                        ]
                      },
                      {
                        "learn": [
                          0.8020746888,
                          0.6052487359
                        ],
                        "iteration": 280,
                        "passed_time": 110.052461,
                        "remaining_time": 3806.405226,
                        "test": [
                          0.8260661236,
                          0.5985765877
                        ]
                      },
                      {
                        "learn": [
                          0.8020746888,
                          0.6050256986
                        ],
                        "iteration": 281,
                        "passed_time": 110.3647797,
                        "remaining_time": 3803.27989,
                        "test": [
                          0.8260661236,
                          0.5983368843
                        ]
                      },
                      {
                        "learn": [
                          0.8020746888,
                          0.6048030782
                        ],
                        "iteration": 282,
                        "passed_time": 110.6953993,
                        "remaining_time": 3800.802808,
                        "test": [
                          0.8260661236,
                          0.5980981863
                        ]
                      },
                      {
                        "learn": [
                          0.8020746888,
                          0.6045388053
                        ],
                        "iteration": 283,
                        "passed_time": 111.0019852,
                        "remaining_time": 3797.51862,
                        "test": [
                          0.8260661236,
                          0.597810882
                        ]
                      },
                      {
                        "learn": [
                          0.8020746888,
                          0.6043400795
                        ],
                        "iteration": 284,
                        "passed_time": 111.304171,
                        "remaining_time": 3794.105337,
                        "test": [
                          0.8260661236,
                          0.5975999619
                        ]
                      },
                      {
                        "learn": [
                          0.8020746888,
                          0.6041390033
                        ],
                        "iteration": 285,
                        "passed_time": 111.61971,
                        "remaining_time": 3791.167353,
                        "test": [
                          0.8260661236,
                          0.5973741121
                        ]
                      },
                      {
                        "learn": [
                          0.8020746888,
                          0.6038917672
                        ],
                        "iteration": 286,
                        "passed_time": 111.9363622,
                        "remaining_time": 3788.285318,
                        "test": [
                          0.8260661236,
                          0.5971065703
                        ]
                      },
                      {
                        "learn": [
                          0.801826105,
                          0.6036879949
                        ],
                        "iteration": 287,
                        "passed_time": 112.2452497,
                        "remaining_time": 3785.159253,
                        "test": [
                          0.8260661236,
                          0.5968825336
                        ]
                      },
                      {
                        "learn": [
                          0.801992528,
                          0.603490073
                        ],
                        "iteration": 288,
                        "passed_time": 112.5632148,
                        "remaining_time": 3782.357712,
                        "test": [
                          0.8260661236,
                          0.5966700509
                        ]
                      },
                      {
                        "learn": [
                          0.801992528,
                          0.6032928563
                        ],
                        "iteration": 289,
                        "passed_time": 112.8739854,
                        "remaining_time": 3779.332407,
                        "test": [
                          0.8260661236,
                          0.5964647318
                        ]
                      },
                      {
                        "learn": [
                          0.801992528,
                          0.6029949785
                        ],
                        "iteration": 290,
                        "passed_time": 113.1869123,
                        "remaining_time": 3776.397702,
                        "test": [
                          0.8260661236,
                          0.5961315528
                        ]
                      },
                      {
                        "learn": [
                          0.801992528,
                          0.6027235871
                        ],
                        "iteration": 291,
                        "passed_time": 113.4981929,
                        "remaining_time": 3773.42622,
                        "test": [
                          0.8260661236,
                          0.5958348253
                        ]
                      },
                      {
                        "learn": [
                          0.801992528,
                          0.6025160495
                        ],
                        "iteration": 292,
                        "passed_time": 113.8269583,
                        "remaining_time": 3771.052164,
                        "test": [
                          0.8260661236,
                          0.5956067324
                        ]
                      },
                      {
                        "learn": [
                          0.801992528,
                          0.6022914154
                        ],
                        "iteration": 293,
                        "passed_time": 114.142544,
                        "remaining_time": 3768.256912,
                        "test": [
                          0.8260661236,
                          0.5953678967
                        ]
                      },
                      {
                        "learn": [
                          0.801992528,
                          0.6020745966
                        ],
                        "iteration": 294,
                        "passed_time": 114.4489845,
                        "remaining_time": 3765.17761,
                        "test": [
                          0.8260661236,
                          0.5951322438
                        ]
                      },
                      {
                        "learn": [
                          0.801992528,
                          0.6018166607
                        ],
                        "iteration": 295,
                        "passed_time": 114.7814214,
                        "remaining_time": 3762.9693,
                        "test": [
                          0.8260661236,
                          0.5948572715
                        ]
                      },
                      {
                        "learn": [
                          0.801992528,
                          0.6016066024
                        ],
                        "iteration": 296,
                        "passed_time": 115.0878194,
                        "remaining_time": 3759.922936,
                        "test": [
                          0.8260661236,
                          0.5946263527
                        ]
                      },
                      {
                        "learn": [
                          0.801992528,
                          0.6014170782
                        ],
                        "iteration": 297,
                        "passed_time": 115.4039811,
                        "remaining_time": 3757.212836,
                        "test": [
                          0.8260661236,
                          0.5944234478
                        ]
                      },
                      {
                        "learn": [
                          0.801992528,
                          0.6012231049
                        ],
                        "iteration": 298,
                        "passed_time": 115.720642,
                        "remaining_time": 3754.534945,
                        "test": [
                          0.8260661236,
                          0.5942068019
                        ]
                      },
                      {
                        "learn": [
                          0.801992528,
                          0.6010065612
                        ],
                        "iteration": 299,
                        "passed_time": 116.0421273,
                        "remaining_time": 3752.028783,
                        "test": [
                          0.8260661236,
                          0.5939724989
                        ]
                      },
                      {
                        "learn": [
                          0.801992528,
                          0.6007837963
                        ],
                        "iteration": 300,
                        "passed_time": 116.3462493,
                        "remaining_time": 3748.977646,
                        "test": [
                          0.8260661236,
                          0.593733582
                        ]
                      },
                      {
                        "learn": [
                          0.801992528,
                          0.6005678128
                        ],
                        "iteration": 301,
                        "passed_time": 116.6724427,
                        "remaining_time": 3746.653474,
                        "test": [
                          0.8260661236,
                          0.5935085774
                        ]
                      },
                      {
                        "learn": [
                          0.801992528,
                          0.6002829727
                        ],
                        "iteration": 302,
                        "passed_time": 116.9913012,
                        "remaining_time": 3744.107749,
                        "test": [
                          0.8260661236,
                          0.5931912774
                        ]
                      },
                      {
                        "learn": [
                          0.801992528,
                          0.6001018294
                        ],
                        "iteration": 303,
                        "passed_time": 117.3019324,
                        "remaining_time": 3741.314266,
                        "test": [
                          0.8260661236,
                          0.592993725
                        ]
                      },
                      {
                        "learn": [
                          0.801992528,
                          0.5998996634
                        ],
                        "iteration": 304,
                        "passed_time": 117.611934,
                        "remaining_time": 3738.517051,
                        "test": [
                          0.8260661236,
                          0.5927731124
                        ]
                      },
                      {
                        "learn": [
                          0.801992528,
                          0.5996354714
                        ],
                        "iteration": 305,
                        "passed_time": 117.9248681,
                        "remaining_time": 3735.828993,
                        "test": [
                          0.8260661236,
                          0.5924974627
                        ]
                      },
                      {
                        "learn": [
                          0.801992528,
                          0.5994383655
                        ],
                        "iteration": 306,
                        "passed_time": 118.2410616,
                        "remaining_time": 3733.259315,
                        "test": [
                          0.8260661236,
                          0.5922843856
                        ]
                      },
                      {
                        "learn": [
                          0.801992528,
                          0.599189838
                        ],
                        "iteration": 307,
                        "passed_time": 118.5502096,
                        "remaining_time": 3730.48257,
                        "test": [
                          0.8260661236,
                          0.5920166423
                        ]
                      },
                      {
                        "learn": [
                          0.801992528,
                          0.5989853816
                        ],
                        "iteration": 308,
                        "passed_time": 118.8858572,
                        "remaining_time": 3728.552886,
                        "test": [
                          0.8260661236,
                          0.5917918214
                        ]
                      },
                      {
                        "learn": [
                          0.801992528,
                          0.5987831112
                        ],
                        "iteration": 309,
                        "passed_time": 119.1961307,
                        "remaining_time": 3725.840343,
                        "test": [
                          0.8260661236,
                          0.5915699298
                        ]
                      },
                      {
                        "learn": [
                          0.801992528,
                          0.5985331916
                        ],
                        "iteration": 310,
                        "passed_time": 119.5026421,
                        "remaining_time": 3723.026043,
                        "test": [
                          0.8260661236,
                          0.5913026186
                        ]
                      },
                      {
                        "learn": [
                          0.801992528,
                          0.5982836945
                        ],
                        "iteration": 311,
                        "passed_time": 119.8970904,
                        "remaining_time": 3722.958371,
                        "test": [
                          0.8260661236,
                          0.591035722
                        ]
                      },
                      {
                        "learn": [
                          0.801992528,
                          0.5980778897
                        ],
                        "iteration": 312,
                        "passed_time": 120.4538929,
                        "remaining_time": 3727.913293,
                        "test": [
                          0.8260661236,
                          0.5908093504
                        ]
                      },
                      {
                        "learn": [
                          0.801992528,
                          0.5978300807
                        ],
                        "iteration": 313,
                        "passed_time": 121.0383016,
                        "remaining_time": 3733.684681,
                        "test": [
                          0.8260661236,
                          0.5905470486
                        ]
                      },
                      {
                        "learn": [
                          0.801826105,
                          0.5976098703
                        ],
                        "iteration": 314,
                        "passed_time": 121.5236321,
                        "remaining_time": 3736.369451,
                        "test": [
                          0.8260661236,
                          0.5903123261
                        ]
                      },
                      {
                        "learn": [
                          0.801826105,
                          0.5973937908
                        ],
                        "iteration": 315,
                        "passed_time": 122.0841968,
                        "remaining_time": 3741.339751,
                        "test": [
                          0.8260661236,
                          0.5900807721
                        ]
                      },
                      {
                        "learn": [
                          0.801826105,
                          0.5972077261
                        ],
                        "iteration": 316,
                        "passed_time": 122.637039,
                        "remaining_time": 3746.039269,
                        "test": [
                          0.8260661236,
                          0.5898809184
                        ]
                      },
                      {
                        "learn": [
                          0.801992528,
                          0.5969314539
                        ],
                        "iteration": 317,
                        "passed_time": 123.1356692,
                        "remaining_time": 3749.055186,
                        "test": [
                          0.8260661236,
                          0.5895817761
                        ]
                      },
                      {
                        "learn": [
                          0.801992528,
                          0.5966847265
                        ],
                        "iteration": 318,
                        "passed_time": 123.5456709,
                        "remaining_time": 3749.359373,
                        "test": [
                          0.8260661236,
                          0.5893168401
                        ]
                      },
                      {
                        "learn": [
                          0.801826105,
                          0.5964528206
                        ],
                        "iteration": 319,
                        "passed_time": 123.8579883,
                        "remaining_time": 3746.704147,
                        "test": [
                          0.8260661236,
                          0.589060879
                        ]
                      },
                      {
                        "learn": [
                          0.801992528,
                          0.5962605345
                        ],
                        "iteration": 320,
                        "passed_time": 124.1834506,
                        "remaining_time": 3744.45987,
                        "test": [
                          0.8260661236,
                          0.5888481178
                        ]
                      },
                      {
                        "learn": [
                          0.801992528,
                          0.5959826129
                        ],
                        "iteration": 321,
                        "passed_time": 124.5022767,
                        "remaining_time": 3742.028054,
                        "test": [
                          0.8260661236,
                          0.5885471032
                        ]
                      },
                      {
                        "learn": [
                          0.801992528,
                          0.5957966167
                        ],
                        "iteration": 322,
                        "passed_time": 124.8101641,
                        "remaining_time": 3739.281603,
                        "test": [
                          0.8260661236,
                          0.5883359432
                        ]
                      },
                      {
                        "learn": [
                          0.801992528,
                          0.5956135709
                        ],
                        "iteration": 323,
                        "passed_time": 125.1452899,
                        "remaining_time": 3737.363657,
                        "test": [
                          0.8260661236,
                          0.588132971
                        ]
                      },
                      {
                        "learn": [
                          0.801992528,
                          0.5953983564
                        ],
                        "iteration": 324,
                        "passed_time": 125.4557004,
                        "remaining_time": 3734.719696,
                        "test": [
                          0.8260661236,
                          0.5879043994
                        ]
                      },
                      {
                        "learn": [
                          0.801992528,
                          0.5951804365
                        ],
                        "iteration": 325,
                        "passed_time": 125.7793554,
                        "remaining_time": 3732.483079,
                        "test": [
                          0.8260661236,
                          0.5876781405
                        ]
                      },
                      {
                        "learn": [
                          0.801992528,
                          0.5949298968
                        ],
                        "iteration": 326,
                        "passed_time": 126.1147985,
                        "remaining_time": 3730.606868,
                        "test": [
                          0.8260661236,
                          0.5874072897
                        ]
                      },
                      {
                        "learn": [
                          0.801910299,
                          0.5947474306
                        ],
                        "iteration": 327,
                        "passed_time": 126.4252564,
                        "remaining_time": 3728.003292,
                        "test": [
                          0.8260661236,
                          0.5872008454
                        ]
                      },
                      {
                        "learn": [
                          0.8020768432,
                          0.594473069
                        ],
                        "iteration": 328,
                        "passed_time": 126.7430194,
                        "remaining_time": 3725.628391,
                        "test": [
                          0.8260661236,
                          0.5869019469
                        ]
                      },
                      {
                        "learn": [
                          0.801910299,
                          0.5942528304
                        ],
                        "iteration": 329,
                        "passed_time": 127.0664071,
                        "remaining_time": 3723.430777,
                        "test": [
                          0.8260661236,
                          0.5866641026
                        ]
                      },
                      {
                        "learn": [
                          0.8021590201,
                          0.5940510038
                        ],
                        "iteration": 330,
                        "passed_time": 127.3833698,
                        "remaining_time": 3721.056804,
                        "test": [
                          0.8260661236,
                          0.5864480919
                        ]
                      },
                      {
                        "learn": [
                          0.8020768432,
                          0.5938710261
                        ],
                        "iteration": 331,
                        "passed_time": 127.6893385,
                        "remaining_time": 3718.375075,
                        "test": [
                          0.8260661236,
                          0.5862420321
                        ]
                      },
                      {
                        "learn": [
                          0.8021590201,
                          0.5936513843
                        ],
                        "iteration": 332,
                        "passed_time": 128.0134742,
                        "remaining_time": 3716.235001,
                        "test": [
                          0.8260661236,
                          0.586012928
                        ]
                      },
                      {
                        "learn": [
                          0.8021590201,
                          0.5934411181
                        ],
                        "iteration": 333,
                        "passed_time": 128.3374623,
                        "remaining_time": 3714.10153,
                        "test": [
                          0.8260661236,
                          0.585787806
                        ]
                      },
                      {
                        "learn": [
                          0.801992528,
                          0.5932440791
                        ],
                        "iteration": 334,
                        "passed_time": 128.6399632,
                        "remaining_time": 3711.358937,
                        "test": [
                          0.8260661236,
                          0.5855748495
                        ]
                      },
                      {
                        "learn": [
                          0.801992528,
                          0.5930301981
                        ],
                        "iteration": 335,
                        "passed_time": 128.9466291,
                        "remaining_time": 3708.750665,
                        "test": [
                          0.8260661236,
                          0.5853501164
                        ]
                      },
                      {
                        "learn": [
                          0.801992528,
                          0.5927631472
                        ],
                        "iteration": 336,
                        "passed_time": 129.2823945,
                        "remaining_time": 3706.990439,
                        "test": [
                          0.8260661236,
                          0.5850513862
                        ]
                      },
                      {
                        "learn": [
                          0.801992528,
                          0.5925186752
                        ],
                        "iteration": 337,
                        "passed_time": 129.594583,
                        "remaining_time": 3704.564678,
                        "test": [
                          0.8260661236,
                          0.5847868542
                        ]
                      },
                      {
                        "learn": [
                          0.801992528,
                          0.5922971328
                        ],
                        "iteration": 338,
                        "passed_time": 129.9083631,
                        "remaining_time": 3702.196744,
                        "test": [
                          0.8260661236,
                          0.5845422979
                        ]
                      },
                      {
                        "learn": [
                          0.801992528,
                          0.5921059213
                        ],
                        "iteration": 339,
                        "passed_time": 130.2405714,
                        "remaining_time": 3700.36447,
                        "test": [
                          0.8260661236,
                          0.5843328077
                        ]
                      },
                      {
                        "learn": [
                          0.801992528,
                          0.5919321264
                        ],
                        "iteration": 340,
                        "passed_time": 130.5563391,
                        "remaining_time": 3698.075305,
                        "test": [
                          0.8260661236,
                          0.5841437542
                        ]
                      },
                      {
                        "learn": [
                          0.8021590201,
                          0.5917382429
                        ],
                        "iteration": 341,
                        "passed_time": 130.8562167,
                        "remaining_time": 3695.348949,
                        "test": [
                          0.8260661236,
                          0.5839413792
                        ]
                      },
                      {
                        "learn": [
                          0.8020768432,
                          0.5915646971
                        ],
                        "iteration": 342,
                        "passed_time": 131.181633,
                        "remaining_time": 3693.355773,
                        "test": [
                          0.8260661236,
                          0.5837536954
                        ]
                      },
                      {
                        "learn": [
                          0.8020768432,
                          0.5913431759
                        ],
                        "iteration": 343,
                        "passed_time": 131.4928711,
                        "remaining_time": 3690.974313,
                        "test": [
                          0.8260661236,
                          0.5835187561
                        ]
                      },
                      {
                        "learn": [
                          0.8015790567,
                          0.5911655525
                        ],
                        "iteration": 344,
                        "passed_time": 131.8043687,
                        "remaining_time": 3688.612115,
                        "test": [
                          0.8255033557,
                          0.5833352014
                        ]
                      },
                      {
                        "learn": [
                          0.8018280017,
                          0.5909751031
                        ],
                        "iteration": 345,
                        "passed_time": 132.1274841,
                        "remaining_time": 3686.58593,
                        "test": [
                          0.8260661236,
                          0.5831259132
                        ]
                      },
                      {
                        "learn": [
                          0.8013300083,
                          0.59080048
                        ],
                        "iteration": 346,
                        "passed_time": 132.4397884,
                        "remaining_time": 3684.268812,
                        "test": [
                          0.8255033557,
                          0.5829283531
                        ]
                      },
                      {
                        "learn": [
                          0.8013300083,
                          0.5905868335
                        ],
                        "iteration": 347,
                        "passed_time": 132.7538475,
                        "remaining_time": 3682.011884,
                        "test": [
                          0.8255033557,
                          0.5826993353
                        ]
                      },
                      {
                        "learn": [
                          0.8018280017,
                          0.5903983892
                        ],
                        "iteration": 348,
                        "passed_time": 133.0554805,
                        "remaining_time": 3679.422472,
                        "test": [
                          0.8260661236,
                          0.582492387
                        ]
                      },
                      {
                        "learn": [
                          0.8013300083,
                          0.5902228861
                        ],
                        "iteration": 349,
                        "passed_time": 133.3973503,
                        "remaining_time": 3677.955516,
                        "test": [
                          0.8255033557,
                          0.5822976526
                        ]
                      },
                      {
                        "learn": [
                          0.8018280017,
                          0.5900271717
                        ],
                        "iteration": 350,
                        "passed_time": 133.9343955,
                        "remaining_time": 3681.860349,
                        "test": [
                          0.8255033557,
                          0.5820835606
                        ]
                      },
                      {
                        "learn": [
                          0.801910299,
                          0.5898251198
                        ],
                        "iteration": 351,
                        "passed_time": 134.4882477,
                        "remaining_time": 3686.200607,
                        "test": [
                          0.8260661236,
                          0.5818679965
                        ]
                      },
                      {
                        "learn": [
                          0.8021590201,
                          0.5896173604
                        ],
                        "iteration": 352,
                        "passed_time": 135.0429464,
                        "remaining_time": 3690.536272,
                        "test": [
                          0.8260661236,
                          0.5816479027
                        ]
                      },
                      {
                        "learn": [
                          0.8021590201,
                          0.58940489
                        ],
                        "iteration": 353,
                        "passed_time": 135.5586655,
                        "remaining_time": 3693.782168,
                        "test": [
                          0.8260661236,
                          0.5814193754
                        ]
                      },
                      {
                        "learn": [
                          0.801992528,
                          0.5892228144
                        ],
                        "iteration": 354,
                        "passed_time": 136.1011066,
                        "remaining_time": 3697.732881,
                        "test": [
                          0.8260661236,
                          0.58121837
                        ]
                      },
                      {
                        "learn": [
                          0.801992528,
                          0.5890073378
                        ],
                        "iteration": 355,
                        "passed_time": 136.6827238,
                        "remaining_time": 3702.719631,
                        "test": [
                          0.8260661236,
                          0.5809883938
                        ]
                      },
                      {
                        "learn": [
                          0.801992528,
                          0.5887499391
                        ],
                        "iteration": 356,
                        "passed_time": 137.1258445,
                        "remaining_time": 3703.934226,
                        "test": [
                          0.8260661236,
                          0.5807084282
                        ]
                      },
                      {
                        "learn": [
                          0.801992528,
                          0.5885507478
                        ],
                        "iteration": 357,
                        "passed_time": 137.4581507,
                        "remaining_time": 3702.154998,
                        "test": [
                          0.8260661236,
                          0.5804922473
                        ]
                      },
                      {
                        "learn": [
                          0.801992528,
                          0.5883338617
                        ],
                        "iteration": 358,
                        "passed_time": 137.7710845,
                        "remaining_time": 3699.863582,
                        "test": [
                          0.8260661236,
                          0.5802614961
                        ]
                      },
                      {
                        "learn": [
                          0.801992528,
                          0.588141886
                        ],
                        "iteration": 359,
                        "passed_time": 138.0757006,
                        "remaining_time": 3697.360427,
                        "test": [
                          0.8260661236,
                          0.5800496985
                        ]
                      },
                      {
                        "learn": [
                          0.801992528,
                          0.5879401601
                        ],
                        "iteration": 360,
                        "passed_time": 138.4107052,
                        "remaining_time": 3695.68085,
                        "test": [
                          0.8260661236,
                          0.5798322529
                        ]
                      },
                      {
                        "learn": [
                          0.801992528,
                          0.5877691848
                        ],
                        "iteration": 361,
                        "passed_time": 138.7263232,
                        "remaining_time": 3693.492549,
                        "test": [
                          0.8260661236,
                          0.5796393781
                        ]
                      },
                      {
                        "learn": [
                          0.801992528,
                          0.5876004011
                        ],
                        "iteration": 362,
                        "passed_time": 139.0398358,
                        "remaining_time": 3691.258671,
                        "test": [
                          0.8260661236,
                          0.5794511151
                        ]
                      }
                    ],
                    "meta": {
                      "test_sets": [
                        "test"
                      ],
                      "test_metrics": [
                        {
                          "best_value": "Max",
                          "name": "F1"
                        },
                        {
                          "best_value": "Min",
                          "name": "Logloss"
                        }
                      ],
                      "learn_metrics": [
                        {
                          "best_value": "Max",
                          "name": "F1"
                        },
                        {
                          "best_value": "Min",
                          "name": "Logloss"
                        }
                      ],
                      "launch_mode": "Train",
                      "parameters": "",
                      "iteration_count": 10000,
                      "learn_sets": [
                        "learn"
                      ],
                      "name": "experiment"
                    }
                  }
                }
              }
            },
            "layout": "IPY_MODEL_1b61a9d4baab44669108e71a1d77fbff"
          }
        }
      }
    }
  },
  "cells": [
    {
      "cell_type": "code",
      "source": [
        "from google.colab import drive\n",
        "drive.mount('/content/drive')"
      ],
      "metadata": {
        "colab": {
          "base_uri": "https://localhost:8080/"
        },
        "id": "-l4KnsSqXDz7",
        "outputId": "9dede9b3-22c4-4738-e866-d607d0301660"
      },
      "execution_count": null,
      "outputs": [
        {
          "output_type": "stream",
          "name": "stdout",
          "text": [
            "Mounted at /content/drive\n"
          ]
        }
      ]
    },
    {
      "cell_type": "code",
      "execution_count": null,
      "metadata": {
        "id": "dY10kiWqRW7i"
      },
      "outputs": [],
      "source": [
        "!cp /content/drive/MyDrive/Rucode6.5/data/train.csv .\n",
        "!cp /content/drive/MyDrive/Rucode6.5/data/public_test.csv .\n",
        "!cp /content/drive/MyDrive/Rucode6.5/data/sample_submission.csv ."
      ]
    },
    {
      "cell_type": "code",
      "source": [
        "!pip install catboost -q"
      ],
      "metadata": {
        "id": "xlNEU251Qr6I",
        "colab": {
          "base_uri": "https://localhost:8080/"
        },
        "outputId": "8cf1e595-05de-4aec-ac86-ead470eea611"
      },
      "execution_count": null,
      "outputs": [
        {
          "output_type": "stream",
          "name": "stdout",
          "text": [
            "\u001b[2K     \u001b[90m━━━━━━━━━━━━━━━━━━━━━━━━━━━━━━━━━━━━━━━━\u001b[0m \u001b[32m98.6/98.6 MB\u001b[0m \u001b[31m2.1 MB/s\u001b[0m eta \u001b[36m0:00:00\u001b[0m\n",
            "\u001b[?25h"
          ]
        }
      ]
    },
    {
      "cell_type": "code",
      "source": [
        "import string\n",
        "\n",
        "import pandas as pd\n",
        "import numpy as np\n",
        "\n",
        "import matplotlib.pyplot as plt\n",
        "import seaborn as sns"
      ],
      "metadata": {
        "id": "EzOmFCPVRmDy"
      },
      "execution_count": null,
      "outputs": []
    },
    {
      "cell_type": "code",
      "source": [
        "import torch\n",
        "import nltk\n",
        "nltk.download('punkt')\n",
        "nltk.download('stopwords')\n",
        "nltk.download('wordnet')\n",
        "\n",
        "from nltk.tokenize import word_tokenize\n",
        "from nltk.corpus import stopwords\n",
        "from nltk.stem import WordNetLemmatizer\n",
        "from nltk.corpus import wordnet\n",
        "from nltk.tokenize import sent_tokenize"
      ],
      "metadata": {
        "colab": {
          "base_uri": "https://localhost:8080/"
        },
        "id": "31W_ufaFRi72",
        "outputId": "81c8b602-d120-405f-dff6-0b9b04346d8c"
      },
      "execution_count": null,
      "outputs": [
        {
          "output_type": "stream",
          "name": "stderr",
          "text": [
            "[nltk_data] Downloading package punkt to /root/nltk_data...\n",
            "[nltk_data]   Unzipping tokenizers/punkt.zip.\n",
            "[nltk_data] Downloading package stopwords to /root/nltk_data...\n",
            "[nltk_data]   Unzipping corpora/stopwords.zip.\n",
            "[nltk_data] Downloading package wordnet to /root/nltk_data...\n"
          ]
        }
      ]
    },
    {
      "cell_type": "code",
      "source": [
        "from catboost import Pool, CatBoostClassifier\n",
        "from sklearn.model_selection import StratifiedKFold"
      ],
      "metadata": {
        "id": "36r8Yi1tQ0ZH"
      },
      "execution_count": null,
      "outputs": []
    },
    {
      "cell_type": "code",
      "source": [
        "train_data = pd.read_csv('train.csv')\n",
        "train_data.head()"
      ],
      "metadata": {
        "colab": {
          "base_uri": "https://localhost:8080/",
          "height": 206
        },
        "id": "B8mAWO9KSFbY",
        "outputId": "7ad7669f-f1b9-4304-df87-35918d8bb0dc"
      },
      "execution_count": null,
      "outputs": [
        {
          "output_type": "execute_result",
          "data": {
            "text/plain": [
              "                                             context  \\\n",
              "0  **Вы:** Спасибо большое)).\\nКакую музыку слуша...   \n",
              "1  **Вы:** Я тоже не замужем. Ищу своего принца. ...   \n",
              "2  **Вы:** Ивановская область.\\n\\n**Собеседник:**...   \n",
              "3  **Вы:** Особенно чинить их.\\n\\n**Собеседник:**...   \n",
              "4  **Вы:** В свободное время.\\n\\n**Собеседник:** ...   \n",
              "\n",
              "                                              answer   label  \n",
              "0  Ой, ну тогда давай я тебе порекомендую что-ниб...      ai  \n",
              "1  Может быть и тихие, но совсем не мирные, могут...  people  \n",
              "2                          В деревне у меня на даче.      ai  \n",
              "3       В доме - полный порядок, все на своем месте.      ai  \n",
              "4       Да, я фотографирую, это моя страсть и хобби.      ai  "
            ],
            "text/html": [
              "\n",
              "  <div id=\"df-65ad3942-dfe8-4054-835b-62db9c2c423a\">\n",
              "    <div class=\"colab-df-container\">\n",
              "      <div>\n",
              "<style scoped>\n",
              "    .dataframe tbody tr th:only-of-type {\n",
              "        vertical-align: middle;\n",
              "    }\n",
              "\n",
              "    .dataframe tbody tr th {\n",
              "        vertical-align: top;\n",
              "    }\n",
              "\n",
              "    .dataframe thead th {\n",
              "        text-align: right;\n",
              "    }\n",
              "</style>\n",
              "<table border=\"1\" class=\"dataframe\">\n",
              "  <thead>\n",
              "    <tr style=\"text-align: right;\">\n",
              "      <th></th>\n",
              "      <th>context</th>\n",
              "      <th>answer</th>\n",
              "      <th>label</th>\n",
              "    </tr>\n",
              "  </thead>\n",
              "  <tbody>\n",
              "    <tr>\n",
              "      <th>0</th>\n",
              "      <td>**Вы:** Спасибо большое)).\\nКакую музыку слуша...</td>\n",
              "      <td>Ой, ну тогда давай я тебе порекомендую что-ниб...</td>\n",
              "      <td>ai</td>\n",
              "    </tr>\n",
              "    <tr>\n",
              "      <th>1</th>\n",
              "      <td>**Вы:** Я тоже не замужем. Ищу своего принца. ...</td>\n",
              "      <td>Может быть и тихие, но совсем не мирные, могут...</td>\n",
              "      <td>people</td>\n",
              "    </tr>\n",
              "    <tr>\n",
              "      <th>2</th>\n",
              "      <td>**Вы:** Ивановская область.\\n\\n**Собеседник:**...</td>\n",
              "      <td>В деревне у меня на даче.</td>\n",
              "      <td>ai</td>\n",
              "    </tr>\n",
              "    <tr>\n",
              "      <th>3</th>\n",
              "      <td>**Вы:** Особенно чинить их.\\n\\n**Собеседник:**...</td>\n",
              "      <td>В доме - полный порядок, все на своем месте.</td>\n",
              "      <td>ai</td>\n",
              "    </tr>\n",
              "    <tr>\n",
              "      <th>4</th>\n",
              "      <td>**Вы:** В свободное время.\\n\\n**Собеседник:** ...</td>\n",
              "      <td>Да, я фотографирую, это моя страсть и хобби.</td>\n",
              "      <td>ai</td>\n",
              "    </tr>\n",
              "  </tbody>\n",
              "</table>\n",
              "</div>\n",
              "      <button class=\"colab-df-convert\" onclick=\"convertToInteractive('df-65ad3942-dfe8-4054-835b-62db9c2c423a')\"\n",
              "              title=\"Convert this dataframe to an interactive table.\"\n",
              "              style=\"display:none;\">\n",
              "        \n",
              "  <svg xmlns=\"http://www.w3.org/2000/svg\" height=\"24px\"viewBox=\"0 0 24 24\"\n",
              "       width=\"24px\">\n",
              "    <path d=\"M0 0h24v24H0V0z\" fill=\"none\"/>\n",
              "    <path d=\"M18.56 5.44l.94 2.06.94-2.06 2.06-.94-2.06-.94-.94-2.06-.94 2.06-2.06.94zm-11 1L8.5 8.5l.94-2.06 2.06-.94-2.06-.94L8.5 2.5l-.94 2.06-2.06.94zm10 10l.94 2.06.94-2.06 2.06-.94-2.06-.94-.94-2.06-.94 2.06-2.06.94z\"/><path d=\"M17.41 7.96l-1.37-1.37c-.4-.4-.92-.59-1.43-.59-.52 0-1.04.2-1.43.59L10.3 9.45l-7.72 7.72c-.78.78-.78 2.05 0 2.83L4 21.41c.39.39.9.59 1.41.59.51 0 1.02-.2 1.41-.59l7.78-7.78 2.81-2.81c.8-.78.8-2.07 0-2.86zM5.41 20L4 18.59l7.72-7.72 1.47 1.35L5.41 20z\"/>\n",
              "  </svg>\n",
              "      </button>\n",
              "      \n",
              "  <style>\n",
              "    .colab-df-container {\n",
              "      display:flex;\n",
              "      flex-wrap:wrap;\n",
              "      gap: 12px;\n",
              "    }\n",
              "\n",
              "    .colab-df-convert {\n",
              "      background-color: #E8F0FE;\n",
              "      border: none;\n",
              "      border-radius: 50%;\n",
              "      cursor: pointer;\n",
              "      display: none;\n",
              "      fill: #1967D2;\n",
              "      height: 32px;\n",
              "      padding: 0 0 0 0;\n",
              "      width: 32px;\n",
              "    }\n",
              "\n",
              "    .colab-df-convert:hover {\n",
              "      background-color: #E2EBFA;\n",
              "      box-shadow: 0px 1px 2px rgba(60, 64, 67, 0.3), 0px 1px 3px 1px rgba(60, 64, 67, 0.15);\n",
              "      fill: #174EA6;\n",
              "    }\n",
              "\n",
              "    [theme=dark] .colab-df-convert {\n",
              "      background-color: #3B4455;\n",
              "      fill: #D2E3FC;\n",
              "    }\n",
              "\n",
              "    [theme=dark] .colab-df-convert:hover {\n",
              "      background-color: #434B5C;\n",
              "      box-shadow: 0px 1px 3px 1px rgba(0, 0, 0, 0.15);\n",
              "      filter: drop-shadow(0px 1px 2px rgba(0, 0, 0, 0.3));\n",
              "      fill: #FFFFFF;\n",
              "    }\n",
              "  </style>\n",
              "\n",
              "      <script>\n",
              "        const buttonEl =\n",
              "          document.querySelector('#df-65ad3942-dfe8-4054-835b-62db9c2c423a button.colab-df-convert');\n",
              "        buttonEl.style.display =\n",
              "          google.colab.kernel.accessAllowed ? 'block' : 'none';\n",
              "\n",
              "        async function convertToInteractive(key) {\n",
              "          const element = document.querySelector('#df-65ad3942-dfe8-4054-835b-62db9c2c423a');\n",
              "          const dataTable =\n",
              "            await google.colab.kernel.invokeFunction('convertToInteractive',\n",
              "                                                     [key], {});\n",
              "          if (!dataTable) return;\n",
              "\n",
              "          const docLinkHtml = 'Like what you see? Visit the ' +\n",
              "            '<a target=\"_blank\" href=https://colab.research.google.com/notebooks/data_table.ipynb>data table notebook</a>'\n",
              "            + ' to learn more about interactive tables.';\n",
              "          element.innerHTML = '';\n",
              "          dataTable['output_type'] = 'display_data';\n",
              "          await google.colab.output.renderOutput(dataTable, element);\n",
              "          const docLink = document.createElement('div');\n",
              "          docLink.innerHTML = docLinkHtml;\n",
              "          element.appendChild(docLink);\n",
              "        }\n",
              "      </script>\n",
              "    </div>\n",
              "  </div>\n",
              "  "
            ]
          },
          "metadata": {},
          "execution_count": 9
        }
      ]
    },
    {
      "cell_type": "markdown",
      "source": [
        "# EDA"
      ],
      "metadata": {
        "id": "t7lCdtmwTzrd"
      }
    },
    {
      "cell_type": "code",
      "source": [
        "plt.figure(figsize=(10,6))\n",
        "\n",
        "train_data.groupby(['label'])['label'].count().plot.bar().set_xticklabels(['AI', 'Person'])\n",
        "plt.ylabel('Count of answers')\n",
        "\n",
        "plt.show()"
      ],
      "metadata": {
        "colab": {
          "base_uri": "https://localhost:8080/",
          "height": 574
        },
        "id": "dJZCHUNYSKWR",
        "outputId": "1130b9fd-5655-42f3-b11d-29f365de2d0f"
      },
      "execution_count": null,
      "outputs": [
        {
          "output_type": "display_data",
          "data": {
            "text/plain": [
              "<Figure size 1000x600 with 1 Axes>"
            ],
            "image/png": "[encoded data removed]"
          },
          "metadata": {}
        }
      ]
    },
    {
      "cell_type": "markdown",
      "source": [
        "Проверили гипотезу, что ответ от ИИ может отличаться то человеческого длиной текста. Но это оказалось не так."
      ],
      "metadata": {
        "id": "IFcz1i0x412T"
      }
    },
    {
      "cell_type": "code",
      "source": [
        "train_data['answer_length'] = train_data.apply(lambda x: len(x[1]), axis=1)\n"
      ],
      "metadata": {
        "id": "EDt8Ye3dSQFX"
      },
      "execution_count": null,
      "outputs": []
    },
    {
      "cell_type": "code",
      "source": [
        "train_data.groupby(['label'])['answer_length'].describe()"
      ],
      "metadata": {
        "colab": {
          "base_uri": "https://localhost:8080/",
          "height": 143
        },
        "id": "ks-lNBwvTVYM",
        "outputId": "b816d92f-e7e1-46dd-99fb-d8d4d60309a8"
      },
      "execution_count": null,
      "outputs": [
        {
          "output_type": "execute_result",
          "data": {
            "text/plain": [
              "         count       mean        std  min   25%   50%   75%    max\n",
              "label                                                             \n",
              "ai      3028.0  59.315720  40.229200  1.0  32.0  53.0  74.0  570.0\n",
              "people  3123.0  43.215818  28.260823  1.0  23.0  37.0  58.0  480.0"
            ],
            "text/html": [
              "\n",
              "  <div id=\"df-1e8489af-ee65-477a-9161-a10363cf2a87\">\n",
              "    <div class=\"colab-df-container\">\n",
              "      <div>\n",
              "<style scoped>\n",
              "    .dataframe tbody tr th:only-of-type {\n",
              "        vertical-align: middle;\n",
              "    }\n",
              "\n",
              "    .dataframe tbody tr th {\n",
              "        vertical-align: top;\n",
              "    }\n",
              "\n",
              "    .dataframe thead th {\n",
              "        text-align: right;\n",
              "    }\n",
              "</style>\n",
              "<table border=\"1\" class=\"dataframe\">\n",
              "  <thead>\n",
              "    <tr style=\"text-align: right;\">\n",
              "      <th></th>\n",
              "      <th>count</th>\n",
              "      <th>mean</th>\n",
              "      <th>std</th>\n",
              "      <th>min</th>\n",
              "      <th>25%</th>\n",
              "      <th>50%</th>\n",
              "      <th>75%</th>\n",
              "      <th>max</th>\n",
              "    </tr>\n",
              "    <tr>\n",
              "      <th>label</th>\n",
              "      <th></th>\n",
              "      <th></th>\n",
              "      <th></th>\n",
              "      <th></th>\n",
              "      <th></th>\n",
              "      <th></th>\n",
              "      <th></th>\n",
              "      <th></th>\n",
              "    </tr>\n",
              "  </thead>\n",
              "  <tbody>\n",
              "    <tr>\n",
              "      <th>ai</th>\n",
              "      <td>3028.0</td>\n",
              "      <td>59.315720</td>\n",
              "      <td>40.229200</td>\n",
              "      <td>1.0</td>\n",
              "      <td>32.0</td>\n",
              "      <td>53.0</td>\n",
              "      <td>74.0</td>\n",
              "      <td>570.0</td>\n",
              "    </tr>\n",
              "    <tr>\n",
              "      <th>people</th>\n",
              "      <td>3123.0</td>\n",
              "      <td>43.215818</td>\n",
              "      <td>28.260823</td>\n",
              "      <td>1.0</td>\n",
              "      <td>23.0</td>\n",
              "      <td>37.0</td>\n",
              "      <td>58.0</td>\n",
              "      <td>480.0</td>\n",
              "    </tr>\n",
              "  </tbody>\n",
              "</table>\n",
              "</div>\n",
              "      <button class=\"colab-df-convert\" onclick=\"convertToInteractive('df-1e8489af-ee65-477a-9161-a10363cf2a87')\"\n",
              "              title=\"Convert this dataframe to an interactive table.\"\n",
              "              style=\"display:none;\">\n",
              "        \n",
              "  <svg xmlns=\"http://www.w3.org/2000/svg\" height=\"24px\"viewBox=\"0 0 24 24\"\n",
              "       width=\"24px\">\n",
              "    <path d=\"M0 0h24v24H0V0z\" fill=\"none\"/>\n",
              "    <path d=\"M18.56 5.44l.94 2.06.94-2.06 2.06-.94-2.06-.94-.94-2.06-.94 2.06-2.06.94zm-11 1L8.5 8.5l.94-2.06 2.06-.94-2.06-.94L8.5 2.5l-.94 2.06-2.06.94zm10 10l.94 2.06.94-2.06 2.06-.94-2.06-.94-.94-2.06-.94 2.06-2.06.94z\"/><path d=\"M17.41 7.96l-1.37-1.37c-.4-.4-.92-.59-1.43-.59-.52 0-1.04.2-1.43.59L10.3 9.45l-7.72 7.72c-.78.78-.78 2.05 0 2.83L4 21.41c.39.39.9.59 1.41.59.51 0 1.02-.2 1.41-.59l7.78-7.78 2.81-2.81c.8-.78.8-2.07 0-2.86zM5.41 20L4 18.59l7.72-7.72 1.47 1.35L5.41 20z\"/>\n",
              "  </svg>\n",
              "      </button>\n",
              "      \n",
              "  <style>\n",
              "    .colab-df-container {\n",
              "      display:flex;\n",
              "      flex-wrap:wrap;\n",
              "      gap: 12px;\n",
              "    }\n",
              "\n",
              "    .colab-df-convert {\n",
              "      background-color: #E8F0FE;\n",
              "      border: none;\n",
              "      border-radius: 50%;\n",
              "      cursor: pointer;\n",
              "      display: none;\n",
              "      fill: #1967D2;\n",
              "      height: 32px;\n",
              "      padding: 0 0 0 0;\n",
              "      width: 32px;\n",
              "    }\n",
              "\n",
              "    .colab-df-convert:hover {\n",
              "      background-color: #E2EBFA;\n",
              "      box-shadow: 0px 1px 2px rgba(60, 64, 67, 0.3), 0px 1px 3px 1px rgba(60, 64, 67, 0.15);\n",
              "      fill: #174EA6;\n",
              "    }\n",
              "\n",
              "    [theme=dark] .colab-df-convert {\n",
              "      background-color: #3B4455;\n",
              "      fill: #D2E3FC;\n",
              "    }\n",
              "\n",
              "    [theme=dark] .colab-df-convert:hover {\n",
              "      background-color: #434B5C;\n",
              "      box-shadow: 0px 1px 3px 1px rgba(0, 0, 0, 0.15);\n",
              "      filter: drop-shadow(0px 1px 2px rgba(0, 0, 0, 0.3));\n",
              "      fill: #FFFFFF;\n",
              "    }\n",
              "  </style>\n",
              "\n",
              "      <script>\n",
              "        const buttonEl =\n",
              "          document.querySelector('#df-1e8489af-ee65-477a-9161-a10363cf2a87 button.colab-df-convert');\n",
              "        buttonEl.style.display =\n",
              "          google.colab.kernel.accessAllowed ? 'block' : 'none';\n",
              "\n",
              "        async function convertToInteractive(key) {\n",
              "          const element = document.querySelector('#df-1e8489af-ee65-477a-9161-a10363cf2a87');\n",
              "          const dataTable =\n",
              "            await google.colab.kernel.invokeFunction('convertToInteractive',\n",
              "                                                     [key], {});\n",
              "          if (!dataTable) return;\n",
              "\n",
              "          const docLinkHtml = 'Like what you see? Visit the ' +\n",
              "            '<a target=\"_blank\" href=https://colab.research.google.com/notebooks/data_table.ipynb>data table notebook</a>'\n",
              "            + ' to learn more about interactive tables.';\n",
              "          element.innerHTML = '';\n",
              "          dataTable['output_type'] = 'display_data';\n",
              "          await google.colab.output.renderOutput(dataTable, element);\n",
              "          const docLink = document.createElement('div');\n",
              "          docLink.innerHTML = docLinkHtml;\n",
              "          element.appendChild(docLink);\n",
              "        }\n",
              "      </script>\n",
              "    </div>\n",
              "  </div>\n",
              "  "
            ]
          },
          "metadata": {},
          "execution_count": 12
        }
      ]
    },
    {
      "cell_type": "code",
      "source": [
        "train_data['label'] = train_data['label'].apply(lambda x: 1 if str(x) == 'people' else 0) # people = 1"
      ],
      "metadata": {
        "id": "UPc63KJ_TY27"
      },
      "execution_count": null,
      "outputs": []
    },
    {
      "cell_type": "code",
      "source": [
        "train_data.head()"
      ],
      "metadata": {
        "colab": {
          "base_uri": "https://localhost:8080/",
          "height": 206
        },
        "id": "7EBu5mUdQ43R",
        "outputId": "1f23148a-9a43-4281-944f-be2d71e4ea61"
      },
      "execution_count": null,
      "outputs": [
        {
          "output_type": "execute_result",
          "data": {
            "text/plain": [
              "                                             context  \\\n",
              "0  **Вы:** Спасибо большое)).\\nКакую музыку слуша...   \n",
              "1  **Вы:** Я тоже не замужем. Ищу своего принца. ...   \n",
              "2  **Вы:** Ивановская область.\\n\\n**Собеседник:**...   \n",
              "3  **Вы:** Особенно чинить их.\\n\\n**Собеседник:**...   \n",
              "4  **Вы:** В свободное время.\\n\\n**Собеседник:** ...   \n",
              "\n",
              "                                              answer  label  answer_length  \n",
              "0  Ой, ну тогда давай я тебе порекомендую что-ниб...      0            331  \n",
              "1  Может быть и тихие, но совсем не мирные, могут...      1             80  \n",
              "2                          В деревне у меня на даче.      0             25  \n",
              "3       В доме - полный порядок, все на своем месте.      0             44  \n",
              "4       Да, я фотографирую, это моя страсть и хобби.      0             44  "
            ],
            "text/html": [
              "\n",
              "  <div id=\"df-61d23804-4848-476e-8a3a-f6b19cfc2729\">\n",
              "    <div class=\"colab-df-container\">\n",
              "      <div>\n",
              "<style scoped>\n",
              "    .dataframe tbody tr th:only-of-type {\n",
              "        vertical-align: middle;\n",
              "    }\n",
              "\n",
              "    .dataframe tbody tr th {\n",
              "        vertical-align: top;\n",
              "    }\n",
              "\n",
              "    .dataframe thead th {\n",
              "        text-align: right;\n",
              "    }\n",
              "</style>\n",
              "<table border=\"1\" class=\"dataframe\">\n",
              "  <thead>\n",
              "    <tr style=\"text-align: right;\">\n",
              "      <th></th>\n",
              "      <th>context</th>\n",
              "      <th>answer</th>\n",
              "      <th>label</th>\n",
              "      <th>answer_length</th>\n",
              "    </tr>\n",
              "  </thead>\n",
              "  <tbody>\n",
              "    <tr>\n",
              "      <th>0</th>\n",
              "      <td>**Вы:** Спасибо большое)).\\nКакую музыку слуша...</td>\n",
              "      <td>Ой, ну тогда давай я тебе порекомендую что-ниб...</td>\n",
              "      <td>0</td>\n",
              "      <td>331</td>\n",
              "    </tr>\n",
              "    <tr>\n",
              "      <th>1</th>\n",
              "      <td>**Вы:** Я тоже не замужем. Ищу своего принца. ...</td>\n",
              "      <td>Может быть и тихие, но совсем не мирные, могут...</td>\n",
              "      <td>1</td>\n",
              "      <td>80</td>\n",
              "    </tr>\n",
              "    <tr>\n",
              "      <th>2</th>\n",
              "      <td>**Вы:** Ивановская область.\\n\\n**Собеседник:**...</td>\n",
              "      <td>В деревне у меня на даче.</td>\n",
              "      <td>0</td>\n",
              "      <td>25</td>\n",
              "    </tr>\n",
              "    <tr>\n",
              "      <th>3</th>\n",
              "      <td>**Вы:** Особенно чинить их.\\n\\n**Собеседник:**...</td>\n",
              "      <td>В доме - полный порядок, все на своем месте.</td>\n",
              "      <td>0</td>\n",
              "      <td>44</td>\n",
              "    </tr>\n",
              "    <tr>\n",
              "      <th>4</th>\n",
              "      <td>**Вы:** В свободное время.\\n\\n**Собеседник:** ...</td>\n",
              "      <td>Да, я фотографирую, это моя страсть и хобби.</td>\n",
              "      <td>0</td>\n",
              "      <td>44</td>\n",
              "    </tr>\n",
              "  </tbody>\n",
              "</table>\n",
              "</div>\n",
              "      <button class=\"colab-df-convert\" onclick=\"convertToInteractive('df-61d23804-4848-476e-8a3a-f6b19cfc2729')\"\n",
              "              title=\"Convert this dataframe to an interactive table.\"\n",
              "              style=\"display:none;\">\n",
              "        \n",
              "  <svg xmlns=\"http://www.w3.org/2000/svg\" height=\"24px\"viewBox=\"0 0 24 24\"\n",
              "       width=\"24px\">\n",
              "    <path d=\"M0 0h24v24H0V0z\" fill=\"none\"/>\n",
              "    <path d=\"M18.56 5.44l.94 2.06.94-2.06 2.06-.94-2.06-.94-.94-2.06-.94 2.06-2.06.94zm-11 1L8.5 8.5l.94-2.06 2.06-.94-2.06-.94L8.5 2.5l-.94 2.06-2.06.94zm10 10l.94 2.06.94-2.06 2.06-.94-2.06-.94-.94-2.06-.94 2.06-2.06.94z\"/><path d=\"M17.41 7.96l-1.37-1.37c-.4-.4-.92-.59-1.43-.59-.52 0-1.04.2-1.43.59L10.3 9.45l-7.72 7.72c-.78.78-.78 2.05 0 2.83L4 21.41c.39.39.9.59 1.41.59.51 0 1.02-.2 1.41-.59l7.78-7.78 2.81-2.81c.8-.78.8-2.07 0-2.86zM5.41 20L4 18.59l7.72-7.72 1.47 1.35L5.41 20z\"/>\n",
              "  </svg>\n",
              "      </button>\n",
              "      \n",
              "  <style>\n",
              "    .colab-df-container {\n",
              "      display:flex;\n",
              "      flex-wrap:wrap;\n",
              "      gap: 12px;\n",
              "    }\n",
              "\n",
              "    .colab-df-convert {\n",
              "      background-color: #E8F0FE;\n",
              "      border: none;\n",
              "      border-radius: 50%;\n",
              "      cursor: pointer;\n",
              "      display: none;\n",
              "      fill: #1967D2;\n",
              "      height: 32px;\n",
              "      padding: 0 0 0 0;\n",
              "      width: 32px;\n",
              "    }\n",
              "\n",
              "    .colab-df-convert:hover {\n",
              "      background-color: #E2EBFA;\n",
              "      box-shadow: 0px 1px 2px rgba(60, 64, 67, 0.3), 0px 1px 3px 1px rgba(60, 64, 67, 0.15);\n",
              "      fill: #174EA6;\n",
              "    }\n",
              "\n",
              "    [theme=dark] .colab-df-convert {\n",
              "      background-color: #3B4455;\n",
              "      fill: #D2E3FC;\n",
              "    }\n",
              "\n",
              "    [theme=dark] .colab-df-convert:hover {\n",
              "      background-color: #434B5C;\n",
              "      box-shadow: 0px 1px 3px 1px rgba(0, 0, 0, 0.15);\n",
              "      filter: drop-shadow(0px 1px 2px rgba(0, 0, 0, 0.3));\n",
              "      fill: #FFFFFF;\n",
              "    }\n",
              "  </style>\n",
              "\n",
              "      <script>\n",
              "        const buttonEl =\n",
              "          document.querySelector('#df-61d23804-4848-476e-8a3a-f6b19cfc2729 button.colab-df-convert');\n",
              "        buttonEl.style.display =\n",
              "          google.colab.kernel.accessAllowed ? 'block' : 'none';\n",
              "\n",
              "        async function convertToInteractive(key) {\n",
              "          const element = document.querySelector('#df-61d23804-4848-476e-8a3a-f6b19cfc2729');\n",
              "          const dataTable =\n",
              "            await google.colab.kernel.invokeFunction('convertToInteractive',\n",
              "                                                     [key], {});\n",
              "          if (!dataTable) return;\n",
              "\n",
              "          const docLinkHtml = 'Like what you see? Visit the ' +\n",
              "            '<a target=\"_blank\" href=https://colab.research.google.com/notebooks/data_table.ipynb>data table notebook</a>'\n",
              "            + ' to learn more about interactive tables.';\n",
              "          element.innerHTML = '';\n",
              "          dataTable['output_type'] = 'display_data';\n",
              "          await google.colab.output.renderOutput(dataTable, element);\n",
              "          const docLink = document.createElement('div');\n",
              "          docLink.innerHTML = docLinkHtml;\n",
              "          element.appendChild(docLink);\n",
              "        }\n",
              "      </script>\n",
              "    </div>\n",
              "  </div>\n",
              "  "
            ]
          },
          "metadata": {},
          "execution_count": 14
        }
      ]
    },
    {
      "cell_type": "code",
      "source": [
        "n = 1\n",
        "train_data.iloc[n]['context'], train_data.iloc[n]['answer'], train_data.iloc[n]['label']"
      ],
      "metadata": {
        "colab": {
          "base_uri": "https://localhost:8080/"
        },
        "id": "l-T0q9PhKNzT",
        "outputId": "c49f1965-04ec-48f2-f108-e52a9d962f5c"
      },
      "execution_count": null,
      "outputs": [
        {
          "output_type": "execute_result",
          "data": {
            "text/plain": [
              "('**Вы:** Я тоже не замужем. Ищу своего принца. А пока толькоу меня замечательный пёсик.\\r\\nА у вас есть питомцы?\\n\\n**Собеседник:** У меня дома живут только рыбки в аквариуме, единственныесущества, которых я люблю.\\n\\n**Вы:** Рыбки тихие и не причинят дискомфорт. Мой пёсик погрызвсе фиалки, а их так долго выращивала.',\n",
              " 'Может быть и тихие, но совсем не мирные, могут и подраться и слопать друг друга.',\n",
              " 1)"
            ]
          },
          "metadata": {},
          "execution_count": 15
        }
      ]
    },
    {
      "cell_type": "markdown",
      "source": [
        "# text cleaning"
      ],
      "metadata": {
        "id": "t_iwCngBtyQI"
      }
    },
    {
      "cell_type": "code",
      "source": [
        "stopwords.words('russian')[:10]"
      ],
      "metadata": {
        "colab": {
          "base_uri": "https://localhost:8080/"
        },
        "id": "uKzz-WgIJK0U",
        "outputId": "0c1cde21-8526-49ba-cbe5-345c5939ad4c"
      },
      "execution_count": null,
      "outputs": [
        {
          "output_type": "execute_result",
          "data": {
            "text/plain": [
              "['и', 'в', 'во', 'не', 'что', 'он', 'на', 'я', 'с', 'со']"
            ]
          },
          "metadata": {},
          "execution_count": 16
        }
      ]
    },
    {
      "cell_type": "code",
      "source": [
        "string.punctuation"
      ],
      "metadata": {
        "colab": {
          "base_uri": "https://localhost:8080/",
          "height": 35
        },
        "id": "9-HCzFdGLhF3",
        "outputId": "468febd0-87a3-48b2-eb91-efbd1faff5ab"
      },
      "execution_count": null,
      "outputs": [
        {
          "output_type": "execute_result",
          "data": {
            "text/plain": [
              "'!\"#$%&\\'()*+,-./:;<=>?@[\\\\]^_`{|}~'"
            ],
            "application/vnd.google.colaboratory.intrinsic+json": {
              "type": "string"
            }
          },
          "metadata": {},
          "execution_count": 17
        }
      ]
    },
    {
      "cell_type": "code",
      "source": [
        "def clean_text(text):\n",
        "    table = text.maketrans(dict.fromkeys(string.punctuation)) # {Punc: None}\n",
        "\n",
        "    words = word_tokenize(text.lower().strip().translate(table)) # change Punc to None -> token\n",
        "\n",
        "    words = [word for word in words if word not in stopwords.words('russian')]\n",
        "\n",
        "    lemmed = [WordNetLemmatizer().lemmatize(word) for word in words]\n",
        "    return \" \".join(lemmed)"
      ],
      "metadata": {
        "id": "Iuwgk7zvtzaX"
      },
      "execution_count": null,
      "outputs": []
    },
    {
      "cell_type": "code",
      "source": [
        "# train_data['text'] = train_data['context'] + train_data['answer']"
      ],
      "metadata": {
        "id": "ayMsocPcQawo"
      },
      "execution_count": null,
      "outputs": []
    },
    {
      "cell_type": "code",
      "source": [
        "train_data['context'] = train_data['context'].apply(clean_text)\n",
        "train_data.head()"
      ],
      "metadata": {
        "colab": {
          "base_uri": "https://localhost:8080/",
          "height": 206
        },
        "id": "whUJB7YDRmYH",
        "outputId": "39e5fd8a-8a9b-4fa5-f51e-f786cb399be2"
      },
      "execution_count": null,
      "outputs": [
        {
          "output_type": "execute_result",
          "data": {
            "text/plain": [
              "                                             context  \\\n",
              "0  спасибо большое какую музыку слушаешь собеседн...   \n",
              "1  замужем ищу своего принца пока толькоу замечат...   \n",
              "2  ивановская область собеседник понял москве люб...   \n",
              "3  особенно чинить собеседник люблю стиралки кари...   \n",
              "4  свободное время собеседник увлекаешься фотграф...   \n",
              "\n",
              "                                              answer  label  answer_length  \n",
              "0  Ой, ну тогда давай я тебе порекомендую что-ниб...      0            331  \n",
              "1  Может быть и тихие, но совсем не мирные, могут...      1             80  \n",
              "2                          В деревне у меня на даче.      0             25  \n",
              "3       В доме - полный порядок, все на своем месте.      0             44  \n",
              "4       Да, я фотографирую, это моя страсть и хобби.      0             44  "
            ],
            "text/html": [
              "\n",
              "  <div id=\"df-93a14fe8-ecd5-47a5-be95-201a85ac0afd\">\n",
              "    <div class=\"colab-df-container\">\n",
              "      <div>\n",
              "<style scoped>\n",
              "    .dataframe tbody tr th:only-of-type {\n",
              "        vertical-align: middle;\n",
              "    }\n",
              "\n",
              "    .dataframe tbody tr th {\n",
              "        vertical-align: top;\n",
              "    }\n",
              "\n",
              "    .dataframe thead th {\n",
              "        text-align: right;\n",
              "    }\n",
              "</style>\n",
              "<table border=\"1\" class=\"dataframe\">\n",
              "  <thead>\n",
              "    <tr style=\"text-align: right;\">\n",
              "      <th></th>\n",
              "      <th>context</th>\n",
              "      <th>answer</th>\n",
              "      <th>label</th>\n",
              "      <th>answer_length</th>\n",
              "    </tr>\n",
              "  </thead>\n",
              "  <tbody>\n",
              "    <tr>\n",
              "      <th>0</th>\n",
              "      <td>спасибо большое какую музыку слушаешь собеседн...</td>\n",
              "      <td>Ой, ну тогда давай я тебе порекомендую что-ниб...</td>\n",
              "      <td>0</td>\n",
              "      <td>331</td>\n",
              "    </tr>\n",
              "    <tr>\n",
              "      <th>1</th>\n",
              "      <td>замужем ищу своего принца пока толькоу замечат...</td>\n",
              "      <td>Может быть и тихие, но совсем не мирные, могут...</td>\n",
              "      <td>1</td>\n",
              "      <td>80</td>\n",
              "    </tr>\n",
              "    <tr>\n",
              "      <th>2</th>\n",
              "      <td>ивановская область собеседник понял москве люб...</td>\n",
              "      <td>В деревне у меня на даче.</td>\n",
              "      <td>0</td>\n",
              "      <td>25</td>\n",
              "    </tr>\n",
              "    <tr>\n",
              "      <th>3</th>\n",
              "      <td>особенно чинить собеседник люблю стиралки кари...</td>\n",
              "      <td>В доме - полный порядок, все на своем месте.</td>\n",
              "      <td>0</td>\n",
              "      <td>44</td>\n",
              "    </tr>\n",
              "    <tr>\n",
              "      <th>4</th>\n",
              "      <td>свободное время собеседник увлекаешься фотграф...</td>\n",
              "      <td>Да, я фотографирую, это моя страсть и хобби.</td>\n",
              "      <td>0</td>\n",
              "      <td>44</td>\n",
              "    </tr>\n",
              "  </tbody>\n",
              "</table>\n",
              "</div>\n",
              "      <button class=\"colab-df-convert\" onclick=\"convertToInteractive('df-93a14fe8-ecd5-47a5-be95-201a85ac0afd')\"\n",
              "              title=\"Convert this dataframe to an interactive table.\"\n",
              "              style=\"display:none;\">\n",
              "        \n",
              "  <svg xmlns=\"http://www.w3.org/2000/svg\" height=\"24px\"viewBox=\"0 0 24 24\"\n",
              "       width=\"24px\">\n",
              "    <path d=\"M0 0h24v24H0V0z\" fill=\"none\"/>\n",
              "    <path d=\"M18.56 5.44l.94 2.06.94-2.06 2.06-.94-2.06-.94-.94-2.06-.94 2.06-2.06.94zm-11 1L8.5 8.5l.94-2.06 2.06-.94-2.06-.94L8.5 2.5l-.94 2.06-2.06.94zm10 10l.94 2.06.94-2.06 2.06-.94-2.06-.94-.94-2.06-.94 2.06-2.06.94z\"/><path d=\"M17.41 7.96l-1.37-1.37c-.4-.4-.92-.59-1.43-.59-.52 0-1.04.2-1.43.59L10.3 9.45l-7.72 7.72c-.78.78-.78 2.05 0 2.83L4 21.41c.39.39.9.59 1.41.59.51 0 1.02-.2 1.41-.59l7.78-7.78 2.81-2.81c.8-.78.8-2.07 0-2.86zM5.41 20L4 18.59l7.72-7.72 1.47 1.35L5.41 20z\"/>\n",
              "  </svg>\n",
              "      </button>\n",
              "      \n",
              "  <style>\n",
              "    .colab-df-container {\n",
              "      display:flex;\n",
              "      flex-wrap:wrap;\n",
              "      gap: 12px;\n",
              "    }\n",
              "\n",
              "    .colab-df-convert {\n",
              "      background-color: #E8F0FE;\n",
              "      border: none;\n",
              "      border-radius: 50%;\n",
              "      cursor: pointer;\n",
              "      display: none;\n",
              "      fill: #1967D2;\n",
              "      height: 32px;\n",
              "      padding: 0 0 0 0;\n",
              "      width: 32px;\n",
              "    }\n",
              "\n",
              "    .colab-df-convert:hover {\n",
              "      background-color: #E2EBFA;\n",
              "      box-shadow: 0px 1px 2px rgba(60, 64, 67, 0.3), 0px 1px 3px 1px rgba(60, 64, 67, 0.15);\n",
              "      fill: #174EA6;\n",
              "    }\n",
              "\n",
              "    [theme=dark] .colab-df-convert {\n",
              "      background-color: #3B4455;\n",
              "      fill: #D2E3FC;\n",
              "    }\n",
              "\n",
              "    [theme=dark] .colab-df-convert:hover {\n",
              "      background-color: #434B5C;\n",
              "      box-shadow: 0px 1px 3px 1px rgba(0, 0, 0, 0.15);\n",
              "      filter: drop-shadow(0px 1px 2px rgba(0, 0, 0, 0.3));\n",
              "      fill: #FFFFFF;\n",
              "    }\n",
              "  </style>\n",
              "\n",
              "      <script>\n",
              "        const buttonEl =\n",
              "          document.querySelector('#df-93a14fe8-ecd5-47a5-be95-201a85ac0afd button.colab-df-convert');\n",
              "        buttonEl.style.display =\n",
              "          google.colab.kernel.accessAllowed ? 'block' : 'none';\n",
              "\n",
              "        async function convertToInteractive(key) {\n",
              "          const element = document.querySelector('#df-93a14fe8-ecd5-47a5-be95-201a85ac0afd');\n",
              "          const dataTable =\n",
              "            await google.colab.kernel.invokeFunction('convertToInteractive',\n",
              "                                                     [key], {});\n",
              "          if (!dataTable) return;\n",
              "\n",
              "          const docLinkHtml = 'Like what you see? Visit the ' +\n",
              "            '<a target=\"_blank\" href=https://colab.research.google.com/notebooks/data_table.ipynb>data table notebook</a>'\n",
              "            + ' to learn more about interactive tables.';\n",
              "          element.innerHTML = '';\n",
              "          dataTable['output_type'] = 'display_data';\n",
              "          await google.colab.output.renderOutput(dataTable, element);\n",
              "          const docLink = document.createElement('div');\n",
              "          docLink.innerHTML = docLinkHtml;\n",
              "          element.appendChild(docLink);\n",
              "        }\n",
              "      </script>\n",
              "    </div>\n",
              "  </div>\n",
              "  "
            ]
          },
          "metadata": {},
          "execution_count": 20
        }
      ]
    },
    {
      "cell_type": "code",
      "source": [
        "train_data.head()"
      ],
      "metadata": {
        "colab": {
          "base_uri": "https://localhost:8080/",
          "height": 206
        },
        "id": "Y6dEM135YMJa",
        "outputId": "7b4c0a8e-81e8-4de1-ec86-2bb90f00be77"
      },
      "execution_count": null,
      "outputs": [
        {
          "output_type": "execute_result",
          "data": {
            "text/plain": [
              "                                             context  \\\n",
              "0  спасибо большое какую музыку слушаешь собеседн...   \n",
              "1  замужем ищу своего принца пока толькоу замечат...   \n",
              "2  ивановская область собеседник понял москве люб...   \n",
              "3  особенно чинить собеседник люблю стиралки кари...   \n",
              "4  свободное время собеседник увлекаешься фотграф...   \n",
              "\n",
              "                                              answer  label  answer_length  \n",
              "0  Ой, ну тогда давай я тебе порекомендую что-ниб...      0            331  \n",
              "1  Может быть и тихие, но совсем не мирные, могут...      1             80  \n",
              "2                          В деревне у меня на даче.      0             25  \n",
              "3       В доме - полный порядок, все на своем месте.      0             44  \n",
              "4       Да, я фотографирую, это моя страсть и хобби.      0             44  "
            ],
            "text/html": [
              "\n",
              "  <div id=\"df-a5388621-47c0-41ee-996d-40547f424f5f\">\n",
              "    <div class=\"colab-df-container\">\n",
              "      <div>\n",
              "<style scoped>\n",
              "    .dataframe tbody tr th:only-of-type {\n",
              "        vertical-align: middle;\n",
              "    }\n",
              "\n",
              "    .dataframe tbody tr th {\n",
              "        vertical-align: top;\n",
              "    }\n",
              "\n",
              "    .dataframe thead th {\n",
              "        text-align: right;\n",
              "    }\n",
              "</style>\n",
              "<table border=\"1\" class=\"dataframe\">\n",
              "  <thead>\n",
              "    <tr style=\"text-align: right;\">\n",
              "      <th></th>\n",
              "      <th>context</th>\n",
              "      <th>answer</th>\n",
              "      <th>label</th>\n",
              "      <th>answer_length</th>\n",
              "    </tr>\n",
              "  </thead>\n",
              "  <tbody>\n",
              "    <tr>\n",
              "      <th>0</th>\n",
              "      <td>спасибо большое какую музыку слушаешь собеседн...</td>\n",
              "      <td>Ой, ну тогда давай я тебе порекомендую что-ниб...</td>\n",
              "      <td>0</td>\n",
              "      <td>331</td>\n",
              "    </tr>\n",
              "    <tr>\n",
              "      <th>1</th>\n",
              "      <td>замужем ищу своего принца пока толькоу замечат...</td>\n",
              "      <td>Может быть и тихие, но совсем не мирные, могут...</td>\n",
              "      <td>1</td>\n",
              "      <td>80</td>\n",
              "    </tr>\n",
              "    <tr>\n",
              "      <th>2</th>\n",
              "      <td>ивановская область собеседник понял москве люб...</td>\n",
              "      <td>В деревне у меня на даче.</td>\n",
              "      <td>0</td>\n",
              "      <td>25</td>\n",
              "    </tr>\n",
              "    <tr>\n",
              "      <th>3</th>\n",
              "      <td>особенно чинить собеседник люблю стиралки кари...</td>\n",
              "      <td>В доме - полный порядок, все на своем месте.</td>\n",
              "      <td>0</td>\n",
              "      <td>44</td>\n",
              "    </tr>\n",
              "    <tr>\n",
              "      <th>4</th>\n",
              "      <td>свободное время собеседник увлекаешься фотграф...</td>\n",
              "      <td>Да, я фотографирую, это моя страсть и хобби.</td>\n",
              "      <td>0</td>\n",
              "      <td>44</td>\n",
              "    </tr>\n",
              "  </tbody>\n",
              "</table>\n",
              "</div>\n",
              "      <button class=\"colab-df-convert\" onclick=\"convertToInteractive('df-a5388621-47c0-41ee-996d-40547f424f5f')\"\n",
              "              title=\"Convert this dataframe to an interactive table.\"\n",
              "              style=\"display:none;\">\n",
              "        \n",
              "  <svg xmlns=\"http://www.w3.org/2000/svg\" height=\"24px\"viewBox=\"0 0 24 24\"\n",
              "       width=\"24px\">\n",
              "    <path d=\"M0 0h24v24H0V0z\" fill=\"none\"/>\n",
              "    <path d=\"M18.56 5.44l.94 2.06.94-2.06 2.06-.94-2.06-.94-.94-2.06-.94 2.06-2.06.94zm-11 1L8.5 8.5l.94-2.06 2.06-.94-2.06-.94L8.5 2.5l-.94 2.06-2.06.94zm10 10l.94 2.06.94-2.06 2.06-.94-2.06-.94-.94-2.06-.94 2.06-2.06.94z\"/><path d=\"M17.41 7.96l-1.37-1.37c-.4-.4-.92-.59-1.43-.59-.52 0-1.04.2-1.43.59L10.3 9.45l-7.72 7.72c-.78.78-.78 2.05 0 2.83L4 21.41c.39.39.9.59 1.41.59.51 0 1.02-.2 1.41-.59l7.78-7.78 2.81-2.81c.8-.78.8-2.07 0-2.86zM5.41 20L4 18.59l7.72-7.72 1.47 1.35L5.41 20z\"/>\n",
              "  </svg>\n",
              "      </button>\n",
              "      \n",
              "  <style>\n",
              "    .colab-df-container {\n",
              "      display:flex;\n",
              "      flex-wrap:wrap;\n",
              "      gap: 12px;\n",
              "    }\n",
              "\n",
              "    .colab-df-convert {\n",
              "      background-color: #E8F0FE;\n",
              "      border: none;\n",
              "      border-radius: 50%;\n",
              "      cursor: pointer;\n",
              "      display: none;\n",
              "      fill: #1967D2;\n",
              "      height: 32px;\n",
              "      padding: 0 0 0 0;\n",
              "      width: 32px;\n",
              "    }\n",
              "\n",
              "    .colab-df-convert:hover {\n",
              "      background-color: #E2EBFA;\n",
              "      box-shadow: 0px 1px 2px rgba(60, 64, 67, 0.3), 0px 1px 3px 1px rgba(60, 64, 67, 0.15);\n",
              "      fill: #174EA6;\n",
              "    }\n",
              "\n",
              "    [theme=dark] .colab-df-convert {\n",
              "      background-color: #3B4455;\n",
              "      fill: #D2E3FC;\n",
              "    }\n",
              "\n",
              "    [theme=dark] .colab-df-convert:hover {\n",
              "      background-color: #434B5C;\n",
              "      box-shadow: 0px 1px 3px 1px rgba(0, 0, 0, 0.15);\n",
              "      filter: drop-shadow(0px 1px 2px rgba(0, 0, 0, 0.3));\n",
              "      fill: #FFFFFF;\n",
              "    }\n",
              "  </style>\n",
              "\n",
              "      <script>\n",
              "        const buttonEl =\n",
              "          document.querySelector('#df-a5388621-47c0-41ee-996d-40547f424f5f button.colab-df-convert');\n",
              "        buttonEl.style.display =\n",
              "          google.colab.kernel.accessAllowed ? 'block' : 'none';\n",
              "\n",
              "        async function convertToInteractive(key) {\n",
              "          const element = document.querySelector('#df-a5388621-47c0-41ee-996d-40547f424f5f');\n",
              "          const dataTable =\n",
              "            await google.colab.kernel.invokeFunction('convertToInteractive',\n",
              "                                                     [key], {});\n",
              "          if (!dataTable) return;\n",
              "\n",
              "          const docLinkHtml = 'Like what you see? Visit the ' +\n",
              "            '<a target=\"_blank\" href=https://colab.research.google.com/notebooks/data_table.ipynb>data table notebook</a>'\n",
              "            + ' to learn more about interactive tables.';\n",
              "          element.innerHTML = '';\n",
              "          dataTable['output_type'] = 'display_data';\n",
              "          await google.colab.output.renderOutput(dataTable, element);\n",
              "          const docLink = document.createElement('div');\n",
              "          docLink.innerHTML = docLinkHtml;\n",
              "          element.appendChild(docLink);\n",
              "        }\n",
              "      </script>\n",
              "    </div>\n",
              "  </div>\n",
              "  "
            ]
          },
          "metadata": {},
          "execution_count": 21
        }
      ]
    },
    {
      "cell_type": "code",
      "source": [
        "# train_data['clean_answer_length'] = train_data.apply(lambda x: len(x[1]), axis=1)\n",
        "length_hypo = train_data.groupby(['label'])['answer_length'].describe()\n",
        "length_hypo.index = ['Ai', 'Person']"
      ],
      "metadata": {
        "id": "09ZDbovMxX2M"
      },
      "execution_count": null,
      "outputs": []
    },
    {
      "cell_type": "code",
      "source": [
        "length_hypo = length_hypo.drop(['count'], axis=1)\n",
        "length_hypo"
      ],
      "metadata": {
        "colab": {
          "base_uri": "https://localhost:8080/",
          "height": 112
        },
        "id": "eJM9_hWQ4RcG",
        "outputId": "44c63984-82fc-41b8-ac74-3ac1968686cd"
      },
      "execution_count": null,
      "outputs": [
        {
          "output_type": "execute_result",
          "data": {
            "text/plain": [
              "             mean        std  min   25%   50%   75%    max\n",
              "Ai      59.315720  40.229200  1.0  32.0  53.0  74.0  570.0\n",
              "Person  43.215818  28.260823  1.0  23.0  37.0  58.0  480.0"
            ],
            "text/html": [
              "\n",
              "  <div id=\"df-04f98bbf-52e5-4ba5-b727-4983b258264f\">\n",
              "    <div class=\"colab-df-container\">\n",
              "      <div>\n",
              "<style scoped>\n",
              "    .dataframe tbody tr th:only-of-type {\n",
              "        vertical-align: middle;\n",
              "    }\n",
              "\n",
              "    .dataframe tbody tr th {\n",
              "        vertical-align: top;\n",
              "    }\n",
              "\n",
              "    .dataframe thead th {\n",
              "        text-align: right;\n",
              "    }\n",
              "</style>\n",
              "<table border=\"1\" class=\"dataframe\">\n",
              "  <thead>\n",
              "    <tr style=\"text-align: right;\">\n",
              "      <th></th>\n",
              "      <th>mean</th>\n",
              "      <th>std</th>\n",
              "      <th>min</th>\n",
              "      <th>25%</th>\n",
              "      <th>50%</th>\n",
              "      <th>75%</th>\n",
              "      <th>max</th>\n",
              "    </tr>\n",
              "  </thead>\n",
              "  <tbody>\n",
              "    <tr>\n",
              "      <th>Ai</th>\n",
              "      <td>59.315720</td>\n",
              "      <td>40.229200</td>\n",
              "      <td>1.0</td>\n",
              "      <td>32.0</td>\n",
              "      <td>53.0</td>\n",
              "      <td>74.0</td>\n",
              "      <td>570.0</td>\n",
              "    </tr>\n",
              "    <tr>\n",
              "      <th>Person</th>\n",
              "      <td>43.215818</td>\n",
              "      <td>28.260823</td>\n",
              "      <td>1.0</td>\n",
              "      <td>23.0</td>\n",
              "      <td>37.0</td>\n",
              "      <td>58.0</td>\n",
              "      <td>480.0</td>\n",
              "    </tr>\n",
              "  </tbody>\n",
              "</table>\n",
              "</div>\n",
              "      <button class=\"colab-df-convert\" onclick=\"convertToInteractive('df-04f98bbf-52e5-4ba5-b727-4983b258264f')\"\n",
              "              title=\"Convert this dataframe to an interactive table.\"\n",
              "              style=\"display:none;\">\n",
              "        \n",
              "  <svg xmlns=\"http://www.w3.org/2000/svg\" height=\"24px\"viewBox=\"0 0 24 24\"\n",
              "       width=\"24px\">\n",
              "    <path d=\"M0 0h24v24H0V0z\" fill=\"none\"/>\n",
              "    <path d=\"M18.56 5.44l.94 2.06.94-2.06 2.06-.94-2.06-.94-.94-2.06-.94 2.06-2.06.94zm-11 1L8.5 8.5l.94-2.06 2.06-.94-2.06-.94L8.5 2.5l-.94 2.06-2.06.94zm10 10l.94 2.06.94-2.06 2.06-.94-2.06-.94-.94-2.06-.94 2.06-2.06.94z\"/><path d=\"M17.41 7.96l-1.37-1.37c-.4-.4-.92-.59-1.43-.59-.52 0-1.04.2-1.43.59L10.3 9.45l-7.72 7.72c-.78.78-.78 2.05 0 2.83L4 21.41c.39.39.9.59 1.41.59.51 0 1.02-.2 1.41-.59l7.78-7.78 2.81-2.81c.8-.78.8-2.07 0-2.86zM5.41 20L4 18.59l7.72-7.72 1.47 1.35L5.41 20z\"/>\n",
              "  </svg>\n",
              "      </button>\n",
              "      \n",
              "  <style>\n",
              "    .colab-df-container {\n",
              "      display:flex;\n",
              "      flex-wrap:wrap;\n",
              "      gap: 12px;\n",
              "    }\n",
              "\n",
              "    .colab-df-convert {\n",
              "      background-color: #E8F0FE;\n",
              "      border: none;\n",
              "      border-radius: 50%;\n",
              "      cursor: pointer;\n",
              "      display: none;\n",
              "      fill: #1967D2;\n",
              "      height: 32px;\n",
              "      padding: 0 0 0 0;\n",
              "      width: 32px;\n",
              "    }\n",
              "\n",
              "    .colab-df-convert:hover {\n",
              "      background-color: #E2EBFA;\n",
              "      box-shadow: 0px 1px 2px rgba(60, 64, 67, 0.3), 0px 1px 3px 1px rgba(60, 64, 67, 0.15);\n",
              "      fill: #174EA6;\n",
              "    }\n",
              "\n",
              "    [theme=dark] .colab-df-convert {\n",
              "      background-color: #3B4455;\n",
              "      fill: #D2E3FC;\n",
              "    }\n",
              "\n",
              "    [theme=dark] .colab-df-convert:hover {\n",
              "      background-color: #434B5C;\n",
              "      box-shadow: 0px 1px 3px 1px rgba(0, 0, 0, 0.15);\n",
              "      filter: drop-shadow(0px 1px 2px rgba(0, 0, 0, 0.3));\n",
              "      fill: #FFFFFF;\n",
              "    }\n",
              "  </style>\n",
              "\n",
              "      <script>\n",
              "        const buttonEl =\n",
              "          document.querySelector('#df-04f98bbf-52e5-4ba5-b727-4983b258264f button.colab-df-convert');\n",
              "        buttonEl.style.display =\n",
              "          google.colab.kernel.accessAllowed ? 'block' : 'none';\n",
              "\n",
              "        async function convertToInteractive(key) {\n",
              "          const element = document.querySelector('#df-04f98bbf-52e5-4ba5-b727-4983b258264f');\n",
              "          const dataTable =\n",
              "            await google.colab.kernel.invokeFunction('convertToInteractive',\n",
              "                                                     [key], {});\n",
              "          if (!dataTable) return;\n",
              "\n",
              "          const docLinkHtml = 'Like what you see? Visit the ' +\n",
              "            '<a target=\"_blank\" href=https://colab.research.google.com/notebooks/data_table.ipynb>data table notebook</a>'\n",
              "            + ' to learn more about interactive tables.';\n",
              "          element.innerHTML = '';\n",
              "          dataTable['output_type'] = 'display_data';\n",
              "          await google.colab.output.renderOutput(dataTable, element);\n",
              "          const docLink = document.createElement('div');\n",
              "          docLink.innerHTML = docLinkHtml;\n",
              "          element.appendChild(docLink);\n",
              "        }\n",
              "      </script>\n",
              "    </div>\n",
              "  </div>\n",
              "  "
            ]
          },
          "metadata": {},
          "execution_count": 22
        }
      ]
    },
    {
      "cell_type": "code",
      "source": [
        "\n",
        "index = np.arange(7)\n",
        "bar_width = 0.35\n",
        "fig, ax = plt.subplots()\n",
        "plt.figure(figsize=(10,6))\n",
        "\n",
        "AI = ax.bar(index, length_hypo.iloc[0], bar_width,\n",
        "                label=\"AI\")\n",
        "Person  = ax.bar(index+bar_width, length_hypo.iloc[1], bar_width,\n",
        "                label=\"Person\")\n",
        "\n",
        "ax.set_xticks(index + bar_width / 2)\n",
        "ax.set_xticklabels(length_hypo.columns.values.tolist())\n",
        "ax.legend()\n",
        "plt.show()"
      ],
      "metadata": {
        "colab": {
          "base_uri": "https://localhost:8080/",
          "height": 447
        },
        "id": "_tw3FX6gzKMW",
        "outputId": "785ca3d2-3fc8-47b7-b952-79af8a8ed76a"
      },
      "execution_count": null,
      "outputs": [
        {
          "output_type": "display_data",
          "data": {
            "text/plain": [
              "<Figure size 640x480 with 1 Axes>"
            ],
            "image/png": "[encoded data removed]"
          },
          "metadata": {}
        },
        {
          "output_type": "display_data",
          "data": {
            "text/plain": [
              "<Figure size 1000x600 with 0 Axes>"
            ]
          },
          "metadata": {}
        }
      ]
    },
    {
      "cell_type": "code",
      "source": [
        "train_data.head()"
      ],
      "metadata": {
        "colab": {
          "base_uri": "https://localhost:8080/",
          "height": 206
        },
        "id": "NY93l7Wh9SWH",
        "outputId": "c81c8d10-070c-4f27-eb8d-c68526ff3105"
      },
      "execution_count": null,
      "outputs": [
        {
          "output_type": "execute_result",
          "data": {
            "text/plain": [
              "                                             context  \\\n",
              "0  спасибо большое какую музыку слушаешь собеседн...   \n",
              "1  замужем ищу своего принца пока толькоу замечат...   \n",
              "2  ивановская область собеседник понял москве люб...   \n",
              "3  особенно чинить собеседник люблю стиралки кари...   \n",
              "4  свободное время собеседник увлекаешься фотграф...   \n",
              "\n",
              "                                              answer  label  answer_length  \n",
              "0  Ой, ну тогда давай я тебе порекомендую что-ниб...      0            331  \n",
              "1  Может быть и тихие, но совсем не мирные, могут...      1             80  \n",
              "2                          В деревне у меня на даче.      0             25  \n",
              "3       В доме - полный порядок, все на своем месте.      0             44  \n",
              "4       Да, я фотографирую, это моя страсть и хобби.      0             44  "
            ],
            "text/html": [
              "\n",
              "  <div id=\"df-d12b6325-c0f9-461c-b08f-5f5b0f1534f4\">\n",
              "    <div class=\"colab-df-container\">\n",
              "      <div>\n",
              "<style scoped>\n",
              "    .dataframe tbody tr th:only-of-type {\n",
              "        vertical-align: middle;\n",
              "    }\n",
              "\n",
              "    .dataframe tbody tr th {\n",
              "        vertical-align: top;\n",
              "    }\n",
              "\n",
              "    .dataframe thead th {\n",
              "        text-align: right;\n",
              "    }\n",
              "</style>\n",
              "<table border=\"1\" class=\"dataframe\">\n",
              "  <thead>\n",
              "    <tr style=\"text-align: right;\">\n",
              "      <th></th>\n",
              "      <th>context</th>\n",
              "      <th>answer</th>\n",
              "      <th>label</th>\n",
              "      <th>answer_length</th>\n",
              "    </tr>\n",
              "  </thead>\n",
              "  <tbody>\n",
              "    <tr>\n",
              "      <th>0</th>\n",
              "      <td>спасибо большое какую музыку слушаешь собеседн...</td>\n",
              "      <td>Ой, ну тогда давай я тебе порекомендую что-ниб...</td>\n",
              "      <td>0</td>\n",
              "      <td>331</td>\n",
              "    </tr>\n",
              "    <tr>\n",
              "      <th>1</th>\n",
              "      <td>замужем ищу своего принца пока толькоу замечат...</td>\n",
              "      <td>Может быть и тихие, но совсем не мирные, могут...</td>\n",
              "      <td>1</td>\n",
              "      <td>80</td>\n",
              "    </tr>\n",
              "    <tr>\n",
              "      <th>2</th>\n",
              "      <td>ивановская область собеседник понял москве люб...</td>\n",
              "      <td>В деревне у меня на даче.</td>\n",
              "      <td>0</td>\n",
              "      <td>25</td>\n",
              "    </tr>\n",
              "    <tr>\n",
              "      <th>3</th>\n",
              "      <td>особенно чинить собеседник люблю стиралки кари...</td>\n",
              "      <td>В доме - полный порядок, все на своем месте.</td>\n",
              "      <td>0</td>\n",
              "      <td>44</td>\n",
              "    </tr>\n",
              "    <tr>\n",
              "      <th>4</th>\n",
              "      <td>свободное время собеседник увлекаешься фотграф...</td>\n",
              "      <td>Да, я фотографирую, это моя страсть и хобби.</td>\n",
              "      <td>0</td>\n",
              "      <td>44</td>\n",
              "    </tr>\n",
              "  </tbody>\n",
              "</table>\n",
              "</div>\n",
              "      <button class=\"colab-df-convert\" onclick=\"convertToInteractive('df-d12b6325-c0f9-461c-b08f-5f5b0f1534f4')\"\n",
              "              title=\"Convert this dataframe to an interactive table.\"\n",
              "              style=\"display:none;\">\n",
              "        \n",
              "  <svg xmlns=\"http://www.w3.org/2000/svg\" height=\"24px\"viewBox=\"0 0 24 24\"\n",
              "       width=\"24px\">\n",
              "    <path d=\"M0 0h24v24H0V0z\" fill=\"none\"/>\n",
              "    <path d=\"M18.56 5.44l.94 2.06.94-2.06 2.06-.94-2.06-.94-.94-2.06-.94 2.06-2.06.94zm-11 1L8.5 8.5l.94-2.06 2.06-.94-2.06-.94L8.5 2.5l-.94 2.06-2.06.94zm10 10l.94 2.06.94-2.06 2.06-.94-2.06-.94-.94-2.06-.94 2.06-2.06.94z\"/><path d=\"M17.41 7.96l-1.37-1.37c-.4-.4-.92-.59-1.43-.59-.52 0-1.04.2-1.43.59L10.3 9.45l-7.72 7.72c-.78.78-.78 2.05 0 2.83L4 21.41c.39.39.9.59 1.41.59.51 0 1.02-.2 1.41-.59l7.78-7.78 2.81-2.81c.8-.78.8-2.07 0-2.86zM5.41 20L4 18.59l7.72-7.72 1.47 1.35L5.41 20z\"/>\n",
              "  </svg>\n",
              "      </button>\n",
              "      \n",
              "  <style>\n",
              "    .colab-df-container {\n",
              "      display:flex;\n",
              "      flex-wrap:wrap;\n",
              "      gap: 12px;\n",
              "    }\n",
              "\n",
              "    .colab-df-convert {\n",
              "      background-color: #E8F0FE;\n",
              "      border: none;\n",
              "      border-radius: 50%;\n",
              "      cursor: pointer;\n",
              "      display: none;\n",
              "      fill: #1967D2;\n",
              "      height: 32px;\n",
              "      padding: 0 0 0 0;\n",
              "      width: 32px;\n",
              "    }\n",
              "\n",
              "    .colab-df-convert:hover {\n",
              "      background-color: #E2EBFA;\n",
              "      box-shadow: 0px 1px 2px rgba(60, 64, 67, 0.3), 0px 1px 3px 1px rgba(60, 64, 67, 0.15);\n",
              "      fill: #174EA6;\n",
              "    }\n",
              "\n",
              "    [theme=dark] .colab-df-convert {\n",
              "      background-color: #3B4455;\n",
              "      fill: #D2E3FC;\n",
              "    }\n",
              "\n",
              "    [theme=dark] .colab-df-convert:hover {\n",
              "      background-color: #434B5C;\n",
              "      box-shadow: 0px 1px 3px 1px rgba(0, 0, 0, 0.15);\n",
              "      filter: drop-shadow(0px 1px 2px rgba(0, 0, 0, 0.3));\n",
              "      fill: #FFFFFF;\n",
              "    }\n",
              "  </style>\n",
              "\n",
              "      <script>\n",
              "        const buttonEl =\n",
              "          document.querySelector('#df-d12b6325-c0f9-461c-b08f-5f5b0f1534f4 button.colab-df-convert');\n",
              "        buttonEl.style.display =\n",
              "          google.colab.kernel.accessAllowed ? 'block' : 'none';\n",
              "\n",
              "        async function convertToInteractive(key) {\n",
              "          const element = document.querySelector('#df-d12b6325-c0f9-461c-b08f-5f5b0f1534f4');\n",
              "          const dataTable =\n",
              "            await google.colab.kernel.invokeFunction('convertToInteractive',\n",
              "                                                     [key], {});\n",
              "          if (!dataTable) return;\n",
              "\n",
              "          const docLinkHtml = 'Like what you see? Visit the ' +\n",
              "            '<a target=\"_blank\" href=https://colab.research.google.com/notebooks/data_table.ipynb>data table notebook</a>'\n",
              "            + ' to learn more about interactive tables.';\n",
              "          element.innerHTML = '';\n",
              "          dataTable['output_type'] = 'display_data';\n",
              "          await google.colab.output.renderOutput(dataTable, element);\n",
              "          const docLink = document.createElement('div');\n",
              "          docLink.innerHTML = docLinkHtml;\n",
              "          element.appendChild(docLink);\n",
              "        }\n",
              "      </script>\n",
              "    </div>\n",
              "  </div>\n",
              "  "
            ]
          },
          "metadata": {},
          "execution_count": 22
        }
      ]
    },
    {
      "cell_type": "code",
      "source": [
        "train_data.head()"
      ],
      "metadata": {
        "colab": {
          "base_uri": "https://localhost:8080/",
          "height": 206
        },
        "id": "ZSrJmikQ9e7h",
        "outputId": "f133f832-29b6-4e7d-b856-68ff5311149e"
      },
      "execution_count": null,
      "outputs": [
        {
          "output_type": "execute_result",
          "data": {
            "text/plain": [
              "                                             context  \\\n",
              "0  спасибо большое какую музыку слушаешь собеседн...   \n",
              "1  замужем ищу своего принца пока толькоу замечат...   \n",
              "2  ивановская область собеседник понял москве люб...   \n",
              "3  особенно чинить собеседник люблю стиралки кари...   \n",
              "4  свободное время собеседник увлекаешься фотграф...   \n",
              "\n",
              "                                              answer  label  answer_length  \n",
              "0  Ой, ну тогда давай я тебе порекомендую что-ниб...      0            331  \n",
              "1  Может быть и тихие, но совсем не мирные, могут...      1             80  \n",
              "2                          В деревне у меня на даче.      0             25  \n",
              "3       В доме - полный порядок, все на своем месте.      0             44  \n",
              "4       Да, я фотографирую, это моя страсть и хобби.      0             44  "
            ],
            "text/html": [
              "\n",
              "  <div id=\"df-25b5760f-3cfb-4d35-ae56-84b07bfeb3ec\">\n",
              "    <div class=\"colab-df-container\">\n",
              "      <div>\n",
              "<style scoped>\n",
              "    .dataframe tbody tr th:only-of-type {\n",
              "        vertical-align: middle;\n",
              "    }\n",
              "\n",
              "    .dataframe tbody tr th {\n",
              "        vertical-align: top;\n",
              "    }\n",
              "\n",
              "    .dataframe thead th {\n",
              "        text-align: right;\n",
              "    }\n",
              "</style>\n",
              "<table border=\"1\" class=\"dataframe\">\n",
              "  <thead>\n",
              "    <tr style=\"text-align: right;\">\n",
              "      <th></th>\n",
              "      <th>context</th>\n",
              "      <th>answer</th>\n",
              "      <th>label</th>\n",
              "      <th>answer_length</th>\n",
              "    </tr>\n",
              "  </thead>\n",
              "  <tbody>\n",
              "    <tr>\n",
              "      <th>0</th>\n",
              "      <td>спасибо большое какую музыку слушаешь собеседн...</td>\n",
              "      <td>Ой, ну тогда давай я тебе порекомендую что-ниб...</td>\n",
              "      <td>0</td>\n",
              "      <td>331</td>\n",
              "    </tr>\n",
              "    <tr>\n",
              "      <th>1</th>\n",
              "      <td>замужем ищу своего принца пока толькоу замечат...</td>\n",
              "      <td>Может быть и тихие, но совсем не мирные, могут...</td>\n",
              "      <td>1</td>\n",
              "      <td>80</td>\n",
              "    </tr>\n",
              "    <tr>\n",
              "      <th>2</th>\n",
              "      <td>ивановская область собеседник понял москве люб...</td>\n",
              "      <td>В деревне у меня на даче.</td>\n",
              "      <td>0</td>\n",
              "      <td>25</td>\n",
              "    </tr>\n",
              "    <tr>\n",
              "      <th>3</th>\n",
              "      <td>особенно чинить собеседник люблю стиралки кари...</td>\n",
              "      <td>В доме - полный порядок, все на своем месте.</td>\n",
              "      <td>0</td>\n",
              "      <td>44</td>\n",
              "    </tr>\n",
              "    <tr>\n",
              "      <th>4</th>\n",
              "      <td>свободное время собеседник увлекаешься фотграф...</td>\n",
              "      <td>Да, я фотографирую, это моя страсть и хобби.</td>\n",
              "      <td>0</td>\n",
              "      <td>44</td>\n",
              "    </tr>\n",
              "  </tbody>\n",
              "</table>\n",
              "</div>\n",
              "      <button class=\"colab-df-convert\" onclick=\"convertToInteractive('df-25b5760f-3cfb-4d35-ae56-84b07bfeb3ec')\"\n",
              "              title=\"Convert this dataframe to an interactive table.\"\n",
              "              style=\"display:none;\">\n",
              "        \n",
              "  <svg xmlns=\"http://www.w3.org/2000/svg\" height=\"24px\"viewBox=\"0 0 24 24\"\n",
              "       width=\"24px\">\n",
              "    <path d=\"M0 0h24v24H0V0z\" fill=\"none\"/>\n",
              "    <path d=\"M18.56 5.44l.94 2.06.94-2.06 2.06-.94-2.06-.94-.94-2.06-.94 2.06-2.06.94zm-11 1L8.5 8.5l.94-2.06 2.06-.94-2.06-.94L8.5 2.5l-.94 2.06-2.06.94zm10 10l.94 2.06.94-2.06 2.06-.94-2.06-.94-.94-2.06-.94 2.06-2.06.94z\"/><path d=\"M17.41 7.96l-1.37-1.37c-.4-.4-.92-.59-1.43-.59-.52 0-1.04.2-1.43.59L10.3 9.45l-7.72 7.72c-.78.78-.78 2.05 0 2.83L4 21.41c.39.39.9.59 1.41.59.51 0 1.02-.2 1.41-.59l7.78-7.78 2.81-2.81c.8-.78.8-2.07 0-2.86zM5.41 20L4 18.59l7.72-7.72 1.47 1.35L5.41 20z\"/>\n",
              "  </svg>\n",
              "      </button>\n",
              "      \n",
              "  <style>\n",
              "    .colab-df-container {\n",
              "      display:flex;\n",
              "      flex-wrap:wrap;\n",
              "      gap: 12px;\n",
              "    }\n",
              "\n",
              "    .colab-df-convert {\n",
              "      background-color: #E8F0FE;\n",
              "      border: none;\n",
              "      border-radius: 50%;\n",
              "      cursor: pointer;\n",
              "      display: none;\n",
              "      fill: #1967D2;\n",
              "      height: 32px;\n",
              "      padding: 0 0 0 0;\n",
              "      width: 32px;\n",
              "    }\n",
              "\n",
              "    .colab-df-convert:hover {\n",
              "      background-color: #E2EBFA;\n",
              "      box-shadow: 0px 1px 2px rgba(60, 64, 67, 0.3), 0px 1px 3px 1px rgba(60, 64, 67, 0.15);\n",
              "      fill: #174EA6;\n",
              "    }\n",
              "\n",
              "    [theme=dark] .colab-df-convert {\n",
              "      background-color: #3B4455;\n",
              "      fill: #D2E3FC;\n",
              "    }\n",
              "\n",
              "    [theme=dark] .colab-df-convert:hover {\n",
              "      background-color: #434B5C;\n",
              "      box-shadow: 0px 1px 3px 1px rgba(0, 0, 0, 0.15);\n",
              "      filter: drop-shadow(0px 1px 2px rgba(0, 0, 0, 0.3));\n",
              "      fill: #FFFFFF;\n",
              "    }\n",
              "  </style>\n",
              "\n",
              "      <script>\n",
              "        const buttonEl =\n",
              "          document.querySelector('#df-25b5760f-3cfb-4d35-ae56-84b07bfeb3ec button.colab-df-convert');\n",
              "        buttonEl.style.display =\n",
              "          google.colab.kernel.accessAllowed ? 'block' : 'none';\n",
              "\n",
              "        async function convertToInteractive(key) {\n",
              "          const element = document.querySelector('#df-25b5760f-3cfb-4d35-ae56-84b07bfeb3ec');\n",
              "          const dataTable =\n",
              "            await google.colab.kernel.invokeFunction('convertToInteractive',\n",
              "                                                     [key], {});\n",
              "          if (!dataTable) return;\n",
              "\n",
              "          const docLinkHtml = 'Like what you see? Visit the ' +\n",
              "            '<a target=\"_blank\" href=https://colab.research.google.com/notebooks/data_table.ipynb>data table notebook</a>'\n",
              "            + ' to learn more about interactive tables.';\n",
              "          element.innerHTML = '';\n",
              "          dataTable['output_type'] = 'display_data';\n",
              "          await google.colab.output.renderOutput(dataTable, element);\n",
              "          const docLink = document.createElement('div');\n",
              "          docLink.innerHTML = docLinkHtml;\n",
              "          element.appendChild(docLink);\n",
              "        }\n",
              "      </script>\n",
              "    </div>\n",
              "  </div>\n",
              "  "
            ]
          },
          "metadata": {},
          "execution_count": 25
        }
      ]
    },
    {
      "cell_type": "code",
      "source": [
        "from sklearn.model_selection import train_test_split\n",
        "X = train_data.drop([\n",
        "    # 'answer_length',\n",
        "    # 'clean_answer_length',\n",
        "    # 'context',\n",
        "    'label'\n",
        "    ], axis=1)\n",
        "y = train_data['label']\n",
        "Xtrain, Xtest, ytrain, ytest = train_test_split(X, y, test_size=0.3)\n",
        "X.head()"
      ],
      "metadata": {
        "id": "sqLflsHTSAkM",
        "colab": {
          "base_uri": "https://localhost:8080/",
          "height": 206
        },
        "outputId": "274dce58-c004-4904-e51d-70ebe0cfb6c8"
      },
      "execution_count": null,
      "outputs": [
        {
          "output_type": "execute_result",
          "data": {
            "text/plain": [
              "                                             context  \\\n",
              "0  спасибо большое какую музыку слушаешь собеседн...   \n",
              "1  замужем ищу своего принца пока толькоу замечат...   \n",
              "2  ивановская область собеседник понял москве люб...   \n",
              "3  особенно чинить собеседник люблю стиралки кари...   \n",
              "4  свободное время собеседник увлекаешься фотграф...   \n",
              "\n",
              "                                              answer  answer_length  \n",
              "0  Ой, ну тогда давай я тебе порекомендую что-ниб...            331  \n",
              "1  Может быть и тихие, но совсем не мирные, могут...             80  \n",
              "2                          В деревне у меня на даче.             25  \n",
              "3       В доме - полный порядок, все на своем месте.             44  \n",
              "4       Да, я фотографирую, это моя страсть и хобби.             44  "
            ],
            "text/html": [
              "\n",
              "  <div id=\"df-91359ca4-5c9b-4faf-8362-23731706c8fb\">\n",
              "    <div class=\"colab-df-container\">\n",
              "      <div>\n",
              "<style scoped>\n",
              "    .dataframe tbody tr th:only-of-type {\n",
              "        vertical-align: middle;\n",
              "    }\n",
              "\n",
              "    .dataframe tbody tr th {\n",
              "        vertical-align: top;\n",
              "    }\n",
              "\n",
              "    .dataframe thead th {\n",
              "        text-align: right;\n",
              "    }\n",
              "</style>\n",
              "<table border=\"1\" class=\"dataframe\">\n",
              "  <thead>\n",
              "    <tr style=\"text-align: right;\">\n",
              "      <th></th>\n",
              "      <th>context</th>\n",
              "      <th>answer</th>\n",
              "      <th>answer_length</th>\n",
              "    </tr>\n",
              "  </thead>\n",
              "  <tbody>\n",
              "    <tr>\n",
              "      <th>0</th>\n",
              "      <td>спасибо большое какую музыку слушаешь собеседн...</td>\n",
              "      <td>Ой, ну тогда давай я тебе порекомендую что-ниб...</td>\n",
              "      <td>331</td>\n",
              "    </tr>\n",
              "    <tr>\n",
              "      <th>1</th>\n",
              "      <td>замужем ищу своего принца пока толькоу замечат...</td>\n",
              "      <td>Может быть и тихие, но совсем не мирные, могут...</td>\n",
              "      <td>80</td>\n",
              "    </tr>\n",
              "    <tr>\n",
              "      <th>2</th>\n",
              "      <td>ивановская область собеседник понял москве люб...</td>\n",
              "      <td>В деревне у меня на даче.</td>\n",
              "      <td>25</td>\n",
              "    </tr>\n",
              "    <tr>\n",
              "      <th>3</th>\n",
              "      <td>особенно чинить собеседник люблю стиралки кари...</td>\n",
              "      <td>В доме - полный порядок, все на своем месте.</td>\n",
              "      <td>44</td>\n",
              "    </tr>\n",
              "    <tr>\n",
              "      <th>4</th>\n",
              "      <td>свободное время собеседник увлекаешься фотграф...</td>\n",
              "      <td>Да, я фотографирую, это моя страсть и хобби.</td>\n",
              "      <td>44</td>\n",
              "    </tr>\n",
              "  </tbody>\n",
              "</table>\n",
              "</div>\n",
              "      <button class=\"colab-df-convert\" onclick=\"convertToInteractive('df-91359ca4-5c9b-4faf-8362-23731706c8fb')\"\n",
              "              title=\"Convert this dataframe to an interactive table.\"\n",
              "              style=\"display:none;\">\n",
              "        \n",
              "  <svg xmlns=\"http://www.w3.org/2000/svg\" height=\"24px\"viewBox=\"0 0 24 24\"\n",
              "       width=\"24px\">\n",
              "    <path d=\"M0 0h24v24H0V0z\" fill=\"none\"/>\n",
              "    <path d=\"M18.56 5.44l.94 2.06.94-2.06 2.06-.94-2.06-.94-.94-2.06-.94 2.06-2.06.94zm-11 1L8.5 8.5l.94-2.06 2.06-.94-2.06-.94L8.5 2.5l-.94 2.06-2.06.94zm10 10l.94 2.06.94-2.06 2.06-.94-2.06-.94-.94-2.06-.94 2.06-2.06.94z\"/><path d=\"M17.41 7.96l-1.37-1.37c-.4-.4-.92-.59-1.43-.59-.52 0-1.04.2-1.43.59L10.3 9.45l-7.72 7.72c-.78.78-.78 2.05 0 2.83L4 21.41c.39.39.9.59 1.41.59.51 0 1.02-.2 1.41-.59l7.78-7.78 2.81-2.81c.8-.78.8-2.07 0-2.86zM5.41 20L4 18.59l7.72-7.72 1.47 1.35L5.41 20z\"/>\n",
              "  </svg>\n",
              "      </button>\n",
              "      \n",
              "  <style>\n",
              "    .colab-df-container {\n",
              "      display:flex;\n",
              "      flex-wrap:wrap;\n",
              "      gap: 12px;\n",
              "    }\n",
              "\n",
              "    .colab-df-convert {\n",
              "      background-color: #E8F0FE;\n",
              "      border: none;\n",
              "      border-radius: 50%;\n",
              "      cursor: pointer;\n",
              "      display: none;\n",
              "      fill: #1967D2;\n",
              "      height: 32px;\n",
              "      padding: 0 0 0 0;\n",
              "      width: 32px;\n",
              "    }\n",
              "\n",
              "    .colab-df-convert:hover {\n",
              "      background-color: #E2EBFA;\n",
              "      box-shadow: 0px 1px 2px rgba(60, 64, 67, 0.3), 0px 1px 3px 1px rgba(60, 64, 67, 0.15);\n",
              "      fill: #174EA6;\n",
              "    }\n",
              "\n",
              "    [theme=dark] .colab-df-convert {\n",
              "      background-color: #3B4455;\n",
              "      fill: #D2E3FC;\n",
              "    }\n",
              "\n",
              "    [theme=dark] .colab-df-convert:hover {\n",
              "      background-color: #434B5C;\n",
              "      box-shadow: 0px 1px 3px 1px rgba(0, 0, 0, 0.15);\n",
              "      filter: drop-shadow(0px 1px 2px rgba(0, 0, 0, 0.3));\n",
              "      fill: #FFFFFF;\n",
              "    }\n",
              "  </style>\n",
              "\n",
              "      <script>\n",
              "        const buttonEl =\n",
              "          document.querySelector('#df-91359ca4-5c9b-4faf-8362-23731706c8fb button.colab-df-convert');\n",
              "        buttonEl.style.display =\n",
              "          google.colab.kernel.accessAllowed ? 'block' : 'none';\n",
              "\n",
              "        async function convertToInteractive(key) {\n",
              "          const element = document.querySelector('#df-91359ca4-5c9b-4faf-8362-23731706c8fb');\n",
              "          const dataTable =\n",
              "            await google.colab.kernel.invokeFunction('convertToInteractive',\n",
              "                                                     [key], {});\n",
              "          if (!dataTable) return;\n",
              "\n",
              "          const docLinkHtml = 'Like what you see? Visit the ' +\n",
              "            '<a target=\"_blank\" href=https://colab.research.google.com/notebooks/data_table.ipynb>data table notebook</a>'\n",
              "            + ' to learn more about interactive tables.';\n",
              "          element.innerHTML = '';\n",
              "          dataTable['output_type'] = 'display_data';\n",
              "          await google.colab.output.renderOutput(dataTable, element);\n",
              "          const docLink = document.createElement('div');\n",
              "          docLink.innerHTML = docLinkHtml;\n",
              "          element.appendChild(docLink);\n",
              "        }\n",
              "      </script>\n",
              "    </div>\n",
              "  </div>\n",
              "  "
            ]
          },
          "metadata": {},
          "execution_count": 24
        }
      ]
    },
    {
      "cell_type": "markdown",
      "source": [
        "# Model"
      ],
      "metadata": {
        "id": "LoLWWaNFQsTS"
      }
    },
    {
      "cell_type": "markdown",
      "source": [
        "## CatBoost (Первая версия классификатора)"
      ],
      "metadata": {
        "id": "dvP1FNAuR8Kn"
      }
    },
    {
      "cell_type": "code",
      "source": [
        "catboost_scores = {\n",
        "    'contex + answer + len': None,\n",
        "    'contex + answer': None,\n",
        "    'only answer': None,\n",
        "}"
      ],
      "metadata": {
        "id": "yFyWBp08AyPd"
      },
      "execution_count": null,
      "outputs": []
    },
    {
      "cell_type": "code",
      "source": [
        "list(Xtrain)"
      ],
      "metadata": {
        "colab": {
          "base_uri": "https://localhost:8080/"
        },
        "id": "SsNbE67w7bLn",
        "outputId": "8612c5e3-3ed5-43f4-faaa-fb713fee37fb"
      },
      "execution_count": null,
      "outputs": [
        {
          "output_type": "execute_result",
          "data": {
            "text/plain": [
              "['context', 'answer', 'answer_length']"
            ]
          },
          "metadata": {},
          "execution_count": 29
        }
      ]
    },
    {
      "cell_type": "code",
      "source": [
        "from google.colab import output\n",
        "output.disable_custom_widget_manager()"
      ],
      "metadata": {
        "id": "Pxb7nQxfPbdn"
      },
      "execution_count": null,
      "outputs": []
    },
    {
      "cell_type": "code",
      "source": [
        "text_features = ['context','answer']\n",
        "\n",
        "\n",
        "train_pool = Pool(\n",
        "    Xtrain,\n",
        "    ytrain,\n",
        "    text_features=text_features,\n",
        "    feature_names=list(Xtrain)\n",
        ")\n",
        "valid_pool = Pool(\n",
        "    Xtest,\n",
        "    ytest,\n",
        "    text_features=text_features,\n",
        "    feature_names=list(Xtrain)\n",
        ")\n",
        "\n",
        "catboost_params = {\n",
        "    'iterations': 10000,\n",
        "    'learning_rate': 0.001,\n",
        "    'eval_metric': 'F1',\n",
        "    'task_type': 'CPU',\n",
        "    'early_stopping_rounds': 300,\n",
        "    'use_best_model': True,\n",
        "    'verbose': 100\n",
        "}\n",
        "\n",
        "model = CatBoostClassifier(**catboost_params)\n",
        "model.fit(train_pool, eval_set=valid_pool, plot=True)"
      ],
      "metadata": {
        "colab": {
          "base_uri": "https://localhost:8080/",
          "height": 208,
          "referenced_widgets": [
            "33d6ef3ff2d0461c9d1d0dcc68bc78c1"
          ]
        },
        "id": "-6tY0DszRv5N",
        "outputId": "43176def-def2-464f-97f8-d8ad9c9e5c8a"
      },
      "execution_count": null,
      "outputs": [
        {
          "output_type": "display_data",
          "data": {
            "text/plain": [
              "MetricVisualizer(layout=Layout(align_self='stretch', height='500px'))"
            ],
            "application/vnd.jupyter.widget-view+json": {
              "version_major": 2,
              "version_minor": 0,
              "model_id": "33d6ef3ff2d0461c9d1d0dcc68bc78c1"
            }
          },
          "metadata": {}
        },
        {
          "output_type": "stream",
          "name": "stdout",
          "text": [
            "0:\tlearn: 0.7951500\ttest: 0.8274854\tbest: 0.8274854 (0)\ttotal: 297ms\tremaining: 49m 28s\n",
            "100:\tlearn: 0.8014052\ttest: 0.8265647\tbest: 0.8276850 (62)\ttotal: 44.6s\tremaining: 1h 12m 52s\n",
            "200:\tlearn: 0.8024870\ttest: 0.8252753\tbest: 0.8276850 (62)\ttotal: 1m 18s\tremaining: 1h 4m 7s\n",
            "300:\tlearn: 0.8019925\ttest: 0.8260661\tbest: 0.8276850 (62)\ttotal: 1m 56s\tremaining: 1h 2m 28s\n",
            "Stopped by overfitting detector  (300 iterations wait)\n",
            "\n",
            "bestTest = 0.8276849642\n",
            "bestIteration = 62\n",
            "\n",
            "Shrink model to first 63 iterations.\n"
          ]
        },
        {
          "output_type": "execute_result",
          "data": {
            "text/plain": [
              "<catboost.core.CatBoostClassifier at 0x7f1c6b7ea170>"
            ]
          },
          "metadata": {},
          "execution_count": 36
        }
      ]
    },
    {
      "cell_type": "code",
      "source": [
        "from google.colab import output\n",
        "output.disable_custom_widget_manager()"
      ],
      "metadata": {
        "id": "oHXyXkTePfyH"
      },
      "execution_count": null,
      "outputs": []
    },
    {
      "cell_type": "code",
      "source": [
        "catboost_scores = {\n",
        "    'contex + answer + len': 0.83800,\n",
        "    'contex + answer': 0.80800,\n",
        "    'only answer': 0.82500,\n",
        "}"
      ],
      "metadata": {
        "id": "6QhItCFBTB54"
      },
      "execution_count": null,
      "outputs": []
    },
    {
      "cell_type": "code",
      "source": [
        "for key in catboost_scores.keys():\n",
        "  print(key, catboost_scores[key])"
      ],
      "metadata": {
        "colab": {
          "base_uri": "https://localhost:8080/"
        },
        "id": "Vd7H0dsgKw7y",
        "outputId": "4e59aad2-5616-436e-85d7-60f82033338d"
      },
      "execution_count": null,
      "outputs": [
        {
          "output_type": "stream",
          "name": "stdout",
          "text": [
            "contex + answer + len 0.838\n",
            "contex + answer 0.808\n",
            "only answer 0.825\n"
          ]
        }
      ]
    },
    {
      "cell_type": "code",
      "source": [
        "metrics=pd.DataFrame({'method': [key for key in catboost_scores.keys()], 'result': [catboost_scores[key] for key in catboost_scores.keys()]})\n",
        "\n",
        "ax = metrics.plot.barh(x='method', y='result', ylim=(0.5,1))\n",
        "\n",
        "for container in ax.containers:\n",
        "    ax.bar_label(container)"
      ],
      "metadata": {
        "id": "wADccRncf33X",
        "colab": {
          "base_uri": "https://localhost:8080/",
          "height": 430
        },
        "outputId": "121bb0ce-307a-4adb-d6a5-651ea3b48c7d"
      },
      "execution_count": null,
      "outputs": [
        {
          "output_type": "display_data",
          "data": {
            "text/plain": [
              "<Figure size 640x480 with 1 Axes>"
            ],
            "image/png": "[encoded data removed]"
          },
          "metadata": {}
        }
      ]
    },
    {
      "cell_type": "markdown",
      "source": [
        "## Transformers"
      ],
      "metadata": {
        "id": "DCf8SLqmQu5K"
      }
    },
    {
      "cell_type": "code",
      "source": [
        "!pip install simpletransformers -q"
      ],
      "metadata": {
        "id": "F9PxLjTuQxPB",
        "colab": {
          "base_uri": "https://localhost:8080/"
        },
        "outputId": "afa8db74-6eca-4f5c-a83f-7ba6d02052bb"
      },
      "execution_count": null,
      "outputs": [
        {
          "output_type": "stream",
          "name": "stdout",
          "text": [
            "\u001b[2K     \u001b[90m━━━━━━━━━━━━━━━━━━━━━━━━━━━━━━━━━━━━━━━\u001b[0m \u001b[32m250.7/250.7 kB\u001b[0m \u001b[31m6.7 MB/s\u001b[0m eta \u001b[36m0:00:00\u001b[0m\n",
            "\u001b[2K     \u001b[90m━━━━━━━━━━━━━━━━━━━━━━━━━━━━━━━━━━━━━━━━\u001b[0m \u001b[32m7.1/7.1 MB\u001b[0m \u001b[31m81.8 MB/s\u001b[0m eta \u001b[36m0:00:00\u001b[0m\n",
            "\u001b[2K     \u001b[90m━━━━━━━━━━━━━━━━━━━━━━━━━━━━━━━━━━━━━━\u001b[0m \u001b[32m474.6/474.6 kB\u001b[0m \u001b[31m43.8 MB/s\u001b[0m eta \u001b[36m0:00:00\u001b[0m\n",
            "\u001b[2K     \u001b[90m━━━━━━━━━━━━━━━━━━━━━━━━━━━━━━━━━━━━━━━━\u001b[0m \u001b[32m43.6/43.6 kB\u001b[0m \u001b[31m5.7 MB/s\u001b[0m eta \u001b[36m0:00:00\u001b[0m\n",
            "\u001b[?25h  Preparing metadata (setup.py) ... \u001b[?25l\u001b[?25hdone\n",
            "\u001b[2K     \u001b[90m━━━━━━━━━━━━━━━━━━━━━━━━━━━━━━━━━━━━━━━━\u001b[0m \u001b[32m7.8/7.8 MB\u001b[0m \u001b[31m107.7 MB/s\u001b[0m eta \u001b[36m0:00:00\u001b[0m\n",
            "\u001b[2K     \u001b[90m━━━━━━━━━━━━━━━━━━━━━━━━━━━━━━━━━━━━━━━━\u001b[0m \u001b[32m2.0/2.0 MB\u001b[0m \u001b[31m92.4 MB/s\u001b[0m eta \u001b[36m0:00:00\u001b[0m\n",
            "\u001b[2K     \u001b[90m━━━━━━━━━━━━━━━━━━━━━━━━━━━━━━━━━━━━━━━━\u001b[0m \u001b[32m8.9/8.9 MB\u001b[0m \u001b[31m123.0 MB/s\u001b[0m eta \u001b[36m0:00:00\u001b[0m\n",
            "\u001b[2K     \u001b[90m━━━━━━━━━━━━━━━━━━━━━━━━━━━━━━━━━━━━━━━━\u001b[0m \u001b[32m1.3/1.3 MB\u001b[0m \u001b[31m71.9 MB/s\u001b[0m eta \u001b[36m0:00:00\u001b[0m\n",
            "\u001b[2K     \u001b[90m━━━━━━━━━━━━━━━━━━━━━━━━━━━━━━━━━━━━━━\u001b[0m \u001b[32m224.5/224.5 kB\u001b[0m \u001b[31m24.7 MB/s\u001b[0m eta \u001b[36m0:00:00\u001b[0m\n",
            "\u001b[2K     \u001b[90m━━━━━━━━━━━━━━━━━━━━━━━━━━━━━━━━━━━━━━\u001b[0m \u001b[32m184.3/184.3 kB\u001b[0m \u001b[31m21.6 MB/s\u001b[0m eta \u001b[36m0:00:00\u001b[0m\n",
            "\u001b[2K     \u001b[90m━━━━━━━━━━━━━━━━━━━━━━━━━━━━━━━━━━━━━━\u001b[0m \u001b[32m205.1/205.1 kB\u001b[0m \u001b[31m21.8 MB/s\u001b[0m eta \u001b[36m0:00:00\u001b[0m\n",
            "\u001b[?25h  Preparing metadata (setup.py) ... \u001b[?25l\u001b[?25hdone\n",
            "\u001b[2K     \u001b[90m━━━━━━━━━━━━━━━━━━━━━━━━━━━━━━━━━━━━━━\u001b[0m \u001b[32m110.5/110.5 kB\u001b[0m \u001b[31m13.9 MB/s\u001b[0m eta \u001b[36m0:00:00\u001b[0m\n",
            "\u001b[2K     \u001b[90m━━━━━━━━━━━━━━━━━━━━━━━━━━━━━━━━━━━━━━\u001b[0m \u001b[32m212.5/212.5 kB\u001b[0m \u001b[31m24.8 MB/s\u001b[0m eta \u001b[36m0:00:00\u001b[0m\n",
            "\u001b[2K     \u001b[90m━━━━━━━━━━━━━━━━━━━━━━━━━━━━━━━━━━━━━━\u001b[0m \u001b[32m134.3/134.3 kB\u001b[0m \u001b[31m15.5 MB/s\u001b[0m eta \u001b[36m0:00:00\u001b[0m\n",
            "\u001b[2K     \u001b[90m━━━━━━━━━━━━━━━━━━━━━━━━━━━━━━━━━━━━━━━━\u001b[0m \u001b[32m1.0/1.0 MB\u001b[0m \u001b[31m66.3 MB/s\u001b[0m eta \u001b[36m0:00:00\u001b[0m\n",
            "\u001b[2K     \u001b[90m━━━━━━━━━━━━━━━━━━━━━━━━━━━━━━━━━━━━━━\u001b[0m \u001b[32m164.8/164.8 kB\u001b[0m \u001b[31m20.1 MB/s\u001b[0m eta \u001b[36m0:00:00\u001b[0m\n",
            "\u001b[?25h  Preparing metadata (setup.py) ... \u001b[?25l\u001b[?25hdone\n",
            "\u001b[2K     \u001b[90m━━━━━━━━━━━━━━━━━━━━━━━━━━━━━━━━━━━━━━━━\u001b[0m \u001b[32m4.8/4.8 MB\u001b[0m \u001b[31m93.6 MB/s\u001b[0m eta \u001b[36m0:00:00\u001b[0m\n",
            "\u001b[2K     \u001b[90m━━━━━━━━━━━━━━━━━━━━━━━━━━━━━━━━━━━━━━━━\u001b[0m \u001b[32m82.1/82.1 kB\u001b[0m \u001b[31m10.6 MB/s\u001b[0m eta \u001b[36m0:00:00\u001b[0m\n",
            "\u001b[2K     \u001b[90m━━━━━━━━━━━━━━━━━━━━━━━━━━━━━━━━━━━━━━\u001b[0m \u001b[32m114.5/114.5 kB\u001b[0m \u001b[31m14.3 MB/s\u001b[0m eta \u001b[36m0:00:00\u001b[0m\n",
            "\u001b[2K     \u001b[90m━━━━━━━━━━━━━━━━━━━━━━━━━━━━━━━━━━━━━━\u001b[0m \u001b[32m268.8/268.8 kB\u001b[0m \u001b[31m32.5 MB/s\u001b[0m eta \u001b[36m0:00:00\u001b[0m\n",
            "\u001b[2K     \u001b[90m━━━━━━━━━━━━━━━━━━━━━━━━━━━━━━━━━━━━━━\u001b[0m \u001b[32m149.6/149.6 kB\u001b[0m \u001b[31m20.8 MB/s\u001b[0m eta \u001b[36m0:00:00\u001b[0m\n",
            "\u001b[2K     \u001b[90m━━━━━━━━━━━━━━━━━━━━━━━━━━━━━━━━━━━━━━━━\u001b[0m \u001b[32m62.7/62.7 kB\u001b[0m \u001b[31m8.1 MB/s\u001b[0m eta \u001b[36m0:00:00\u001b[0m\n",
            "\u001b[?25h  Building wheel for seqeval (setup.py) ... \u001b[?25l\u001b[?25hdone\n",
            "  Building wheel for validators (setup.py) ... \u001b[?25l\u001b[?25hdone\n",
            "  Building wheel for pathtools (setup.py) ... \u001b[?25l\u001b[?25hdone\n"
          ]
        }
      ]
    },
    {
      "cell_type": "markdown",
      "source": [
        "## Conversational.(Не рабочий вариант)\n",
        "Была идея разбить данныек для дообучения gpt предсказывать ответ для ответов с меткой ai. После этого сравнивать с уже готовым столбцом answer. Не получилось из-за нехватки знаний и времени."
      ],
      "metadata": {
        "id": "xa5bqKqEWpZn"
      }
    },
    {
      "cell_type": "code",
      "source": [
        "me_context = []\n",
        "ai_context = []\n",
        "questions = []\n",
        "\n",
        "for index, row in train_data.iterrows():\n",
        "  sentence = row['context']\n",
        "  me = sentence[:sentence.index('**Собеседник:**')]\n",
        "  ai = sentence[sentence.index('**Собеседник:**'):sentence[1:].index('**Вы:**')+1]\n",
        "  q = sentence[sentence[1:].index('**Вы:**'):]\n",
        "\n",
        "  me_context.append(me)\n",
        "  ai_context.append(ai)\n",
        "  questions.append(q)\n"
      ],
      "metadata": {
        "id": "fHM-y2PDaH6H"
      },
      "execution_count": null,
      "outputs": []
    },
    {
      "cell_type": "code",
      "source": [
        "train_data['me_context'] = me_context\n",
        "train_data['ai_context'] = ai_context\n",
        "train_data['question'] = questions\n",
        "train_data.head()"
      ],
      "metadata": {
        "colab": {
          "base_uri": "https://localhost:8080/",
          "height": 424
        },
        "id": "X9X9d1pFarSS",
        "outputId": "479f04f0-f886-4e16-bd89-aac0d49b1a29"
      },
      "execution_count": null,
      "outputs": [
        {
          "output_type": "execute_result",
          "data": {
            "text/plain": [
              "                                             context  \\\n",
              "0  **Вы:** Спасибо большое)).\\nКакую музыку слуша...   \n",
              "1  **Вы:** Я тоже не замужем. Ищу своего принца. ...   \n",
              "2  **Вы:** Ивановская область.\\n\\n**Собеседник:**...   \n",
              "3  **Вы:** Особенно чинить их.\\n\\n**Собеседник:**...   \n",
              "4  **Вы:** В свободное время.\\n\\n**Собеседник:** ...   \n",
              "\n",
              "                                              answer  label  answer_length  \\\n",
              "0  Ой, ну тогда давай я тебе порекомендую что-ниб...      0            331   \n",
              "1  Может быть и тихие, но совсем не мирные, могут...      1             80   \n",
              "2                          В деревне у меня на даче.      0             25   \n",
              "3       В доме - полный порядок, все на своем месте.      0             44   \n",
              "4       Да, я фотографирую, это моя страсть и хобби.      0             44   \n",
              "\n",
              "                                                text  \\\n",
              "0  **Вы:** Спасибо большое)).\\nКакую музыку слуша...   \n",
              "1  **Вы:** Я тоже не замужем. Ищу своего принца. ...   \n",
              "2  **Вы:** Ивановская область.\\n\\n**Собеседник:**...   \n",
              "3  **Вы:** Особенно чинить их.\\n\\n**Собеседник:**...   \n",
              "4  **Вы:** В свободное время.\\n\\n**Собеседник:** ...   \n",
              "\n",
              "                                          clean_text  \\\n",
              "0  спасибо большое какую музыку слушаешь собеседн...   \n",
              "1  замужем ищу своего принца пока толькоу замечат...   \n",
              "2  ивановская область собеседник понял москве люб...   \n",
              "3  особенно чинить собеседник люблю стиралки кари...   \n",
              "4  свободное время собеседник увлекаешься фотграф...   \n",
              "\n",
              "                                          me_context  \\\n",
              "0  **Вы:** Спасибо большое)).\\nКакую музыку слуша...   \n",
              "1  **Вы:** Я тоже не замужем. Ищу своего принца. ...   \n",
              "2                    **Вы:** Ивановская область.\\n\\n   \n",
              "3                    **Вы:** Особенно чинить их.\\n\\n   \n",
              "4                     **Вы:** В свободное время.\\n\\n   \n",
              "\n",
              "                                          ai_context  \\\n",
              "0  **Собеседник:** русский рэп в основном.\\nну та...   \n",
              "1  **Собеседник:** У меня дома живут только рыбки...   \n",
              "2          **Собеседник:** Понял.\\nА я в Москве.\\n\\n   \n",
              "3         **Собеседник:** И тоже люблю стиралки.\\n\\n   \n",
              "4            **Собеседник:** Чем ты увлекаешься?\\n\\n   \n",
              "\n",
              "                                            question  \n",
              "0                                \\n**Вы:** Эм..нет😱.  \n",
              "1  \\n**Вы:** Рыбки тихие и не причинят дискомфорт...  \n",
              "2            \\n**Вы:** Не люблю шум больших городов.  \n",
              "3  \\n**Вы:** Карих слишком много. Зеленые круто.\\...  \n",
              "4    \\n**Вы:** Ты фотграф.\\n?\\nЛюблю путешествовать?  "
            ],
            "text/html": [
              "\n",
              "  <div id=\"df-d760d81c-d894-422a-a436-345229587d20\">\n",
              "    <div class=\"colab-df-container\">\n",
              "      <div>\n",
              "<style scoped>\n",
              "    .dataframe tbody tr th:only-of-type {\n",
              "        vertical-align: middle;\n",
              "    }\n",
              "\n",
              "    .dataframe tbody tr th {\n",
              "        vertical-align: top;\n",
              "    }\n",
              "\n",
              "    .dataframe thead th {\n",
              "        text-align: right;\n",
              "    }\n",
              "</style>\n",
              "<table border=\"1\" class=\"dataframe\">\n",
              "  <thead>\n",
              "    <tr style=\"text-align: right;\">\n",
              "      <th></th>\n",
              "      <th>context</th>\n",
              "      <th>answer</th>\n",
              "      <th>label</th>\n",
              "      <th>answer_length</th>\n",
              "      <th>text</th>\n",
              "      <th>clean_text</th>\n",
              "      <th>me_context</th>\n",
              "      <th>ai_context</th>\n",
              "      <th>question</th>\n",
              "    </tr>\n",
              "  </thead>\n",
              "  <tbody>\n",
              "    <tr>\n",
              "      <th>0</th>\n",
              "      <td>**Вы:** Спасибо большое)).\\nКакую музыку слуша...</td>\n",
              "      <td>Ой, ну тогда давай я тебе порекомендую что-ниб...</td>\n",
              "      <td>0</td>\n",
              "      <td>331</td>\n",
              "      <td>**Вы:** Спасибо большое)).\\nКакую музыку слуша...</td>\n",
              "      <td>спасибо большое какую музыку слушаешь собеседн...</td>\n",
              "      <td>**Вы:** Спасибо большое)).\\nКакую музыку слуша...</td>\n",
              "      <td>**Собеседник:** русский рэп в основном.\\nну та...</td>\n",
              "      <td>\\n**Вы:** Эм..нет😱.</td>\n",
              "    </tr>\n",
              "    <tr>\n",
              "      <th>1</th>\n",
              "      <td>**Вы:** Я тоже не замужем. Ищу своего принца. ...</td>\n",
              "      <td>Может быть и тихие, но совсем не мирные, могут...</td>\n",
              "      <td>1</td>\n",
              "      <td>80</td>\n",
              "      <td>**Вы:** Я тоже не замужем. Ищу своего принца. ...</td>\n",
              "      <td>замужем ищу своего принца пока толькоу замечат...</td>\n",
              "      <td>**Вы:** Я тоже не замужем. Ищу своего принца. ...</td>\n",
              "      <td>**Собеседник:** У меня дома живут только рыбки...</td>\n",
              "      <td>\\n**Вы:** Рыбки тихие и не причинят дискомфорт...</td>\n",
              "    </tr>\n",
              "    <tr>\n",
              "      <th>2</th>\n",
              "      <td>**Вы:** Ивановская область.\\n\\n**Собеседник:**...</td>\n",
              "      <td>В деревне у меня на даче.</td>\n",
              "      <td>0</td>\n",
              "      <td>25</td>\n",
              "      <td>**Вы:** Ивановская область.\\n\\n**Собеседник:**...</td>\n",
              "      <td>ивановская область собеседник понял москве люб...</td>\n",
              "      <td>**Вы:** Ивановская область.\\n\\n</td>\n",
              "      <td>**Собеседник:** Понял.\\nА я в Москве.\\n\\n</td>\n",
              "      <td>\\n**Вы:** Не люблю шум больших городов.</td>\n",
              "    </tr>\n",
              "    <tr>\n",
              "      <th>3</th>\n",
              "      <td>**Вы:** Особенно чинить их.\\n\\n**Собеседник:**...</td>\n",
              "      <td>В доме - полный порядок, все на своем месте.</td>\n",
              "      <td>0</td>\n",
              "      <td>44</td>\n",
              "      <td>**Вы:** Особенно чинить их.\\n\\n**Собеседник:**...</td>\n",
              "      <td>особенно чинить собеседник люблю стиралки кари...</td>\n",
              "      <td>**Вы:** Особенно чинить их.\\n\\n</td>\n",
              "      <td>**Собеседник:** И тоже люблю стиралки.\\n\\n</td>\n",
              "      <td>\\n**Вы:** Карих слишком много. Зеленые круто.\\...</td>\n",
              "    </tr>\n",
              "    <tr>\n",
              "      <th>4</th>\n",
              "      <td>**Вы:** В свободное время.\\n\\n**Собеседник:** ...</td>\n",
              "      <td>Да, я фотографирую, это моя страсть и хобби.</td>\n",
              "      <td>0</td>\n",
              "      <td>44</td>\n",
              "      <td>**Вы:** В свободное время.\\n\\n**Собеседник:** ...</td>\n",
              "      <td>свободное время собеседник увлекаешься фотграф...</td>\n",
              "      <td>**Вы:** В свободное время.\\n\\n</td>\n",
              "      <td>**Собеседник:** Чем ты увлекаешься?\\n\\n</td>\n",
              "      <td>\\n**Вы:** Ты фотграф.\\n?\\nЛюблю путешествовать?</td>\n",
              "    </tr>\n",
              "  </tbody>\n",
              "</table>\n",
              "</div>\n",
              "      <button class=\"colab-df-convert\" onclick=\"convertToInteractive('df-d760d81c-d894-422a-a436-345229587d20')\"\n",
              "              title=\"Convert this dataframe to an interactive table.\"\n",
              "              style=\"display:none;\">\n",
              "        \n",
              "  <svg xmlns=\"http://www.w3.org/2000/svg\" height=\"24px\"viewBox=\"0 0 24 24\"\n",
              "       width=\"24px\">\n",
              "    <path d=\"M0 0h24v24H0V0z\" fill=\"none\"/>\n",
              "    <path d=\"M18.56 5.44l.94 2.06.94-2.06 2.06-.94-2.06-.94-.94-2.06-.94 2.06-2.06.94zm-11 1L8.5 8.5l.94-2.06 2.06-.94-2.06-.94L8.5 2.5l-.94 2.06-2.06.94zm10 10l.94 2.06.94-2.06 2.06-.94-2.06-.94-.94-2.06-.94 2.06-2.06.94z\"/><path d=\"M17.41 7.96l-1.37-1.37c-.4-.4-.92-.59-1.43-.59-.52 0-1.04.2-1.43.59L10.3 9.45l-7.72 7.72c-.78.78-.78 2.05 0 2.83L4 21.41c.39.39.9.59 1.41.59.51 0 1.02-.2 1.41-.59l7.78-7.78 2.81-2.81c.8-.78.8-2.07 0-2.86zM5.41 20L4 18.59l7.72-7.72 1.47 1.35L5.41 20z\"/>\n",
              "  </svg>\n",
              "      </button>\n",
              "      \n",
              "  <style>\n",
              "    .colab-df-container {\n",
              "      display:flex;\n",
              "      flex-wrap:wrap;\n",
              "      gap: 12px;\n",
              "    }\n",
              "\n",
              "    .colab-df-convert {\n",
              "      background-color: #E8F0FE;\n",
              "      border: none;\n",
              "      border-radius: 50%;\n",
              "      cursor: pointer;\n",
              "      display: none;\n",
              "      fill: #1967D2;\n",
              "      height: 32px;\n",
              "      padding: 0 0 0 0;\n",
              "      width: 32px;\n",
              "    }\n",
              "\n",
              "    .colab-df-convert:hover {\n",
              "      background-color: #E2EBFA;\n",
              "      box-shadow: 0px 1px 2px rgba(60, 64, 67, 0.3), 0px 1px 3px 1px rgba(60, 64, 67, 0.15);\n",
              "      fill: #174EA6;\n",
              "    }\n",
              "\n",
              "    [theme=dark] .colab-df-convert {\n",
              "      background-color: #3B4455;\n",
              "      fill: #D2E3FC;\n",
              "    }\n",
              "\n",
              "    [theme=dark] .colab-df-convert:hover {\n",
              "      background-color: #434B5C;\n",
              "      box-shadow: 0px 1px 3px 1px rgba(0, 0, 0, 0.15);\n",
              "      filter: drop-shadow(0px 1px 2px rgba(0, 0, 0, 0.3));\n",
              "      fill: #FFFFFF;\n",
              "    }\n",
              "  </style>\n",
              "\n",
              "      <script>\n",
              "        const buttonEl =\n",
              "          document.querySelector('#df-d760d81c-d894-422a-a436-345229587d20 button.colab-df-convert');\n",
              "        buttonEl.style.display =\n",
              "          google.colab.kernel.accessAllowed ? 'block' : 'none';\n",
              "\n",
              "        async function convertToInteractive(key) {\n",
              "          const element = document.querySelector('#df-d760d81c-d894-422a-a436-345229587d20');\n",
              "          const dataTable =\n",
              "            await google.colab.kernel.invokeFunction('convertToInteractive',\n",
              "                                                     [key], {});\n",
              "          if (!dataTable) return;\n",
              "\n",
              "          const docLinkHtml = 'Like what you see? Visit the ' +\n",
              "            '<a target=\"_blank\" href=https://colab.research.google.com/notebooks/data_table.ipynb>data table notebook</a>'\n",
              "            + ' to learn more about interactive tables.';\n",
              "          element.innerHTML = '';\n",
              "          dataTable['output_type'] = 'display_data';\n",
              "          await google.colab.output.renderOutput(dataTable, element);\n",
              "          const docLink = document.createElement('div');\n",
              "          docLink.innerHTML = docLinkHtml;\n",
              "          element.appendChild(docLink);\n",
              "        }\n",
              "      </script>\n",
              "    </div>\n",
              "  </div>\n",
              "  "
            ]
          },
          "metadata": {},
          "execution_count": 33
        }
      ]
    },
    {
      "cell_type": "markdown",
      "source": [
        "## CLF"
      ],
      "metadata": {
        "id": "6KuUT2ldWnCN"
      }
    },
    {
      "cell_type": "code",
      "source": [
        "train_data.head()"
      ],
      "metadata": {
        "colab": {
          "base_uri": "https://localhost:8080/",
          "height": 206
        },
        "id": "P7I4K6kiiR05",
        "outputId": "501f21d6-d0a5-4e6f-edaa-e969bb35a6b3"
      },
      "execution_count": null,
      "outputs": [
        {
          "output_type": "execute_result",
          "data": {
            "text/plain": [
              "                                             context  \\\n",
              "0  спасибо большое какую музыку слушаешь собеседн...   \n",
              "1  замужем ищу своего принца пока толькоу замечат...   \n",
              "2  ивановская область собеседник понял москве люб...   \n",
              "3  особенно чинить собеседник люблю стиралки кари...   \n",
              "4  свободное время собеседник увлекаешься фотграф...   \n",
              "\n",
              "                                              answer  label  answer_length  \\\n",
              "0  Ой, ну тогда давай я тебе порекомендую что-ниб...      0            331   \n",
              "1  Может быть и тихие, но совсем не мирные, могут...      1             80   \n",
              "2                          В деревне у меня на даче.      0             25   \n",
              "3       В доме - полный порядок, все на своем месте.      0             44   \n",
              "4       Да, я фотографирую, это моя страсть и хобби.      0             44   \n",
              "\n",
              "   clean_answer_length  \n",
              "0                  331  \n",
              "1                   80  \n",
              "2                   25  \n",
              "3                   44  \n",
              "4                   44  "
            ],
            "text/html": [
              "\n",
              "  <div id=\"df-56d77596-d149-43e0-9f22-1c9e4adcf209\">\n",
              "    <div class=\"colab-df-container\">\n",
              "      <div>\n",
              "<style scoped>\n",
              "    .dataframe tbody tr th:only-of-type {\n",
              "        vertical-align: middle;\n",
              "    }\n",
              "\n",
              "    .dataframe tbody tr th {\n",
              "        vertical-align: top;\n",
              "    }\n",
              "\n",
              "    .dataframe thead th {\n",
              "        text-align: right;\n",
              "    }\n",
              "</style>\n",
              "<table border=\"1\" class=\"dataframe\">\n",
              "  <thead>\n",
              "    <tr style=\"text-align: right;\">\n",
              "      <th></th>\n",
              "      <th>context</th>\n",
              "      <th>answer</th>\n",
              "      <th>label</th>\n",
              "      <th>answer_length</th>\n",
              "      <th>clean_answer_length</th>\n",
              "    </tr>\n",
              "  </thead>\n",
              "  <tbody>\n",
              "    <tr>\n",
              "      <th>0</th>\n",
              "      <td>спасибо большое какую музыку слушаешь собеседн...</td>\n",
              "      <td>Ой, ну тогда давай я тебе порекомендую что-ниб...</td>\n",
              "      <td>0</td>\n",
              "      <td>331</td>\n",
              "      <td>331</td>\n",
              "    </tr>\n",
              "    <tr>\n",
              "      <th>1</th>\n",
              "      <td>замужем ищу своего принца пока толькоу замечат...</td>\n",
              "      <td>Может быть и тихие, но совсем не мирные, могут...</td>\n",
              "      <td>1</td>\n",
              "      <td>80</td>\n",
              "      <td>80</td>\n",
              "    </tr>\n",
              "    <tr>\n",
              "      <th>2</th>\n",
              "      <td>ивановская область собеседник понял москве люб...</td>\n",
              "      <td>В деревне у меня на даче.</td>\n",
              "      <td>0</td>\n",
              "      <td>25</td>\n",
              "      <td>25</td>\n",
              "    </tr>\n",
              "    <tr>\n",
              "      <th>3</th>\n",
              "      <td>особенно чинить собеседник люблю стиралки кари...</td>\n",
              "      <td>В доме - полный порядок, все на своем месте.</td>\n",
              "      <td>0</td>\n",
              "      <td>44</td>\n",
              "      <td>44</td>\n",
              "    </tr>\n",
              "    <tr>\n",
              "      <th>4</th>\n",
              "      <td>свободное время собеседник увлекаешься фотграф...</td>\n",
              "      <td>Да, я фотографирую, это моя страсть и хобби.</td>\n",
              "      <td>0</td>\n",
              "      <td>44</td>\n",
              "      <td>44</td>\n",
              "    </tr>\n",
              "  </tbody>\n",
              "</table>\n",
              "</div>\n",
              "      <button class=\"colab-df-convert\" onclick=\"convertToInteractive('df-56d77596-d149-43e0-9f22-1c9e4adcf209')\"\n",
              "              title=\"Convert this dataframe to an interactive table.\"\n",
              "              style=\"display:none;\">\n",
              "        \n",
              "  <svg xmlns=\"http://www.w3.org/2000/svg\" height=\"24px\"viewBox=\"0 0 24 24\"\n",
              "       width=\"24px\">\n",
              "    <path d=\"M0 0h24v24H0V0z\" fill=\"none\"/>\n",
              "    <path d=\"M18.56 5.44l.94 2.06.94-2.06 2.06-.94-2.06-.94-.94-2.06-.94 2.06-2.06.94zm-11 1L8.5 8.5l.94-2.06 2.06-.94-2.06-.94L8.5 2.5l-.94 2.06-2.06.94zm10 10l.94 2.06.94-2.06 2.06-.94-2.06-.94-.94-2.06-.94 2.06-2.06.94z\"/><path d=\"M17.41 7.96l-1.37-1.37c-.4-.4-.92-.59-1.43-.59-.52 0-1.04.2-1.43.59L10.3 9.45l-7.72 7.72c-.78.78-.78 2.05 0 2.83L4 21.41c.39.39.9.59 1.41.59.51 0 1.02-.2 1.41-.59l7.78-7.78 2.81-2.81c.8-.78.8-2.07 0-2.86zM5.41 20L4 18.59l7.72-7.72 1.47 1.35L5.41 20z\"/>\n",
              "  </svg>\n",
              "      </button>\n",
              "      \n",
              "  <style>\n",
              "    .colab-df-container {\n",
              "      display:flex;\n",
              "      flex-wrap:wrap;\n",
              "      gap: 12px;\n",
              "    }\n",
              "\n",
              "    .colab-df-convert {\n",
              "      background-color: #E8F0FE;\n",
              "      border: none;\n",
              "      border-radius: 50%;\n",
              "      cursor: pointer;\n",
              "      display: none;\n",
              "      fill: #1967D2;\n",
              "      height: 32px;\n",
              "      padding: 0 0 0 0;\n",
              "      width: 32px;\n",
              "    }\n",
              "\n",
              "    .colab-df-convert:hover {\n",
              "      background-color: #E2EBFA;\n",
              "      box-shadow: 0px 1px 2px rgba(60, 64, 67, 0.3), 0px 1px 3px 1px rgba(60, 64, 67, 0.15);\n",
              "      fill: #174EA6;\n",
              "    }\n",
              "\n",
              "    [theme=dark] .colab-df-convert {\n",
              "      background-color: #3B4455;\n",
              "      fill: #D2E3FC;\n",
              "    }\n",
              "\n",
              "    [theme=dark] .colab-df-convert:hover {\n",
              "      background-color: #434B5C;\n",
              "      box-shadow: 0px 1px 3px 1px rgba(0, 0, 0, 0.15);\n",
              "      filter: drop-shadow(0px 1px 2px rgba(0, 0, 0, 0.3));\n",
              "      fill: #FFFFFF;\n",
              "    }\n",
              "  </style>\n",
              "\n",
              "      <script>\n",
              "        const buttonEl =\n",
              "          document.querySelector('#df-56d77596-d149-43e0-9f22-1c9e4adcf209 button.colab-df-convert');\n",
              "        buttonEl.style.display =\n",
              "          google.colab.kernel.accessAllowed ? 'block' : 'none';\n",
              "\n",
              "        async function convertToInteractive(key) {\n",
              "          const element = document.querySelector('#df-56d77596-d149-43e0-9f22-1c9e4adcf209');\n",
              "          const dataTable =\n",
              "            await google.colab.kernel.invokeFunction('convertToInteractive',\n",
              "                                                     [key], {});\n",
              "          if (!dataTable) return;\n",
              "\n",
              "          const docLinkHtml = 'Like what you see? Visit the ' +\n",
              "            '<a target=\"_blank\" href=https://colab.research.google.com/notebooks/data_table.ipynb>data table notebook</a>'\n",
              "            + ' to learn more about interactive tables.';\n",
              "          element.innerHTML = '';\n",
              "          dataTable['output_type'] = 'display_data';\n",
              "          await google.colab.output.renderOutput(dataTable, element);\n",
              "          const docLink = document.createElement('div');\n",
              "          docLink.innerHTML = docLinkHtml;\n",
              "          element.appendChild(docLink);\n",
              "        }\n",
              "      </script>\n",
              "    </div>\n",
              "  </div>\n",
              "  "
            ]
          },
          "metadata": {},
          "execution_count": 27
        }
      ]
    },
    {
      "cell_type": "code",
      "source": [
        "train_transformers = train_data.drop(['answer_length', 'clean_answer_length'], axis=1)\n",
        "\n",
        "train_transformers['context'] = train_transformers['context'] + train_transformers['answer']\n",
        "train_transformers = train_transformers.drop(['answer', ], axis=1)\n",
        "train_transformers.columns = ['text', 'label']\n",
        "train_transformers.head()"
      ],
      "metadata": {
        "colab": {
          "base_uri": "https://localhost:8080/",
          "height": 206
        },
        "id": "HXw97KKQ4YP4",
        "outputId": "8a640c97-f33c-4b68-f58a-df8944d490fd"
      },
      "execution_count": null,
      "outputs": [
        {
          "output_type": "execute_result",
          "data": {
            "text/plain": [
              "                                                text  label\n",
              "0  спасибо большое какую музыку слушаешь собеседн...      0\n",
              "1  замужем ищу своего принца пока толькоу замечат...      1\n",
              "2  ивановская область собеседник понял москве люб...      0\n",
              "3  особенно чинить собеседник люблю стиралки кари...      0\n",
              "4  свободное время собеседник увлекаешься фотграф...      0"
            ],
            "text/html": [
              "\n",
              "  <div id=\"df-4e581d78-7f1c-4bdf-8b9e-786372008283\">\n",
              "    <div class=\"colab-df-container\">\n",
              "      <div>\n",
              "<style scoped>\n",
              "    .dataframe tbody tr th:only-of-type {\n",
              "        vertical-align: middle;\n",
              "    }\n",
              "\n",
              "    .dataframe tbody tr th {\n",
              "        vertical-align: top;\n",
              "    }\n",
              "\n",
              "    .dataframe thead th {\n",
              "        text-align: right;\n",
              "    }\n",
              "</style>\n",
              "<table border=\"1\" class=\"dataframe\">\n",
              "  <thead>\n",
              "    <tr style=\"text-align: right;\">\n",
              "      <th></th>\n",
              "      <th>text</th>\n",
              "      <th>label</th>\n",
              "    </tr>\n",
              "  </thead>\n",
              "  <tbody>\n",
              "    <tr>\n",
              "      <th>0</th>\n",
              "      <td>спасибо большое какую музыку слушаешь собеседн...</td>\n",
              "      <td>0</td>\n",
              "    </tr>\n",
              "    <tr>\n",
              "      <th>1</th>\n",
              "      <td>замужем ищу своего принца пока толькоу замечат...</td>\n",
              "      <td>1</td>\n",
              "    </tr>\n",
              "    <tr>\n",
              "      <th>2</th>\n",
              "      <td>ивановская область собеседник понял москве люб...</td>\n",
              "      <td>0</td>\n",
              "    </tr>\n",
              "    <tr>\n",
              "      <th>3</th>\n",
              "      <td>особенно чинить собеседник люблю стиралки кари...</td>\n",
              "      <td>0</td>\n",
              "    </tr>\n",
              "    <tr>\n",
              "      <th>4</th>\n",
              "      <td>свободное время собеседник увлекаешься фотграф...</td>\n",
              "      <td>0</td>\n",
              "    </tr>\n",
              "  </tbody>\n",
              "</table>\n",
              "</div>\n",
              "      <button class=\"colab-df-convert\" onclick=\"convertToInteractive('df-4e581d78-7f1c-4bdf-8b9e-786372008283')\"\n",
              "              title=\"Convert this dataframe to an interactive table.\"\n",
              "              style=\"display:none;\">\n",
              "        \n",
              "  <svg xmlns=\"http://www.w3.org/2000/svg\" height=\"24px\"viewBox=\"0 0 24 24\"\n",
              "       width=\"24px\">\n",
              "    <path d=\"M0 0h24v24H0V0z\" fill=\"none\"/>\n",
              "    <path d=\"M18.56 5.44l.94 2.06.94-2.06 2.06-.94-2.06-.94-.94-2.06-.94 2.06-2.06.94zm-11 1L8.5 8.5l.94-2.06 2.06-.94-2.06-.94L8.5 2.5l-.94 2.06-2.06.94zm10 10l.94 2.06.94-2.06 2.06-.94-2.06-.94-.94-2.06-.94 2.06-2.06.94z\"/><path d=\"M17.41 7.96l-1.37-1.37c-.4-.4-.92-.59-1.43-.59-.52 0-1.04.2-1.43.59L10.3 9.45l-7.72 7.72c-.78.78-.78 2.05 0 2.83L4 21.41c.39.39.9.59 1.41.59.51 0 1.02-.2 1.41-.59l7.78-7.78 2.81-2.81c.8-.78.8-2.07 0-2.86zM5.41 20L4 18.59l7.72-7.72 1.47 1.35L5.41 20z\"/>\n",
              "  </svg>\n",
              "      </button>\n",
              "      \n",
              "  <style>\n",
              "    .colab-df-container {\n",
              "      display:flex;\n",
              "      flex-wrap:wrap;\n",
              "      gap: 12px;\n",
              "    }\n",
              "\n",
              "    .colab-df-convert {\n",
              "      background-color: #E8F0FE;\n",
              "      border: none;\n",
              "      border-radius: 50%;\n",
              "      cursor: pointer;\n",
              "      display: none;\n",
              "      fill: #1967D2;\n",
              "      height: 32px;\n",
              "      padding: 0 0 0 0;\n",
              "      width: 32px;\n",
              "    }\n",
              "\n",
              "    .colab-df-convert:hover {\n",
              "      background-color: #E2EBFA;\n",
              "      box-shadow: 0px 1px 2px rgba(60, 64, 67, 0.3), 0px 1px 3px 1px rgba(60, 64, 67, 0.15);\n",
              "      fill: #174EA6;\n",
              "    }\n",
              "\n",
              "    [theme=dark] .colab-df-convert {\n",
              "      background-color: #3B4455;\n",
              "      fill: #D2E3FC;\n",
              "    }\n",
              "\n",
              "    [theme=dark] .colab-df-convert:hover {\n",
              "      background-color: #434B5C;\n",
              "      box-shadow: 0px 1px 3px 1px rgba(0, 0, 0, 0.15);\n",
              "      filter: drop-shadow(0px 1px 2px rgba(0, 0, 0, 0.3));\n",
              "      fill: #FFFFFF;\n",
              "    }\n",
              "  </style>\n",
              "\n",
              "      <script>\n",
              "        const buttonEl =\n",
              "          document.querySelector('#df-4e581d78-7f1c-4bdf-8b9e-786372008283 button.colab-df-convert');\n",
              "        buttonEl.style.display =\n",
              "          google.colab.kernel.accessAllowed ? 'block' : 'none';\n",
              "\n",
              "        async function convertToInteractive(key) {\n",
              "          const element = document.querySelector('#df-4e581d78-7f1c-4bdf-8b9e-786372008283');\n",
              "          const dataTable =\n",
              "            await google.colab.kernel.invokeFunction('convertToInteractive',\n",
              "                                                     [key], {});\n",
              "          if (!dataTable) return;\n",
              "\n",
              "          const docLinkHtml = 'Like what you see? Visit the ' +\n",
              "            '<a target=\"_blank\" href=https://colab.research.google.com/notebooks/data_table.ipynb>data table notebook</a>'\n",
              "            + ' to learn more about interactive tables.';\n",
              "          element.innerHTML = '';\n",
              "          dataTable['output_type'] = 'display_data';\n",
              "          await google.colab.output.renderOutput(dataTable, element);\n",
              "          const docLink = document.createElement('div');\n",
              "          docLink.innerHTML = docLinkHtml;\n",
              "          element.appendChild(docLink);\n",
              "        }\n",
              "      </script>\n",
              "    </div>\n",
              "  </div>\n",
              "  "
            ]
          },
          "metadata": {},
          "execution_count": 32
        }
      ]
    },
    {
      "cell_type": "code",
      "source": [
        "from sklearn.model_selection import train_test_split\n",
        "train, eval = train_test_split(train_transformers, test_size=0.15, random_state=42)\n"
      ],
      "metadata": {
        "id": "ljpMTJUC5yTQ"
      },
      "execution_count": null,
      "outputs": []
    },
    {
      "cell_type": "code",
      "source": [
        "from simpletransformers.classification import ClassificationModel, ClassificationArgs\n",
        "from sklearn.metrics import f1_score\n",
        "\n",
        "model_args = ClassificationArgs(\n",
        "                                num_train_epochs=2,\n",
        "                                use_early_stopping = True,\n",
        "                                overwrite_output_dir=True,\n",
        "                                train_batch_size=8,\n",
        "                                eval_batch_size=8\n",
        "                                )\n",
        "\n",
        "pretrained_models = [\n",
        "                      [\"bert\", \"amberoad/bert-multilingual-passage-reranking-msmarco\"],\n",
        "                      [\"bert\", \"bert-base-multilingual-cased\"],\n",
        "                      [\"xlmroberta\", \"xlm-roberta-large\"],\n",
        "                      [\"xlmroberta\", \"papluca/xlm-roberta-base-language-detection\"]\n",
        "                    ]\n",
        "\n",
        "choice = 2\n",
        "\n",
        "model = ClassificationModel(\n",
        "    pretrained_models[choice][0], pretrained_models[choice][1], args=model_args\n",
        ")\n",
        "\n"
      ],
      "metadata": {
        "colab": {
          "base_uri": "https://localhost:8080/"
        },
        "id": "PJccyAV65aOE",
        "outputId": "98f8f638-385f-4ced-d336-263d8e31385a"
      },
      "execution_count": null,
      "outputs": [
        {
          "output_type": "stream",
          "name": "stderr",
          "text": [
            "Some weights of the model checkpoint at xlm-roberta-large were not used when initializing XLMRobertaForSequenceClassification: ['lm_head.layer_norm.bias', 'roberta.pooler.dense.weight', 'lm_head.layer_norm.weight', 'roberta.pooler.dense.bias', 'lm_head.bias', 'lm_head.dense.weight', 'lm_head.decoder.weight', 'lm_head.dense.bias']\n",
            "- This IS expected if you are initializing XLMRobertaForSequenceClassification from the checkpoint of a model trained on another task or with another architecture (e.g. initializing a BertForSequenceClassification model from a BertForPreTraining model).\n",
            "- This IS NOT expected if you are initializing XLMRobertaForSequenceClassification from the checkpoint of a model that you expect to be exactly identical (initializing a BertForSequenceClassification model from a BertForSequenceClassification model).\n",
            "Some weights of XLMRobertaForSequenceClassification were not initialized from the model checkpoint at xlm-roberta-large and are newly initialized: ['classifier.dense.bias', 'classifier.dense.weight', 'classifier.out_proj.bias', 'classifier.out_proj.weight']\n",
            "You should probably TRAIN this model on a down-stream task to be able to use it for predictions and inference.\n",
            "/usr/local/lib/python3.10/dist-packages/simpletransformers/classification/classification_model.py:486: UserWarning: use_multiprocessing automatically disabled as xlmroberta fails when using multiprocessing for feature conversion.\n",
            "  warnings.warn(\n"
          ]
        }
      ]
    },
    {
      "cell_type": "code",
      "source": [
        "# Train the model\n",
        "model.train_model(train, f1=f1_score)\n",
        "\n",
        "# Evaluate the model\n",
        "result, model_outputs, wrong_predictions = model.eval_model(eval, f1=f1_score)"
      ],
      "metadata": {
        "colab": {
          "base_uri": "https://localhost:8080/",
          "height": 266,
          "referenced_widgets": [
            "afd3349981aa428787957f3f966a32e6",
            "748efc5cb3d24020b53de851ae3eda50",
            "d7c8f01ea9664c20abb6ef420c6e03da",
            "522279e9707f42b79af2cc0732841ff3",
            "46beb302ec484c31a83a3db792bbb135",
            "282085e3c97f4c43b822c43eab3e4b34",
            "947a42fc061e43379b1a34d6b8355444",
            "62b8a687e93340429512a4bbf6fae5ed",
            "e910506bd5cf4cdda855f9e0013e2732",
            "9f4334800d8b49a5beb0cca10162778b",
            "bf6e4219ff7646589b1d4150508fef89",
            "263e8381009d437f8c6fae396c10b7c7",
            "c91a8d6184c4412f86828d81a11d67a6",
            "64c62893e78949b798b9deb7cc1aa6f2",
            "7c14795020994476a38dda86c37211c2",
            "49032965f2ea4ae79b2ac130cb5711aa",
            "19b405a9b371400a81b2329642e4c498",
            "52e4af9ed0b843b9a02761f40b7e44cc",
            "1ceece6085ea4c9691b5f1e0bca121e3",
            "1273b8e755ad41c3a8bda1df5076f043",
            "fd237ca04dd34ecd971fde81823b2479",
            "9d9fe9f5fed04278b5b7bbb1b304f2b0",
            "58144b14327343deb5fe9803cdd634b9",
            "a5b0e88f5ef442a2bbe8413ec9beb7fc",
            "026a1df3d8ff407b812e9bfeb933c52d",
            "2a071237a4a84b1fb1f669af6644adb3",
            "a3803525159e4471bd9f19fde265053c",
            "27b368f1e9174c9d96ae0150c7a0051a",
            "fc0a768add20467795a3f04821993a0b",
            "fa699ebd04c5414abc4b130e1066d744",
            "aded0ed34d8245508a963641b9c9f5f9",
            "47079542db67485382a4d78545318937",
            "89e20e4d598c4c47b1a71922b3b93257",
            "efded198ec6342048017bf2d772c1607",
            "db80bf98860c4d8ab56915e7dc2aa99f",
            "c5385aadd80944c2a951c2a8ec6da501",
            "b73710d2f7a54a168238144b16ed4e36",
            "409e28eb8498402c8ce978481d091f52",
            "d8912065d42f45aa83b9a6790ef7ce5a",
            "a335dfa9952144728f29f76777b1bb73",
            "14af0f5f43624cf48478d485c7e6cb4d",
            "a5a19b06a382474391b395ed894efcd0",
            "1eeb9b79a39241a5918edebee5121483",
            "cb315e11d8e6458dad1e97a7148285bb",
            "61f4e44e2e1c4c0a94a1abc5b4a369c8",
            "ff32158032bf445a83c62d9f261b2c53",
            "250123b049e94e2cbf7c08eaf2959cff",
            "350594765b3f4fcb8b1c05ea4a25cbef",
            "173b3bc317cf4af1a9370005cc468468",
            "3caec32acb4f4fc0bfd4bb0651fa556b",
            "e9ab144b162d470a807405689f2ae6f6",
            "1c2373d4387e43e3af9db867da6f3557",
            "971a0cb58daa45fd8bc000b6dca7611a",
            "d6498735e1824c2b85bfb5077bcb557e",
            "64539eda897744aab6cdb2eb56777963"
          ]
        },
        "id": "hxWGeO7HjjOx",
        "outputId": "73b97395-4c59-4093-d399-39a3768c19fc"
      },
      "execution_count": null,
      "outputs": [
        {
          "output_type": "stream",
          "name": "stderr",
          "text": [
            "/usr/local/lib/python3.10/dist-packages/simpletransformers/classification/classification_model.py:612: UserWarning: Dataframe headers not specified. Falling back to using column 0 as text and column 1 as labels.\n",
            "  warnings.warn(\n"
          ]
        },
        {
          "output_type": "display_data",
          "data": {
            "text/plain": [
              "Epoch:   0%|          | 0/2 [00:00<?, ?it/s]"
            ],
            "application/vnd.jupyter.widget-view+json": {
              "version_major": 2,
              "version_minor": 0,
              "model_id": "afd3349981aa428787957f3f966a32e6"
            }
          },
          "metadata": {}
        },
        {
          "output_type": "display_data",
          "data": {
            "text/plain": [
              "Running Epoch 0 of 2:   0%|          | 0/654 [00:00<?, ?it/s]"
            ],
            "application/vnd.jupyter.widget-view+json": {
              "version_major": 2,
              "version_minor": 0,
              "model_id": "263e8381009d437f8c6fae396c10b7c7"
            }
          },
          "metadata": {}
        },
        {
          "output_type": "display_data",
          "data": {
            "text/plain": [
              "Running Epoch 1 of 2:   0%|          | 0/654 [00:00<?, ?it/s]"
            ],
            "application/vnd.jupyter.widget-view+json": {
              "version_major": 2,
              "version_minor": 0,
              "model_id": "58144b14327343deb5fe9803cdd634b9"
            }
          },
          "metadata": {}
        },
        {
          "output_type": "stream",
          "name": "stderr",
          "text": [
            "/usr/local/lib/python3.10/dist-packages/simpletransformers/classification/classification_model.py:1454: UserWarning: Dataframe headers not specified. Falling back to using column 0 as text and column 1 as labels.\n",
            "  warnings.warn(\n"
          ]
        },
        {
          "output_type": "display_data",
          "data": {
            "text/plain": [
              "  0%|          | 0/923 [00:00<?, ?it/s]"
            ],
            "application/vnd.jupyter.widget-view+json": {
              "version_major": 2,
              "version_minor": 0,
              "model_id": "efded198ec6342048017bf2d772c1607"
            }
          },
          "metadata": {}
        },
        {
          "output_type": "display_data",
          "data": {
            "text/plain": [
              "Running Evaluation:   0%|          | 0/116 [00:00<?, ?it/s]"
            ],
            "application/vnd.jupyter.widget-view+json": {
              "version_major": 2,
              "version_minor": 0,
              "model_id": "61f4e44e2e1c4c0a94a1abc5b4a369c8"
            }
          },
          "metadata": {}
        }
      ]
    },
    {
      "cell_type": "code",
      "source": [
        "result"
      ],
      "metadata": {
        "id": "VHVMf1aq9bYK",
        "colab": {
          "base_uri": "https://localhost:8080/"
        },
        "outputId": "daf774d2-1eaf-46a0-cb3f-66c9c8d76a00"
      },
      "execution_count": null,
      "outputs": [
        {
          "output_type": "execute_result",
          "data": {
            "text/plain": [
              "{'mcc': 0.0,\n",
              " 'tp': 473,\n",
              " 'tn': 0,\n",
              " 'fp': 450,\n",
              " 'fn': 0,\n",
              " 'auroc': 0.5143199436222692,\n",
              " 'auprc': 0.5218267519661964,\n",
              " 'f1': 0.6776504297994269,\n",
              " 'eval_loss': 0.6925932785560345}"
            ]
          },
          "metadata": {},
          "execution_count": 48
        }
      ]
    },
    {
      "cell_type": "code",
      "source": [
        "f1_scores= [0.819,\n",
        "  0.842,\n",
        "  0.678,\n",
        "  0.837]\n",
        "\n",
        "metrics = pd.DataFrame({'models': [pretrained_models[i][1] for i in range(4)], 'result':[f1_scores[i] for i in range(4)]})\n"
      ],
      "metadata": {
        "id": "-qhKYXU4tiDe"
      },
      "execution_count": null,
      "outputs": []
    },
    {
      "cell_type": "code",
      "source": [
        "ax = metrics.plot.barh(x='models', y='result', ylim=(0.5,1))\n",
        "\n",
        "for container in ax.containers:\n",
        "    ax.bar_label(container)"
      ],
      "metadata": {
        "colab": {
          "base_uri": "https://localhost:8080/",
          "height": 430
        },
        "id": "BfRE2-C2-vmn",
        "outputId": "3fa07a71-9b36-436b-d330-979308e3a52e"
      },
      "execution_count": null,
      "outputs": [
        {
          "output_type": "display_data",
          "data": {
            "text/plain": [
              "<Figure size 640x480 with 1 Axes>"
            ],
            "image/png": "[encoded data removed]"
          },
          "metadata": {}
        }
      ]
    },
    {
      "cell_type": "markdown",
      "source": [
        "# inference"
      ],
      "metadata": {
        "id": "cIovFqE7SzPN"
      }
    },
    {
      "cell_type": "code",
      "source": [
        "test_data = pd.read_csv('private_test.csv')\n",
        "test_data.head()"
      ],
      "metadata": {
        "colab": {
          "base_uri": "https://localhost:8080/",
          "height": 206
        },
        "id": "RhdKsXwSSkej",
        "outputId": "bd7d5bd4-b677-4be1-b25b-7a74f723d2bf"
      },
      "execution_count": null,
      "outputs": [
        {
          "output_type": "execute_result",
          "data": {
            "text/plain": [
              "                                             context  \\\n",
              "0  **Вы:** Спасибо братан,тебя тоже!!!\\n\\n**Собес...   \n",
              "1  **Вы:** Кем работаешь??\\nЯ работаю косметолого...   \n",
              "2  **Вы:** Что читали из последнего?\\n\\n**Собесед...   \n",
              "3  **Вы:** Я мёдсистра, люблю путешествовать увле...   \n",
              "4  **Вы:** А ты чем-то увлекаешься кроме спорта.\\...   \n",
              "\n",
              "                                              answer  \n",
              "0  Краснодар - красивый город. Что тебе там больш...  \n",
              "1  Но не знаю, как правильно ухаживать за ними. Я...  \n",
              "2                                          Это жизнь  \n",
              "3     Живу в городе, но мечтаюо природе и своем доме  \n",
              "4                           Начать никогда не поздно  "
            ],
            "text/html": [
              "\n",
              "  <div id=\"df-3458ad0d-1c4e-403e-8878-3559b5ea627c\">\n",
              "    <div class=\"colab-df-container\">\n",
              "      <div>\n",
              "<style scoped>\n",
              "    .dataframe tbody tr th:only-of-type {\n",
              "        vertical-align: middle;\n",
              "    }\n",
              "\n",
              "    .dataframe tbody tr th {\n",
              "        vertical-align: top;\n",
              "    }\n",
              "\n",
              "    .dataframe thead th {\n",
              "        text-align: right;\n",
              "    }\n",
              "</style>\n",
              "<table border=\"1\" class=\"dataframe\">\n",
              "  <thead>\n",
              "    <tr style=\"text-align: right;\">\n",
              "      <th></th>\n",
              "      <th>context</th>\n",
              "      <th>answer</th>\n",
              "    </tr>\n",
              "  </thead>\n",
              "  <tbody>\n",
              "    <tr>\n",
              "      <th>0</th>\n",
              "      <td>**Вы:** Спасибо братан,тебя тоже!!!\\n\\n**Собес...</td>\n",
              "      <td>Краснодар - красивый город. Что тебе там больш...</td>\n",
              "    </tr>\n",
              "    <tr>\n",
              "      <th>1</th>\n",
              "      <td>**Вы:** Кем работаешь??\\nЯ работаю косметолого...</td>\n",
              "      <td>Но не знаю, как правильно ухаживать за ними. Я...</td>\n",
              "    </tr>\n",
              "    <tr>\n",
              "      <th>2</th>\n",
              "      <td>**Вы:** Что читали из последнего?\\n\\n**Собесед...</td>\n",
              "      <td>Это жизнь</td>\n",
              "    </tr>\n",
              "    <tr>\n",
              "      <th>3</th>\n",
              "      <td>**Вы:** Я мёдсистра, люблю путешествовать увле...</td>\n",
              "      <td>Живу в городе, но мечтаюо природе и своем доме</td>\n",
              "    </tr>\n",
              "    <tr>\n",
              "      <th>4</th>\n",
              "      <td>**Вы:** А ты чем-то увлекаешься кроме спорта.\\...</td>\n",
              "      <td>Начать никогда не поздно</td>\n",
              "    </tr>\n",
              "  </tbody>\n",
              "</table>\n",
              "</div>\n",
              "      <button class=\"colab-df-convert\" onclick=\"convertToInteractive('df-3458ad0d-1c4e-403e-8878-3559b5ea627c')\"\n",
              "              title=\"Convert this dataframe to an interactive table.\"\n",
              "              style=\"display:none;\">\n",
              "        \n",
              "  <svg xmlns=\"http://www.w3.org/2000/svg\" height=\"24px\"viewBox=\"0 0 24 24\"\n",
              "       width=\"24px\">\n",
              "    <path d=\"M0 0h24v24H0V0z\" fill=\"none\"/>\n",
              "    <path d=\"M18.56 5.44l.94 2.06.94-2.06 2.06-.94-2.06-.94-.94-2.06-.94 2.06-2.06.94zm-11 1L8.5 8.5l.94-2.06 2.06-.94-2.06-.94L8.5 2.5l-.94 2.06-2.06.94zm10 10l.94 2.06.94-2.06 2.06-.94-2.06-.94-.94-2.06-.94 2.06-2.06.94z\"/><path d=\"M17.41 7.96l-1.37-1.37c-.4-.4-.92-.59-1.43-.59-.52 0-1.04.2-1.43.59L10.3 9.45l-7.72 7.72c-.78.78-.78 2.05 0 2.83L4 21.41c.39.39.9.59 1.41.59.51 0 1.02-.2 1.41-.59l7.78-7.78 2.81-2.81c.8-.78.8-2.07 0-2.86zM5.41 20L4 18.59l7.72-7.72 1.47 1.35L5.41 20z\"/>\n",
              "  </svg>\n",
              "      </button>\n",
              "      \n",
              "  <style>\n",
              "    .colab-df-container {\n",
              "      display:flex;\n",
              "      flex-wrap:wrap;\n",
              "      gap: 12px;\n",
              "    }\n",
              "\n",
              "    .colab-df-convert {\n",
              "      background-color: #E8F0FE;\n",
              "      border: none;\n",
              "      border-radius: 50%;\n",
              "      cursor: pointer;\n",
              "      display: none;\n",
              "      fill: #1967D2;\n",
              "      height: 32px;\n",
              "      padding: 0 0 0 0;\n",
              "      width: 32px;\n",
              "    }\n",
              "\n",
              "    .colab-df-convert:hover {\n",
              "      background-color: #E2EBFA;\n",
              "      box-shadow: 0px 1px 2px rgba(60, 64, 67, 0.3), 0px 1px 3px 1px rgba(60, 64, 67, 0.15);\n",
              "      fill: #174EA6;\n",
              "    }\n",
              "\n",
              "    [theme=dark] .colab-df-convert {\n",
              "      background-color: #3B4455;\n",
              "      fill: #D2E3FC;\n",
              "    }\n",
              "\n",
              "    [theme=dark] .colab-df-convert:hover {\n",
              "      background-color: #434B5C;\n",
              "      box-shadow: 0px 1px 3px 1px rgba(0, 0, 0, 0.15);\n",
              "      filter: drop-shadow(0px 1px 2px rgba(0, 0, 0, 0.3));\n",
              "      fill: #FFFFFF;\n",
              "    }\n",
              "  </style>\n",
              "\n",
              "      <script>\n",
              "        const buttonEl =\n",
              "          document.querySelector('#df-3458ad0d-1c4e-403e-8878-3559b5ea627c button.colab-df-convert');\n",
              "        buttonEl.style.display =\n",
              "          google.colab.kernel.accessAllowed ? 'block' : 'none';\n",
              "\n",
              "        async function convertToInteractive(key) {\n",
              "          const element = document.querySelector('#df-3458ad0d-1c4e-403e-8878-3559b5ea627c');\n",
              "          const dataTable =\n",
              "            await google.colab.kernel.invokeFunction('convertToInteractive',\n",
              "                                                     [key], {});\n",
              "          if (!dataTable) return;\n",
              "\n",
              "          const docLinkHtml = 'Like what you see? Visit the ' +\n",
              "            '<a target=\"_blank\" href=https://colab.research.google.com/notebooks/data_table.ipynb>data table notebook</a>'\n",
              "            + ' to learn more about interactive tables.';\n",
              "          element.innerHTML = '';\n",
              "          dataTable['output_type'] = 'display_data';\n",
              "          await google.colab.output.renderOutput(dataTable, element);\n",
              "          const docLink = document.createElement('div');\n",
              "          docLink.innerHTML = docLinkHtml;\n",
              "          element.appendChild(docLink);\n",
              "        }\n",
              "      </script>\n",
              "    </div>\n",
              "  </div>\n",
              "  "
            ]
          },
          "metadata": {},
          "execution_count": 17
        }
      ]
    },
    {
      "cell_type": "code",
      "source": [
        "test_list = []\n",
        "\n",
        "for index, row in test_data.iterrows():\n",
        "  test_list.append(row['answer'])"
      ],
      "metadata": {
        "id": "7TPtmzoa9noA"
      },
      "execution_count": null,
      "outputs": []
    },
    {
      "cell_type": "code",
      "source": [
        "predictions, raw_outputs = model.predict(test_list)"
      ],
      "metadata": {
        "colab": {
          "base_uri": "https://localhost:8080/",
          "height": 81,
          "referenced_widgets": [
            "425ee3af3ed54242b97ce2cd76f82715",
            "9017c04dcbae40758b95387584589307",
            "5fe0c4974a344977b66be7b536ebe277",
            "c78748b129854f86b09a0692099e28e3",
            "8a0aaadf7b8742b6b6159153fd506c1f",
            "6fff2dc85a2349aebeae691a40eaa015",
            "28ca6a7879a946abb11b55016a6c7bb3",
            "b9c820f01edb4d2f959831b263a40278",
            "f2914f41b9844e478f2247626d2b15d9",
            "5680328200b249cd9756bcb5c4b7af79",
            "b542e07ea759465a900011095c8a1f96",
            "fc52f01579c3434c81b78fe946f54f88",
            "a3ec42d7ec754f089470c49021d1c20e",
            "51add46734a3441981a6262a488c4862",
            "ac9a4fc6f7a34dcf989657a595802aae",
            "5a1e3ce5074f4dfa85c840aeddf4ad79",
            "46cde724d17641bc906fd6ed4dbba07b",
            "95992d8bb2144c37ba65f910318e3bff",
            "afa581018bf6471abb5731e02ff640fd",
            "7ff7f736db214a93872b42e06f574281",
            "7a2b283411d2404e82216d7349e05fb8",
            "3d4a5e8f06d14d4e97ff34fc8080da94"
          ]
        },
        "id": "KrwtLsBh-EWJ",
        "outputId": "81067e91-21ae-40af-82c8-dee050146811"
      },
      "execution_count": null,
      "outputs": [
        {
          "output_type": "display_data",
          "data": {
            "text/plain": [
              "  0%|          | 0/2482 [00:00<?, ?it/s]"
            ],
            "application/vnd.jupyter.widget-view+json": {
              "version_major": 2,
              "version_minor": 0,
              "model_id": "425ee3af3ed54242b97ce2cd76f82715"
            }
          },
          "metadata": {}
        },
        {
          "output_type": "display_data",
          "data": {
            "text/plain": [
              "  0%|          | 0/311 [00:00<?, ?it/s]"
            ],
            "application/vnd.jupyter.widget-view+json": {
              "version_major": 2,
              "version_minor": 0,
              "model_id": "fc52f01579c3434c81b78fe946f54f88"
            }
          },
          "metadata": {}
        }
      ]
    },
    {
      "cell_type": "code",
      "source": [
        "# Для catboost\n",
        "\n",
        "#test_data['text'] = test_data['context'] + test_data['answer']\n",
        "#test_data['clean_text'] = test_data['text'].apply(clean_text)\n",
        "\n",
        "# predictions = model.predict(test_data.drop(['context', 'answer', 'text'], axis=1))"
      ],
      "metadata": {
        "id": "EO2c6od2S4Va"
      },
      "execution_count": null,
      "outputs": []
    },
    {
      "cell_type": "code",
      "source": [
        "sub_df = pd.DataFrame(predictions, columns=['label_num'])"
      ],
      "metadata": {
        "id": "c8z8C2IRTLee"
      },
      "execution_count": null,
      "outputs": []
    },
    {
      "cell_type": "code",
      "source": [
        "sub_df['label'] = sub_df['label_num'].apply(lambda x: 'people' if x == 1 else 'ai')"
      ],
      "metadata": {
        "id": "E6e3-fDvT5lI"
      },
      "execution_count": null,
      "outputs": []
    },
    {
      "cell_type": "code",
      "source": [
        "sub_df.drop(['label_num'], axis=1).to_csv('rucode_submission.csv', index = False)"
      ],
      "metadata": {
        "id": "3glphSDaT7K0"
      },
      "execution_count": null,
      "outputs": []
    },
    {
      "cell_type": "code",
      "source": [],
      "metadata": {
        "id": "BMBTJfXabwl5"
      },
      "execution_count": null,
      "outputs": []
    }
  ]
}